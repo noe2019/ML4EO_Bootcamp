{
 "cells": [
  {
   "cell_type": "markdown",
   "metadata": {},
   "source": [
    "## Step1:\n",
    "Create an excel file which contains the ward IDs"
   ]
  },
  {
   "cell_type": "code",
   "execution_count": 10,
   "metadata": {},
   "outputs": [],
   "source": [
    "# Import packages\n",
    "\n",
    "import os\n",
    "import glob\n",
    "import pandas as pd\n",
    "\n",
    "# Set the directory which contains the shapefiles\n",
    "\n",
    "os.chdir(\"/Users/noe/Documents/Data_science/Geospatial_DS/Rainfall_Data_Collection/SA_LEVEL4/\")\n",
    "\n",
    "# Extract the ward IDs from the ward shapefile names\n",
    "\n",
    "extension = 'shp'\n",
    "all_filenames = [i for i in glob.glob('*.{}'.format(extension))]\n",
    "\n",
    "IDS = []\n",
    "for i in all_filenames:\n",
    "    I = int(i.strip('ADM4_PCODE_ZA.shp'))\n",
    "    IDS.append(I)\n",
    "IDS = list(IDS)\n",
    "\n",
    "pd.DataFrame(IDS).to_excel('/Users/noe/Documents/Data_science/Geospatial_DS/Rainfall_Data_Collection/Excelfiles/WARD_ID.xlsx')"
   ]
  },
  {
   "cell_type": "markdown",
   "metadata": {},
   "source": [
    "## Step 2\n",
    "Open the saved excelfile"
   ]
  },
  {
   "cell_type": "code",
   "execution_count": 11,
   "metadata": {
    "id": "V376HkqQhW6y"
   },
   "outputs": [],
   "source": [
    "import pandas as pd\n",
    "IDSS = pd.read_excel('/Users/noe/Documents/Data_science/Geospatial_DS/Rainfall_Data_Collection/Excelfiles/WARD_ID.xlsx')\n",
    "IDSS = list(IDSS[0])\n",
    "col_names = [int(i) for i in IDSS]"
   ]
  },
  {
   "cell_type": "markdown",
   "metadata": {
    "colab": {
     "base_uri": "https://localhost:8080/"
    },
    "id": "vR3NdaMGhgUz",
    "outputId": "e6af38b0-109b-4672-d8af-3a55ce654b9d"
   },
   "source": [
    "## Step 3\n",
    "Connect to Google earth Engine"
   ]
  },
  {
   "cell_type": "code",
   "execution_count": 13,
   "metadata": {
    "id": "3RElVFqucqyg"
   },
   "outputs": [
    {
     "data": {
      "text/html": [
       "<p>To authorize access needed by Earth Engine, open the following\n",
       "        URL in a web browser and follow the instructions:</p>\n",
       "        <p><a href=https://accounts.google.com/o/oauth2/auth?client_id=517222506229-vsmmajv00ul0bs7p89v5m89qs8eb9359.apps.googleusercontent.com&scope=https%3A%2F%2Fwww.googleapis.com%2Fauth%2Fearthengine+https%3A%2F%2Fwww.googleapis.com%2Fauth%2Fdevstorage.full_control&redirect_uri=urn%3Aietf%3Awg%3Aoauth%3A2.0%3Aoob&response_type=code&code_challenge=9huDVefqruCVar_kmId1kFTFKIa6m3LRcGOqermO_VU&code_challenge_method=S256>https://accounts.google.com/o/oauth2/auth?client_id=517222506229-vsmmajv00ul0bs7p89v5m89qs8eb9359.apps.googleusercontent.com&scope=https%3A%2F%2Fwww.googleapis.com%2Fauth%2Fearthengine+https%3A%2F%2Fwww.googleapis.com%2Fauth%2Fdevstorage.full_control&redirect_uri=urn%3Aietf%3Awg%3Aoauth%3A2.0%3Aoob&response_type=code&code_challenge=9huDVefqruCVar_kmId1kFTFKIa6m3LRcGOqermO_VU&code_challenge_method=S256</a></p>\n",
       "        <p>The authorization workflow will generate a code, which you\n",
       "        should paste in the box below</p>\n",
       "        "
      ],
      "text/plain": [
       "<IPython.core.display.HTML object>"
      ]
     },
     "metadata": {},
     "output_type": "display_data"
    },
    {
     "name": "stdout",
     "output_type": "stream",
     "text": [
      "Enter verification code: 4/1AX4XfWhazEhJqHFVSJuoVMb2nIebuR25l1VFwuMRQXEdPXiZaFL6nHKws_0\n",
      "\n",
      "Successfully saved authorization token.\n"
     ]
    }
   ],
   "source": [
    "# import Google earth engine module\n",
    "import ee\n",
    "\n",
    "# Trigger the authentication flow.\n",
    "ee.Authenticate()\n",
    "\n",
    "#Authenticate the Google earth engine with google account\n",
    "ee.Initialize()"
   ]
  },
  {
   "cell_type": "markdown",
   "metadata": {
    "id": "s0atP6ahzfWX"
   },
   "source": [
    "## Step 4\n",
    "Install geemap and use the list of ward IDs to collect the rainfall data from CHIRPS."
   ]
  },
  {
   "cell_type": "code",
   "execution_count": 17,
   "metadata": {
    "collapsed": true
   },
   "outputs": [
    {
     "name": "stdout",
     "output_type": "stream",
     "text": [
      "Requirement already satisfied: geemap in /opt/anaconda3/lib/python3.8/site-packages (0.9.2)\n",
      "Requirement already satisfied: python-box in /opt/anaconda3/lib/python3.8/site-packages (from geemap) (5.4.1)\n",
      "Requirement already satisfied: pillow in /opt/anaconda3/lib/python3.8/site-packages (from geemap) (8.2.0)\n",
      "Requirement already satisfied: mss in /opt/anaconda3/lib/python3.8/site-packages (from geemap) (6.1.0)\n",
      "Requirement already satisfied: earthengine-api>=0.1.230 in /opt/anaconda3/lib/python3.8/site-packages (from geemap) (0.1.286)\n",
      "Requirement already satisfied: geojson in /opt/anaconda3/lib/python3.8/site-packages (from geemap) (2.5.0)\n",
      "Requirement already satisfied: geeadd>=0.5.1 in /opt/anaconda3/lib/python3.8/site-packages (from geemap) (0.5.5)\n",
      "Requirement already satisfied: click in /opt/anaconda3/lib/python3.8/site-packages (from geemap) (7.1.2)\n",
      "Requirement already satisfied: googledrivedownloader in /opt/anaconda3/lib/python3.8/site-packages (from geemap) (0.4)\n",
      "Requirement already satisfied: matplotlib in /opt/anaconda3/lib/python3.8/site-packages (from geemap) (3.3.4)\n",
      "Requirement already satisfied: ipyleaflet>=0.14.0 in /opt/anaconda3/lib/python3.8/site-packages (from geemap) (0.14.0)\n",
      "Requirement already satisfied: sankee in /opt/anaconda3/lib/python3.8/site-packages (from geemap) (0.0.5)\n",
      "Requirement already satisfied: voila in /opt/anaconda3/lib/python3.8/site-packages (from geemap) (0.2.16)\n",
      "Requirement already satisfied: geocoder in /opt/anaconda3/lib/python3.8/site-packages (from geemap) (1.38.1)\n",
      "Requirement already satisfied: ipynb-py-convert in /opt/anaconda3/lib/python3.8/site-packages (from geemap) (0.4.6)\n",
      "Requirement already satisfied: folium>=0.11.0 in /opt/anaconda3/lib/python3.8/site-packages (from geemap) (0.12.1.post1)\n",
      "Requirement already satisfied: pandas in /opt/anaconda3/lib/python3.8/site-packages (from geemap) (1.3.5)\n",
      "Requirement already satisfied: pycrs in /opt/anaconda3/lib/python3.8/site-packages (from geemap) (1.0.2)\n",
      "Requirement already satisfied: bqplot in /opt/anaconda3/lib/python3.8/site-packages (from geemap) (0.12.31)\n",
      "Requirement already satisfied: numpy in /opt/anaconda3/lib/python3.8/site-packages (from geemap) (1.22.1)\n",
      "Requirement already satisfied: ipytree in /opt/anaconda3/lib/python3.8/site-packages (from geemap) (0.2.1)\n",
      "Requirement already satisfied: ipyevents in /opt/anaconda3/lib/python3.8/site-packages (from geemap) (2.0.1)\n",
      "Requirement already satisfied: ffmpeg-python in /opt/anaconda3/lib/python3.8/site-packages (from geemap) (0.2.0)\n",
      "Requirement already satisfied: ipyfilechooser>=0.6.0 in /opt/anaconda3/lib/python3.8/site-packages (from geemap) (0.6.0)\n",
      "Requirement already satisfied: colour in /opt/anaconda3/lib/python3.8/site-packages (from geemap) (0.1.5)\n",
      "Requirement already satisfied: pyshp>=2.1.3 in /opt/anaconda3/lib/python3.8/site-packages (from geemap) (2.1.3)\n",
      "Requirement already satisfied: whiteboxgui>=0.6.0 in /opt/anaconda3/lib/python3.8/site-packages (from geemap) (0.6.0)\n",
      "Requirement already satisfied: google-cloud-storage in /opt/anaconda3/lib/python3.8/site-packages (from earthengine-api>=0.1.230->geemap) (1.42.3)\n",
      "Requirement already satisfied: httplib2shim in /opt/anaconda3/lib/python3.8/site-packages (from earthengine-api>=0.1.230->geemap) (0.0.3)\n",
      "Requirement already satisfied: future in /opt/anaconda3/lib/python3.8/site-packages (from earthengine-api>=0.1.230->geemap) (0.18.2)\n",
      "Requirement already satisfied: httplib2<1dev,>=0.9.2 in /opt/anaconda3/lib/python3.8/site-packages (from earthengine-api>=0.1.230->geemap) (0.20.1)\n",
      "Requirement already satisfied: google-auth-httplib2>=0.0.3 in /opt/anaconda3/lib/python3.8/site-packages (from earthengine-api>=0.1.230->geemap) (0.1.0)\n",
      "Requirement already satisfied: google-api-python-client<2,>=1.12.1 in /opt/anaconda3/lib/python3.8/site-packages (from earthengine-api>=0.1.230->geemap) (1.12.8)\n",
      "Requirement already satisfied: google-auth>=1.4.1 in /opt/anaconda3/lib/python3.8/site-packages (from earthengine-api>=0.1.230->geemap) (1.35.0)\n",
      "Requirement already satisfied: six in /opt/anaconda3/lib/python3.8/site-packages (from earthengine-api>=0.1.230->geemap) (1.16.0)\n",
      "Requirement already satisfied: jinja2>=2.9 in /opt/anaconda3/lib/python3.8/site-packages (from folium>=0.11.0->geemap) (2.11.3)\n",
      "Requirement already satisfied: branca>=0.3.0 in /opt/anaconda3/lib/python3.8/site-packages (from folium>=0.11.0->geemap) (0.4.2)\n",
      "Requirement already satisfied: requests in /opt/anaconda3/lib/python3.8/site-packages (from folium>=0.11.0->geemap) (2.25.1)\n",
      "Requirement already satisfied: beautifulsoup4>=4.9.0 in /opt/anaconda3/lib/python3.8/site-packages (from geeadd>=0.5.1->geemap) (4.9.3)\n",
      "Requirement already satisfied: logzero>=1.5.0 in /opt/anaconda3/lib/python3.8/site-packages (from geeadd>=0.5.1->geemap) (1.7.0)\n",
      "Requirement already satisfied: ipywidgets in /opt/anaconda3/lib/python3.8/site-packages (from ipyfilechooser>=0.6.0->geemap) (7.6.3)\n",
      "Requirement already satisfied: traittypes<3,>=0.2.1 in /opt/anaconda3/lib/python3.8/site-packages (from ipyleaflet>=0.14.0->geemap) (0.2.1)\n",
      "Requirement already satisfied: whitebox in /opt/anaconda3/lib/python3.8/site-packages (from whiteboxgui>=0.6.0->geemap) (2.0.3)\n",
      "Requirement already satisfied: traitlets>=4.3.0 in /opt/anaconda3/lib/python3.8/site-packages (from bqplot->geemap) (5.0.5)\n",
      "Requirement already satisfied: pytz>=2017.3 in /opt/anaconda3/lib/python3.8/site-packages (from pandas->geemap) (2021.3)\n",
      "Requirement already satisfied: python-dateutil>=2.7.3 in /opt/anaconda3/lib/python3.8/site-packages (from pandas->geemap) (2.8.2)\n",
      "Requirement already satisfied: ratelim in /opt/anaconda3/lib/python3.8/site-packages (from geocoder->geemap) (0.1.6)\n",
      "Requirement already satisfied: cycler>=0.10 in /opt/anaconda3/lib/python3.8/site-packages (from matplotlib->geemap) (0.10.0)\n",
      "Requirement already satisfied: pyparsing!=2.0.4,!=2.1.2,!=2.1.6,>=2.0.3 in /opt/anaconda3/lib/python3.8/site-packages (from matplotlib->geemap) (2.4.7)\n",
      "Requirement already satisfied: kiwisolver>=1.0.1 in /opt/anaconda3/lib/python3.8/site-packages (from matplotlib->geemap) (1.3.1)\n",
      "Requirement already satisfied: plotly in /opt/anaconda3/lib/python3.8/site-packages (from sankee->geemap) (5.3.1)\n",
      "Requirement already satisfied: ipykernel in /opt/anaconda3/lib/python3.8/site-packages (from sankee->geemap) (5.3.4)\n",
      "Requirement already satisfied: nbformat>=4.2.0 in /opt/anaconda3/lib/python3.8/site-packages (from sankee->geemap) (5.1.3)\n",
      "Requirement already satisfied: nbconvert<7,>=6.0.0 in /opt/anaconda3/lib/python3.8/site-packages (from voila->geemap) (6.0.7)\n",
      "Requirement already satisfied: nbclient<0.6,>=0.4.0 in /opt/anaconda3/lib/python3.8/site-packages (from voila->geemap) (0.5.3)\n",
      "Requirement already satisfied: jupyter-client<7,>=6.1.3 in /opt/anaconda3/lib/python3.8/site-packages (from voila->geemap) (6.1.12)\n",
      "Requirement already satisfied: jupyter-server<2.0.0,>=0.3.0 in /opt/anaconda3/lib/python3.8/site-packages (from voila->geemap) (1.4.1)\n",
      "Requirement already satisfied: soupsieve>1.2 in /opt/anaconda3/lib/python3.8/site-packages (from beautifulsoup4>=4.9.0->geeadd>=0.5.1->geemap) (2.2.1)\n",
      "Requirement already satisfied: google-api-core<2dev,>=1.21.0 in /opt/anaconda3/lib/python3.8/site-packages (from google-api-python-client<2,>=1.12.1->earthengine-api>=0.1.230->geemap) (1.31.3)\n",
      "Requirement already satisfied: uritemplate<4dev,>=3.0.0 in /opt/anaconda3/lib/python3.8/site-packages (from google-api-python-client<2,>=1.12.1->earthengine-api>=0.1.230->geemap) (3.0.1)\n",
      "Requirement already satisfied: cachetools<5.0,>=2.0.0 in /opt/anaconda3/lib/python3.8/site-packages (from google-auth>=1.4.1->earthengine-api>=0.1.230->geemap) (4.2.4)\n",
      "Requirement already satisfied: rsa<5,>=3.1.4 in /opt/anaconda3/lib/python3.8/site-packages (from google-auth>=1.4.1->earthengine-api>=0.1.230->geemap) (4.7.2)\n",
      "Requirement already satisfied: setuptools>=40.3.0 in /opt/anaconda3/lib/python3.8/site-packages (from google-auth>=1.4.1->earthengine-api>=0.1.230->geemap) (52.0.0.post20210125)\n",
      "Requirement already satisfied: pyasn1-modules>=0.2.1 in /opt/anaconda3/lib/python3.8/site-packages (from google-auth>=1.4.1->earthengine-api>=0.1.230->geemap) (0.2.8)\n",
      "Requirement already satisfied: widgetsnbextension~=3.5.0 in /opt/anaconda3/lib/python3.8/site-packages (from ipywidgets->ipyfilechooser>=0.6.0->geemap) (3.5.1)\n",
      "Requirement already satisfied: jupyterlab-widgets>=1.0.0 in /opt/anaconda3/lib/python3.8/site-packages (from ipywidgets->ipyfilechooser>=0.6.0->geemap) (1.0.0)\n",
      "Requirement already satisfied: ipython>=4.0.0 in /opt/anaconda3/lib/python3.8/site-packages (from ipywidgets->ipyfilechooser>=0.6.0->geemap) (7.22.0)\n",
      "Requirement already satisfied: appnope in /opt/anaconda3/lib/python3.8/site-packages (from ipykernel->sankee->geemap) (0.1.2)\n",
      "Requirement already satisfied: tornado>=4.2 in /opt/anaconda3/lib/python3.8/site-packages (from ipykernel->sankee->geemap) (6.1)\n"
     ]
    },
    {
     "name": "stdout",
     "output_type": "stream",
     "text": [
      "Requirement already satisfied: MarkupSafe>=0.23 in /opt/anaconda3/lib/python3.8/site-packages (from jinja2>=2.9->folium>=0.11.0->geemap) (1.1.1)\n",
      "Requirement already satisfied: jupyter-core>=4.6.0 in /opt/anaconda3/lib/python3.8/site-packages (from jupyter-client<7,>=6.1.3->voila->geemap) (4.7.1)\n",
      "Requirement already satisfied: pyzmq>=13 in /opt/anaconda3/lib/python3.8/site-packages (from jupyter-client<7,>=6.1.3->voila->geemap) (20.0.0)\n",
      "Requirement already satisfied: Send2Trash in /opt/anaconda3/lib/python3.8/site-packages (from jupyter-server<2.0.0,>=0.3.0->voila->geemap) (1.5.0)\n",
      "Requirement already satisfied: terminado>=0.8.3 in /opt/anaconda3/lib/python3.8/site-packages (from jupyter-server<2.0.0,>=0.3.0->voila->geemap) (0.9.4)\n",
      "Requirement already satisfied: anyio>=2.0.2 in /opt/anaconda3/lib/python3.8/site-packages (from jupyter-server<2.0.0,>=0.3.0->voila->geemap) (2.2.0)\n",
      "Requirement already satisfied: ipython-genutils in /opt/anaconda3/lib/python3.8/site-packages (from jupyter-server<2.0.0,>=0.3.0->voila->geemap) (0.2.0)\n",
      "Requirement already satisfied: prometheus-client in /opt/anaconda3/lib/python3.8/site-packages (from jupyter-server<2.0.0,>=0.3.0->voila->geemap) (0.10.1)\n",
      "Requirement already satisfied: async-generator in /opt/anaconda3/lib/python3.8/site-packages (from nbclient<0.6,>=0.4.0->voila->geemap) (1.10)\n",
      "Requirement already satisfied: nest-asyncio in /opt/anaconda3/lib/python3.8/site-packages (from nbclient<0.6,>=0.4.0->voila->geemap) (1.5.1)\n",
      "Requirement already satisfied: mistune<2,>=0.8.1 in /opt/anaconda3/lib/python3.8/site-packages (from nbconvert<7,>=6.0.0->voila->geemap) (0.8.4)\n",
      "Requirement already satisfied: bleach in /opt/anaconda3/lib/python3.8/site-packages (from nbconvert<7,>=6.0.0->voila->geemap) (3.3.0)\n",
      "Requirement already satisfied: testpath in /opt/anaconda3/lib/python3.8/site-packages (from nbconvert<7,>=6.0.0->voila->geemap) (0.4.4)\n",
      "Requirement already satisfied: pandocfilters>=1.4.1 in /opt/anaconda3/lib/python3.8/site-packages (from nbconvert<7,>=6.0.0->voila->geemap) (1.4.3)\n",
      "Requirement already satisfied: entrypoints>=0.2.2 in /opt/anaconda3/lib/python3.8/site-packages (from nbconvert<7,>=6.0.0->voila->geemap) (0.3)\n",
      "Requirement already satisfied: defusedxml in /opt/anaconda3/lib/python3.8/site-packages (from nbconvert<7,>=6.0.0->voila->geemap) (0.7.1)\n",
      "Requirement already satisfied: jupyterlab-pygments in /opt/anaconda3/lib/python3.8/site-packages (from nbconvert<7,>=6.0.0->voila->geemap) (0.1.2)\n",
      "Requirement already satisfied: pygments>=2.4.1 in /opt/anaconda3/lib/python3.8/site-packages (from nbconvert<7,>=6.0.0->voila->geemap) (2.8.1)\n",
      "Requirement already satisfied: jsonschema!=2.5.0,>=2.4 in /opt/anaconda3/lib/python3.8/site-packages (from nbformat>=4.2.0->sankee->geemap) (3.2.0)\n",
      "Requirement already satisfied: chardet<5,>=3.0.2 in /opt/anaconda3/lib/python3.8/site-packages (from requests->folium>=0.11.0->geemap) (4.0.0)\n",
      "Requirement already satisfied: urllib3<1.27,>=1.21.1 in /opt/anaconda3/lib/python3.8/site-packages (from requests->folium>=0.11.0->geemap) (1.26.4)\n",
      "Requirement already satisfied: idna<3,>=2.5 in /opt/anaconda3/lib/python3.8/site-packages (from requests->folium>=0.11.0->geemap) (2.10)\n",
      "Requirement already satisfied: certifi>=2017.4.17 in /opt/anaconda3/lib/python3.8/site-packages (from requests->folium>=0.11.0->geemap) (2021.10.8)\n",
      "Requirement already satisfied: google-resumable-media<3.0dev,>=1.3.0 in /opt/anaconda3/lib/python3.8/site-packages (from google-cloud-storage->earthengine-api>=0.1.230->geemap) (2.0.3)\n",
      "Requirement already satisfied: google-cloud-core<3.0dev,>=1.6.0 in /opt/anaconda3/lib/python3.8/site-packages (from google-cloud-storage->earthengine-api>=0.1.230->geemap) (2.1.0)\n",
      "Requirement already satisfied: protobuf in /opt/anaconda3/lib/python3.8/site-packages (from google-cloud-storage->earthengine-api>=0.1.230->geemap) (3.17.3)\n",
      "Requirement already satisfied: tenacity>=6.2.0 in /opt/anaconda3/lib/python3.8/site-packages (from plotly->sankee->geemap) (8.0.1)\n",
      "Requirement already satisfied: decorator in /opt/anaconda3/lib/python3.8/site-packages (from ratelim->geocoder->geemap) (5.0.6)\n",
      "Requirement already satisfied: sniffio>=1.1 in /opt/anaconda3/lib/python3.8/site-packages (from anyio>=2.0.2->jupyter-server<2.0.0,>=0.3.0->voila->geemap) (1.2.0)\n",
      "Requirement already satisfied: googleapis-common-protos<2.0dev,>=1.6.0 in /opt/anaconda3/lib/python3.8/site-packages (from google-api-core<2dev,>=1.21.0->google-api-python-client<2,>=1.12.1->earthengine-api>=0.1.230->geemap) (1.53.0)\n",
      "Requirement already satisfied: packaging>=14.3 in /opt/anaconda3/lib/python3.8/site-packages (from google-api-core<2dev,>=1.21.0->google-api-python-client<2,>=1.12.1->earthengine-api>=0.1.230->geemap) (20.9)\n",
      "Requirement already satisfied: google-crc32c<2.0dev,>=1.0 in /opt/anaconda3/lib/python3.8/site-packages (from google-resumable-media<3.0dev,>=1.3.0->google-cloud-storage->earthengine-api>=0.1.230->geemap) (1.3.0)\n",
      "Requirement already satisfied: pexpect>4.3 in /opt/anaconda3/lib/python3.8/site-packages (from ipython>=4.0.0->ipywidgets->ipyfilechooser>=0.6.0->geemap) (4.8.0)\n",
      "Requirement already satisfied: jedi>=0.16 in /opt/anaconda3/lib/python3.8/site-packages (from ipython>=4.0.0->ipywidgets->ipyfilechooser>=0.6.0->geemap) (0.17.2)\n",
      "Requirement already satisfied: pickleshare in /opt/anaconda3/lib/python3.8/site-packages (from ipython>=4.0.0->ipywidgets->ipyfilechooser>=0.6.0->geemap) (0.7.5)\n",
      "Requirement already satisfied: prompt-toolkit!=3.0.0,!=3.0.1,<3.1.0,>=2.0.0 in /opt/anaconda3/lib/python3.8/site-packages (from ipython>=4.0.0->ipywidgets->ipyfilechooser>=0.6.0->geemap) (3.0.17)\n",
      "Requirement already satisfied: backcall in /opt/anaconda3/lib/python3.8/site-packages (from ipython>=4.0.0->ipywidgets->ipyfilechooser>=0.6.0->geemap) (0.2.0)\n",
      "Requirement already satisfied: pyrsistent>=0.14.0 in /opt/anaconda3/lib/python3.8/site-packages (from jsonschema!=2.5.0,>=2.4->nbformat>=4.2.0->sankee->geemap) (0.17.3)\n",
      "Requirement already satisfied: attrs>=17.4.0 in /opt/anaconda3/lib/python3.8/site-packages (from jsonschema!=2.5.0,>=2.4->nbformat>=4.2.0->sankee->geemap) (20.3.0)\n",
      "Requirement already satisfied: pyasn1<0.5.0,>=0.4.6 in /opt/anaconda3/lib/python3.8/site-packages (from pyasn1-modules>=0.2.1->google-auth>=1.4.1->earthengine-api>=0.1.230->geemap) (0.4.8)\n",
      "Requirement already satisfied: ptyprocess in /opt/anaconda3/lib/python3.8/site-packages (from terminado>=0.8.3->jupyter-server<2.0.0,>=0.3.0->voila->geemap) (0.7.0)\n",
      "Requirement already satisfied: notebook>=4.4.1 in /opt/anaconda3/lib/python3.8/site-packages (from widgetsnbextension~=3.5.0->ipywidgets->ipyfilechooser>=0.6.0->geemap) (6.3.0)\n",
      "Requirement already satisfied: webencodings in /opt/anaconda3/lib/python3.8/site-packages (from bleach->nbconvert<7,>=6.0.0->voila->geemap) (0.5.1)\n",
      "Requirement already satisfied: parso<0.8.0,>=0.7.0 in /opt/anaconda3/lib/python3.8/site-packages (from jedi>=0.16->ipython>=4.0.0->ipywidgets->ipyfilechooser>=0.6.0->geemap) (0.7.0)\n",
      "Requirement already satisfied: argon2-cffi in /opt/anaconda3/lib/python3.8/site-packages (from notebook>=4.4.1->widgetsnbextension~=3.5.0->ipywidgets->ipyfilechooser>=0.6.0->geemap) (20.1.0)\n",
      "Requirement already satisfied: wcwidth in /opt/anaconda3/lib/python3.8/site-packages (from prompt-toolkit!=3.0.0,!=3.0.1,<3.1.0,>=2.0.0->ipython>=4.0.0->ipywidgets->ipyfilechooser>=0.6.0->geemap) (0.2.5)\n",
      "Requirement already satisfied: cffi>=1.0.0 in /opt/anaconda3/lib/python3.8/site-packages (from argon2-cffi->notebook>=4.4.1->widgetsnbextension~=3.5.0->ipywidgets->ipyfilechooser>=0.6.0->geemap) (1.14.5)\n",
      "Requirement already satisfied: pycparser in /opt/anaconda3/lib/python3.8/site-packages (from cffi>=1.0.0->argon2-cffi->notebook>=4.4.1->widgetsnbextension~=3.5.0->ipywidgets->ipyfilechooser>=0.6.0->geemap) (2.20)\n"
     ]
    }
   ],
   "source": [
    "!pip install geemap\n",
    "import geemap"
   ]
  },
  {
   "cell_type": "code",
   "execution_count": 18,
   "metadata": {},
   "outputs": [
    {
     "name": "stdout",
     "output_type": "stream",
     "text": [
      "/Users/noe/Documents/Data_science/Geospatial_DS/Rainfall_Data_Collection/SA_LEVEL4\r\n"
     ]
    }
   ],
   "source": [
    "!pwd"
   ]
  },
  {
   "cell_type": "markdown",
   "metadata": {},
   "source": [
    "## Step 5\n",
    "Choose one ward and test the data collection for one ward"
   ]
  },
  {
   "cell_type": "code",
   "execution_count": 21,
   "metadata": {},
   "outputs": [
    {
     "data": {
      "text/plain": [
       "6372040"
      ]
     },
     "execution_count": 21,
     "metadata": {},
     "output_type": "execute_result"
    }
   ],
   "source": [
    "col_names[2]"
   ]
  },
  {
   "cell_type": "code",
   "execution_count": 27,
   "metadata": {
    "collapsed": true
   },
   "outputs": [
    {
     "ename": "ValueError",
     "evalue": "DataFrame constructor not properly called!",
     "output_type": "error",
     "traceback": [
      "\u001b[0;31m---------------------------------------------------------------------------\u001b[0m",
      "\u001b[0;31mValueError\u001b[0m                                Traceback (most recent call last)",
      "\u001b[0;32m<ipython-input-27-f6a1a9706783>\u001b[0m in \u001b[0;36m<module>\u001b[0;34m\u001b[0m\n\u001b[1;32m     31\u001b[0m \u001b[0mtask\u001b[0m\u001b[0;34m.\u001b[0m\u001b[0mstart\u001b[0m\u001b[0;34m(\u001b[0m\u001b[0;34m)\u001b[0m\u001b[0;34m\u001b[0m\u001b[0;34m\u001b[0m\u001b[0m\n\u001b[1;32m     32\u001b[0m \u001b[0;31m#To export to excel\u001b[0m\u001b[0;34m\u001b[0m\u001b[0;34m\u001b[0m\u001b[0;34m\u001b[0m\u001b[0m\n\u001b[0;32m---> 33\u001b[0;31m \u001b[0mpd\u001b[0m\u001b[0;34m.\u001b[0m\u001b[0mDataFrame\u001b[0m\u001b[0;34m(\u001b[0m\u001b[0mee\u001b[0m\u001b[0;34m.\u001b[0m\u001b[0mFeatureCollection\u001b[0m\u001b[0;34m(\u001b[0m\u001b[0mrainfallYears\u001b[0m\u001b[0;34m)\u001b[0m\u001b[0;34m)\u001b[0m\u001b[0;34m.\u001b[0m\u001b[0mto_excel\u001b[0m\u001b[0;34m(\u001b[0m\u001b[0;34mr'C:\\Users\\noe\\Documents\\PostDoc\\data2\\rainfallYears.xlsx'\u001b[0m\u001b[0;34m)\u001b[0m\u001b[0;34m\u001b[0m\u001b[0;34m\u001b[0m\u001b[0m\n\u001b[0m",
      "\u001b[0;32m/opt/anaconda3/lib/python3.8/site-packages/pandas/core/frame.py\u001b[0m in \u001b[0;36m__init__\u001b[0;34m(self, data, index, columns, dtype, copy)\u001b[0m\n\u001b[1;32m    728\u001b[0m         \u001b[0;32melse\u001b[0m\u001b[0;34m:\u001b[0m\u001b[0;34m\u001b[0m\u001b[0;34m\u001b[0m\u001b[0m\n\u001b[1;32m    729\u001b[0m             \u001b[0;32mif\u001b[0m \u001b[0mindex\u001b[0m \u001b[0;32mis\u001b[0m \u001b[0;32mNone\u001b[0m \u001b[0;32mor\u001b[0m \u001b[0mcolumns\u001b[0m \u001b[0;32mis\u001b[0m \u001b[0;32mNone\u001b[0m\u001b[0;34m:\u001b[0m\u001b[0;34m\u001b[0m\u001b[0;34m\u001b[0m\u001b[0m\n\u001b[0;32m--> 730\u001b[0;31m                 \u001b[0;32mraise\u001b[0m \u001b[0mValueError\u001b[0m\u001b[0;34m(\u001b[0m\u001b[0;34m\"DataFrame constructor not properly called!\"\u001b[0m\u001b[0;34m)\u001b[0m\u001b[0;34m\u001b[0m\u001b[0;34m\u001b[0m\u001b[0m\n\u001b[0m\u001b[1;32m    731\u001b[0m \u001b[0;34m\u001b[0m\u001b[0m\n\u001b[1;32m    732\u001b[0m             \u001b[0;31m# Argument 1 to \"ensure_index\" has incompatible type \"Collection[Any]\";\u001b[0m\u001b[0;34m\u001b[0m\u001b[0;34m\u001b[0m\u001b[0;34m\u001b[0m\u001b[0m\n",
      "\u001b[0;31mValueError\u001b[0m: DataFrame constructor not properly called!"
     ]
    }
   ],
   "source": [
    "chirps = ee.ImageCollection(\"UCSB-CHG/CHIRPS/DAILY\")\n",
    "table = geemap.shp_to_ee(\"/Users/noe/Documents/Data_science/Geospatial_DS/Rainfall_Data_Collection/SA_LEVEL4/ADM4_PCODE_ZA6372040.shp\")\n",
    "  \n",
    "def yearlyRainfall(year):\n",
    "    startDate = ee.Date.fromYMD(year, 1, 1)\n",
    "    endDate   = startDate.advance(1, 'year')\n",
    "    filtered  = chirps.filter(ee.Filter.date(startDate, endDate))\n",
    "    total     = filtered.reduce(ee.Reducer.sum())\n",
    "    stats     = total.reduceRegion(**{\n",
    "      'reducer': ee.Reducer.mean(),\n",
    "      'geometry': table,\n",
    "      'scale': 5000,\n",
    "    })\n",
    "\n",
    "    f = ee.Feature(None, {\n",
    "      'year': year,\n",
    "      'precipitation': stats.get('precipitation_sum')\n",
    "    })\n",
    "    return f\n",
    "\n",
    "years = ee.List.sequence(1981, 2021)\n",
    "rainfallYears = ee.FeatureCollection(\n",
    "years.map(yearlyRainfall))\n",
    "\n",
    "# Save the rainfallYears in google drive as csv files\n",
    "\n",
    "task = ee.batch.Export.table.toDrive(**{\n",
    "'collection': ee.FeatureCollection(rainfallYears),\n",
    "'folder': 'Rainfall2',\n",
    "'description': '6372040',\n",
    "'fileFormat': 'CSV'}) \n",
    "task.start()\n",
    "\n",
    "# Alternatively export rainfallYears to excel and save in a folder in local machine\n",
    "\n",
    "prec = []\n",
    "for i in range(41):\n",
    "    prec.append(ee.FeatureCollection(rainfallYears).getInfo()['features'][i]['properties']['precipitation'])\n",
    "pd.DataFrame(prec).to_excel('/Users/noe/Documents/Data_science/Geospatial_DS/Rainfall_Data_Collection/chirps/6372040.xlsx')"
   ]
  },
  {
   "cell_type": "markdown",
   "metadata": {},
   "source": [
    "## Step 6\n",
    "Loop through all wards to collect the chirps data for the whole country"
   ]
  },
  {
   "cell_type": "code",
   "execution_count": 37,
   "metadata": {
    "id": "qHjtbdKGhO5Z"
   },
   "outputs": [],
   "source": [
    "chirps = ee.ImageCollection(\"UCSB-CHG/CHIRPS/DAILY\")\n",
    "for i in col_names:\n",
    "    \n",
    "    table = geemap.shp_to_ee(\"/Users/noe/Documents/Data_science/Geospatial_DS/Rainfall_Data_Collection/SA_LEVEL4/ADM4_PCODE_ZA\"+str(i)+\".shp\")\n",
    "    \n",
    "    def yearlyRainfall(year):\n",
    "        startDate = ee.Date.fromYMD(year, 1, 1)\n",
    "        endDate   = startDate.advance(1, 'year')\n",
    "        filtered  = chirps.filter(ee.Filter.date(startDate, endDate))\n",
    "        total     = filtered.reduce(ee.Reducer.sum())\n",
    "        stats     = total.reduceRegion(**{\n",
    "          'reducer': ee.Reducer.mean(),\n",
    "          'geometry': table,\n",
    "          'scale': 5000,\n",
    "        })\n",
    "\n",
    "        f = ee.Feature(None, {\n",
    "          'year': year,\n",
    "          'precipitation': stats.get('precipitation_sum')\n",
    "        })\n",
    "        return f\n",
    "\n",
    "    years = ee.List.sequence(1981, 2021)\n",
    "    rainfallYears = ee.FeatureCollection(\n",
    "    years.map(yearlyRainfall))\n",
    "\n",
    "    # Save the rainfallYears in google drive as csv files\n",
    "    \n",
    "    task = ee.batch.Export.table.toDrive(**{\n",
    "    'collection': ee.FeatureCollection(rainfallYears),\n",
    "    'folder': 'Rainfall',\n",
    "    'description': str(i),\n",
    "    'fileFormat': 'CSV'}) \n",
    "    task.start()\n",
    "    \n",
    "    # Alternatively export rainfallYears to excel and save in a folder in local machine\n",
    "\n",
    "    prec = []\n",
    "    for i in range(41):\n",
    "        prec.append(ee.FeatureCollection(rainfallYears).getInfo()['features'][i]['properties']['precipitation'])\n",
    "    pd.DataFrame(prec).to_excel('/Users/noe/Documents/Data_science/Geospatial_DS/Rainfall_Data_Collection/chirps/'+str(i)+'.xlsx')"
   ]
  },
  {
   "cell_type": "markdown",
   "metadata": {},
   "source": [
    "## Step 7\n",
    "Merge the excel files into one single file"
   ]
  },
  {
   "cell_type": "code",
   "execution_count": null,
   "metadata": {},
   "outputs": [],
   "source": [
    "# Locate the directory in which the chirps dataset are\n",
    "os.chdir(\"/Users/noe/Documents/Data_science/Geospatial_DS/Rainfall_Data_Collection/chirps/\")\n",
    "\n",
    "extension = 'xlsx'\n",
    "all_filenames = [i for i in glob.glob('*.{}'.format(extension))]\n",
    "\n",
    "col_names = [i.replace('.xlsx','') for i in all_filenames]\n",
    "\n",
    "#combine all files in a list\n",
    "combined_excel = pd.concat([pd.read_excel(f) for f in all_filenames],axis=1)\n",
    "Updated_excel  = combined_excel.drop(['system:index','.geo'],inplace=True,axis=1)\n",
    "#export to excel\n",
    "combined_excel.to_excel( \"/Users/noe/Documents/Data_science/Geospatial_DS/Rainfall_Data_Collection/Excelfiles/Chirps_Rainfall_1981_2021_wards_SA.xlsx\", index=False, encoding='utf-8-sig')"
   ]
  },
  {
   "cell_type": "code",
   "execution_count": null,
   "metadata": {},
   "outputs": [],
   "source": [
    "Updated = pd.read_excel('/Users/noe/Documents/Data_science/Geospatial_DS/Rainfall_Data_Collection/Excelfiles/Chirps_Rainfall_1981_2021_wards_SA.xlsx')\n",
    "Updated.head()"
   ]
  },
  {
   "cell_type": "code",
   "execution_count": null,
   "metadata": {},
   "outputs": [],
   "source": [
    "#Updated = pd.read_csv('Updated.csv')\n",
    "Updated.columns = col_names\n",
    "pd.set_option('max_columns', None)\n",
    "Updated.head()"
   ]
  },
  {
   "cell_type": "code",
   "execution_count": null,
   "metadata": {},
   "outputs": [],
   "source": [
    "Updated2 = [int(i) for i in Updated.columns] \n",
    "Updated3=sorted(Updated2)\n",
    "Updated3"
   ]
  },
  {
   "cell_type": "code",
   "execution_count": null,
   "metadata": {},
   "outputs": [],
   "source": [
    "Updated4 = [str(i) for i in Updated3]\n",
    "UpdatedFinal = Updated[Updated4]\n",
    "UpdatedFinal.tail()"
   ]
  },
  {
   "cell_type": "code",
   "execution_count": null,
   "metadata": {},
   "outputs": [],
   "source": [
    "UpdatedFinal.to_excel(\"/Users/noe/Documents/Data_science/Geospatial_DS/Rainfall_Data_Collection/Excelfiles/Chirps_Rainfall_1981_2021_wards_SA_Final.xlsx\")"
   ]
  }
 ],
 "metadata": {
  "colab": {
   "collapsed_sections": [],
   "name": "Rainfall.ipynb",
   "provenance": []
  },
  "kernelspec": {
   "display_name": "Python 3",
   "language": "python",
   "name": "python3"
  },
  "language_info": {
   "codemirror_mode": {
    "name": "ipython",
    "version": 3
   },
   "file_extension": ".py",
   "mimetype": "text/x-python",
   "name": "python",
   "nbconvert_exporter": "python",
   "pygments_lexer": "ipython3",
   "version": "3.8.8"
  }
 },
 "nbformat": 4,
 "nbformat_minor": 1
}
