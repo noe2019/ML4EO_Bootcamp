{
 "cells": [
  {
   "cell_type": "code",
   "execution_count": 2,
   "id": "617dbc98",
   "metadata": {},
   "outputs": [],
   "source": [
    "import os\n",
    "import ee\n",
    "import geemap"
   ]
  },
  {
   "cell_type": "code",
   "execution_count": 3,
   "id": "451bbca6",
   "metadata": {},
   "outputs": [
    {
     "data": {
      "text/html": [
       "<p>To authorize access needed by Earth Engine, open the following\n",
       "        URL in a web browser and follow the instructions:</p>\n",
       "        <p><a href=https://accounts.google.com/o/oauth2/auth?client_id=517222506229-vsmmajv00ul0bs7p89v5m89qs8eb9359.apps.googleusercontent.com&scope=https%3A%2F%2Fwww.googleapis.com%2Fauth%2Fearthengine+https%3A%2F%2Fwww.googleapis.com%2Fauth%2Fdevstorage.full_control&redirect_uri=urn%3Aietf%3Awg%3Aoauth%3A2.0%3Aoob&response_type=code&code_challenge=i3LwbPJSlBWC_lpkevPGc8yEYzz4InsuGw7F_8ByvqM&code_challenge_method=S256>https://accounts.google.com/o/oauth2/auth?client_id=517222506229-vsmmajv00ul0bs7p89v5m89qs8eb9359.apps.googleusercontent.com&scope=https%3A%2F%2Fwww.googleapis.com%2Fauth%2Fearthengine+https%3A%2F%2Fwww.googleapis.com%2Fauth%2Fdevstorage.full_control&redirect_uri=urn%3Aietf%3Awg%3Aoauth%3A2.0%3Aoob&response_type=code&code_challenge=i3LwbPJSlBWC_lpkevPGc8yEYzz4InsuGw7F_8ByvqM&code_challenge_method=S256</a></p>\n",
       "        <p>The authorization workflow will generate a code, which you\n",
       "        should paste in the box below</p>\n",
       "        "
      ],
      "text/plain": [
       "<IPython.core.display.HTML object>"
      ]
     },
     "metadata": {},
     "output_type": "display_data"
    },
    {
     "name": "stdout",
     "output_type": "stream",
     "text": [
      "Enter verification code: 4/1AX4XfWh5AZkqbcg8w0w50dNI69PnFoJZREOTwA4gXSE_e9haHmdeLGP1dT0\n",
      "\n",
      "Successfully saved authorization token.\n"
     ]
    }
   ],
   "source": [
    "# Trigger the authentication flow.\n",
    "ee.Authenticate()\n",
    "\n",
    "# Initialize the library.\n",
    "ee.Initialize()"
   ]
  },
  {
   "cell_type": "markdown",
   "id": "455870c7",
   "metadata": {},
   "source": [
    "## Main machine learning models used in Earth Observation\n",
    "- Supervised learning;\n",
    "- Unsupervised learning.\n",
    "We will only focus on supervised learning here."
   ]
  },
  {
   "cell_type": "markdown",
   "id": "ccc1915c",
   "metadata": {},
   "source": [
    "## [Supervised learning](http://localhost:8888/notebooks/Day%202/geemap-master/examples/notebooks/31_unsupervised_classification.ipynb)\n",
    "The steps involved in the process of image classification with machine learning include:\n",
    "- Define the image to classifiy;\n",
    "- Collect the training data;\n",
    "- Instantiate a classifier;\n",
    "- Train a classifier;\n",
    "- Classify;\n",
    "- Estimate classification error with independent validation data.\n",
    "\n",
    "The classifier available for supervised machine learning in google earth engine include:\n",
    "![title](https://i.imgur.com/vROsEiq.png)"
   ]
  },
  {
   "cell_type": "markdown",
   "id": "8babae4b",
   "metadata": {},
   "source": [
    "### I.1. Define the image to classifiy"
   ]
  },
  {
   "cell_type": "code",
   "execution_count": 6,
   "id": "a9f81c18",
   "metadata": {},
   "outputs": [
    {
     "data": {
      "application/vnd.jupyter.widget-view+json": {
       "model_id": "da21997ed8e741bdae48702d2505cde2",
       "version_major": 2,
       "version_minor": 0
      },
      "text/plain": [
       "Map(center=[-33.918861, 18.4233], controls=(WidgetControl(options=['position', 'transparent_bg'], widget=HBox(…"
      ]
     },
     "metadata": {},
     "output_type": "display_data"
    }
   ],
   "source": [
    "# Upload the shapefile of the ROI\n",
    "Map = geemap.Map(center=(-33.918861, 18.423300))\n",
    "sa22    = geemap.shp_to_ee('/Users/noe/Desktop/SA4/ADM4_PCODE_ZA1011001.shp')\n",
    "Map.addLayer(sa22, {}, 'ROI')\n",
    "Map"
   ]
  },
  {
   "cell_type": "code",
   "execution_count": 7,
   "id": "a0b43684",
   "metadata": {
    "scrolled": true
   },
   "outputs": [
    {
     "data": {
      "application/vnd.jupyter.widget-view+json": {
       "model_id": "da21997ed8e741bdae48702d2505cde2",
       "version_major": 2,
       "version_minor": 0
      },
      "text/plain": [
       "Map(bottom=155756.0, center=[-31.728167146023935, 18.581998605017667], controls=(WidgetControl(options=['posit…"
      ]
     },
     "metadata": {},
     "output_type": "display_data"
    }
   ],
   "source": [
    "# Add landsat8 TOA to the ROI\n",
    "dataset = ee.ImageCollection(\"LANDSAT/LC08/C01/T1_TOA\").filterBounds(sa22).filterDate('2021-01-01','2021-12-31').filterMetadata('CLOUD_COVER','less_than',70)\n",
    "rgbVis  = {\n",
    "  'min': 0.0,\n",
    "  'max': 0.3,\n",
    "  'gamma':1.4,\n",
    "  'bands': ['B4_median', 'B3_median', 'B2_median'],\n",
    "}\n",
    "# ///////////////// Use Median Band in parameters///////////////////////\n",
    "\n",
    "median = dataset.reduce(ee.Reducer.median())\n",
    "\n",
    "# ////////////////Mosaic these two image collections///////////////////\n",
    "\n",
    "mosaic_1 = ee.ImageCollection.fromImages([median]).mosaic()\n",
    "\n",
    "# ////////////////////////Clip by assets or roi////////////////////////\n",
    "\n",
    "landsat_8_2021 = mosaic_1.clip(sa22)\n",
    "\n",
    "# /////////////// Display the clipped ImageCollection/////////////////\n",
    "\n",
    "Map.addLayer(landsat_8_2021, rgbVis, 'landsat_roi')\n",
    "Map"
   ]
  },
  {
   "cell_type": "code",
   "execution_count": 8,
   "id": "d719b436",
   "metadata": {},
   "outputs": [
    {
     "data": {
      "application/vnd.jupyter.widget-view+json": {
       "model_id": "da21997ed8e741bdae48702d2505cde2",
       "version_major": 2,
       "version_minor": 0
      },
      "text/plain": [
       "Map(bottom=311089.0, center=[-31.656303848751083, 18.47831726074219], controls=(WidgetControl(options=['positi…"
      ]
     },
     "metadata": {},
     "output_type": "display_data"
    }
   ],
   "source": [
    "# Add landsat8 TOA to the ROI\n",
    "dataset = ee.ImageCollection(\"LANDSAT/LC08/C01/T1_TOA\").filterBounds(sa22).filterDate('2020-01-01','2020-12-31').filterMetadata('CLOUD_COVER','less_than',70)\n",
    "rgbVis  = {\n",
    "  'min': 0.0,\n",
    "  'max': 0.3,\n",
    "  'gamma':1.4,\n",
    "  'bands': ['B4_median', 'B3_median', 'B2_median'],\n",
    "}\n",
    "# ///////////////// Use Median Band in parameters///////////////////////\n",
    "\n",
    "median = dataset.reduce(ee.Reducer.median())\n",
    "\n",
    "# ////////////////Mosaic these two image collections///////////////////\n",
    "\n",
    "mosaic_1 = ee.ImageCollection.fromImages([median]).mosaic()\n",
    "\n",
    "# ////////////////////////Clip by assets or roi////////////////////////\n",
    "\n",
    "landsat_8_2020 = mosaic_1.clip(sa22)\n",
    "\n",
    "# /////////////// Display the clipped ImageCollection/////////////////\n",
    "\n",
    "Map.addLayer(landsat_8_2020, rgbVis, 'landsat_roi_2020')\n",
    "Map"
   ]
  },
  {
   "cell_type": "markdown",
   "id": "a47ead3f",
   "metadata": {},
   "source": [
    "### I.2. Collect the training data\n",
    "The collection of training data can be done in two ways:\n",
    " - Manual collection;\n",
    " - Automatic collection.\n",
    "    \n",
    "The manual collection is performed in the cases where there is no data available. The automatic selection uses existing classification map, to generate the training data."
   ]
  },
  {
   "cell_type": "code",
   "execution_count": 228,
   "id": "4d26cabc",
   "metadata": {},
   "outputs": [],
   "source": [
    "# Manual collection"
   ]
  },
  {
   "cell_type": "code",
   "execution_count": 9,
   "id": "fea2dbc4",
   "metadata": {},
   "outputs": [],
   "source": [
    "# Automatic collection\n",
    "# Load the classified data that will help to collect the data\n",
    "### Legend and colors dictionary\n",
    "# dico = {\"names\": [\"Contiguous (indigenous) Forest (combined very high, high, medium)\", \"Contiguous Low Forest & Thicket (combined classes)\", \"Dense Forest & Woodland (35 - 75% cc)\", \"Open Woodland (10 - 35% cc)\", \"Contiguous & Dense Planted Forest (combined classes)\", \"Open & Sparse Planted Forest\", \"Temporary Unplanted Forest\", \"Low Shrubland (other regions)\", \"Low Shrubland (Fynbos)\", \"Low Shrubland (Succulent Karoo)\", \"Low Shrubland (Nama Karoo)\", \"Sparsely Wooded Grassland (5 - 10% cc)\", \"Natural Grassland\", \"Natural Rivers\", \"Natural Estuaries & Lagoons\", \"Natural Ocean, Coastal\", \"Natural Lakes\", \"Natural Pans (flooded @ obsv time)\", \"Artificial Dams (incl. canals)\", \"Artificial Sewage Ponds\", \"Artificial Flooded Mine Pits\", \"Herbaceous Wetlands (currently mapped)\", \"Herbaceous Wetlands (previous mapped extent)\", \"Mangrove Wetlands\", \"Natural Rock Surfaces\", \"Dry Pans\", \"Eroded Lands\", \"Sand Dunes (terrestrial)\", \"Coastal Sand Dunes & Beach Sand\", \"Bare Riverbed Material\", \"Other Bare\", \"Cultivated Commercial Permanent Orchards\", \"Cultivated Commercial Permanent Vines\", \"Cultivated Commercial Sugarcane Pivot Irrigated\", \"Commercial Permanent Pineapples\", \"Cultivated Commercial Sugarcane Non-Pivot (all other)\", \"Cultivated Emerging Farmer Sugarcane Non-Pivot (all other)\", \"Commercial Annuals Pivot Irrigated\", \"Commercial Annuals Non-Pivot Irrigated\", \"Commercial Annuals Crops Rain-Fed / Dryland / Non-Irrigated\", \"Subsistence / Small-Scale Annual Crops\", \"Fallow Land & Old Fields (Trees)\", \"Fallow Land & Old Fields (Bush)\", \"Fallow Land & Old Fields (Grass)\", \"Fallow Land & Old Fields (Bare)\", \"Fallow Land & Old Fields (Low Shrub)\", \"Residential Formal (Tree)\", \"Residential Formal (Bush)\", \"Residential Formal (low veg / grass)\", \"Residential Formal (Bare)\", \"Residential Informal (Tree)\", \"Residential Informal (Bush)\", \"Residential Informal (low veg / grass)\", \"Residential Informal (Bare)\", \"Village Scattered (bare only)\", \"Village Dense (bare only)\", \"Smallholdings (Tree)\", \"Smallholdings (Bush)\", \"Smallholdings (low veg / grass)\", \"Smallholdings (Bare)\", \"Urban Recreational Fields (Tree)\", \"Urban Recreational Fields (Bush)\", \"Urban Recreational Fields (Grass)\", \"Urban Recreational Fields (Bare)\", \"Commercial\", \"Industrial\", \"Roads & Rail (Major Linear)\", \"Mines: Surface Infrastructure\", \"Mines: Extraction Sites: Open Cast & Quarries combined\", \"Mines: Extraction Sites: Salt Mines\", \"Mines: Waste (Tailings) & Resource Dumps\", \"Land-fills\", \"Fallow Land & Old Fields (wetlands)\"], \"colors\": [\"#F2F2F2\", \"#065106\", \"#005F00\", \"#008500\", \"#F74006\", \"#F9764D\", \"#F9906C\", \"#B8ABD1\", \"#8FAB39\", \"#AC92C5\", \"#AC9CDA\", \"#85D285\", \"#D2B485\", \"#00009F\", \"#041FA7\", \"#0639AB\", \"#0D50AC\", \"#125FAC\", \"#1373B4\", \"#1D81B6\", \"#1F8EB8\", \"#06DEDC\", \"#06E0D0\", \"#9F1FEC\", \"#ffffe0\", \"#DCDAC5\", \"#F9E0E0\", \"#F9F9C5\", \"#F9F9A7\", \"#CDD2E0\", \"#ffffe0\", \"#A62C39\", \"#B31F5C\", \"#DB0000\", \"#9F3978\", \"#FF0000\", \"#F64D6C\", \"#381A12\", \"#521F1C\", \"#85402C\", \"#C5735F\", \"#C1436C\", \"#C55E82\", \"#D27592\", \"#E0AAB8\", \"#DB90A9\", \"#ECDB0F\", \"#F6EC13\", \"#F9F81F\", \"#FFFF29\", \"#EC82EC\", \"#F691E0\", \"#F99FCF\", \"#FFC5CF\", \"#ECC500\", \"#FFD91F\", \"#AC7879\", \"#B89192\", \"#C49C9E\", \"#D2B8B8\", \"#BFFF00\", \"#33FF33\", \"#66FF66\", \"#99FF99\", \"#C49F0D\", \"#8F8506\", \"#F9DD03\", \"#FFFF00\", \"#B30606\", \"#C50606\", \"#D21D1A\", \"#F95479\", \"#6CE7DC\"]}\n",
    "\n",
    "sanlcd2020 = ee.Image('users/noecareme/SA_NLC_2020_GEO').select('b1').clip(sa22)\n",
    "#Map.addLayer(sanlcd2020, {'min':1, 'max':73,'palette':dico['colors']}, 'SANLC2020')\n",
    "#Map"
   ]
  },
  {
   "cell_type": "code",
   "execution_count": 11,
   "id": "fd8c804b",
   "metadata": {
    "scrolled": true
   },
   "outputs": [
    {
     "data": {
      "application/vnd.jupyter.widget-view+json": {
       "model_id": "da21997ed8e741bdae48702d2505cde2",
       "version_major": 2,
       "version_minor": 0
      },
      "text/plain": [
       "Map(bottom=311089.0, center=[-31.656303848751083, 18.47831726074219], controls=(WidgetControl(options=['positi…"
      ]
     },
     "metadata": {},
     "output_type": "display_data"
    }
   ],
   "source": [
    "# Collect the training dataset from the SANLC2020.\n",
    "points = sanlcd2020.sample(**{\n",
    "    'region': sa22,\n",
    "    'scale': 20,\n",
    "    'numPixels': 1000,\n",
    "    'seed': 0,\n",
    "    'geometries': True  # Set this to False to ignore geometries\n",
    "})\n",
    "\n",
    "Map.addLayer(points, {}, 'training', False)\n",
    "Map"
   ]
  },
  {
   "cell_type": "code",
   "execution_count": 12,
   "id": "9e622754",
   "metadata": {},
   "outputs": [
    {
     "name": "stdout",
     "output_type": "stream",
     "text": [
      "1000\n"
     ]
    }
   ],
   "source": [
    "print(points.size().getInfo())"
   ]
  },
  {
   "cell_type": "code",
   "execution_count": 13,
   "id": "17951847",
   "metadata": {},
   "outputs": [
    {
     "name": "stdout",
     "output_type": "stream",
     "text": [
      "{'type': 'Feature', 'geometry': {'type': 'Point', 'coordinates': [18.332181050686124, -31.553689335863556]}, 'id': '0', 'properties': {'b1': 33}}\n"
     ]
    }
   ],
   "source": [
    "print(points.first().getInfo())"
   ]
  },
  {
   "cell_type": "code",
   "execution_count": 14,
   "id": "1c0ec781",
   "metadata": {},
   "outputs": [],
   "source": [
    "# Select the bands to use for classification.\n",
    "bands = ['B1_median', 'B2_median', 'B3_median', 'B4_median', 'B5_median', 'B6_median', 'B7_median']\n",
    "\n",
    "# This property of the table stores the land cover labels.\n",
    "label = 'b1'\n",
    "\n",
    "# Overlay the points on the imagery to get training.\n",
    "\n",
    "sample = landsat_8_2020.select(bands).sampleRegions(**{\n",
    "  'collection': points,\n",
    "  'properties': [label],\n",
    "  'scale': 20\n",
    "})\n",
    "\n",
    "# Adds a column of deterministic pseudorandom numbers. \n",
    "sample = sample.randomColumn()\n",
    "\n",
    "split = 0.7\n",
    "\n",
    "training = sample.filter(ee.Filter.lt('random', split))\n",
    "validation = sample.filter(ee.Filter.gte('random', split))"
   ]
  },
  {
   "cell_type": "code",
   "execution_count": 234,
   "id": "7c4bfa2e",
   "metadata": {},
   "outputs": [],
   "source": [
    "print(training.first().getInfo())"
   ]
  },
  {
   "cell_type": "code",
   "execution_count": 235,
   "id": "ab91a30c",
   "metadata": {},
   "outputs": [],
   "source": [
    "validation.first().getInfo()"
   ]
  },
  {
   "cell_type": "markdown",
   "id": "0543afc5",
   "metadata": {},
   "source": [
    "### Train the classifier\n",
    "\n",
    "In this examples, we will use random forest classification."
   ]
  },
  {
   "cell_type": "code",
   "execution_count": 15,
   "id": "0587e2be",
   "metadata": {},
   "outputs": [],
   "source": [
    "classifier = ee.Classifier.smileRandomForest(5).train(training, label, bands)"
   ]
  },
  {
   "cell_type": "code",
   "execution_count": 85,
   "id": "5197250e",
   "metadata": {},
   "outputs": [],
   "source": [
    "classifier = ee.Classifier.smileCart().train(training, label, bands)"
   ]
  },
  {
   "cell_type": "code",
   "execution_count": 101,
   "id": "f18bb3ee",
   "metadata": {},
   "outputs": [],
   "source": [
    "classifier = ee.Classifier.libsvm({'kernelType': 'RBF','gamma': 0.5,'cost': 10}).train(training, label, bands)"
   ]
  },
  {
   "cell_type": "markdown",
   "id": "608df9bd",
   "metadata": {},
   "source": [
    "### Classify the image and display the results"
   ]
  },
  {
   "cell_type": "code",
   "execution_count": 102,
   "id": "4038a47f",
   "metadata": {
    "collapsed": true
   },
   "outputs": [
    {
     "ename": "EEException",
     "evalue": "Classifier.libsvm, argument 'decisionProcedure': Invalid type.\nExpected type: String.\nActual type: Dictionary<Object>.\nActual value: {cost=10, gamma=0.5, kernelType=RBF}",
     "output_type": "error",
     "traceback": [
      "\u001b[0;31m---------------------------------------------------------------------------\u001b[0m",
      "\u001b[0;31mHttpError\u001b[0m                                 Traceback (most recent call last)",
      "\u001b[0;32m/opt/anaconda3/lib/python3.8/site-packages/ee/data.py\u001b[0m in \u001b[0;36m_execute_cloud_call\u001b[0;34m(call, num_retries)\u001b[0m\n\u001b[1;32m    333\u001b[0m   \u001b[0;32mtry\u001b[0m\u001b[0;34m:\u001b[0m\u001b[0;34m\u001b[0m\u001b[0;34m\u001b[0m\u001b[0m\n\u001b[0;32m--> 334\u001b[0;31m     \u001b[0;32mreturn\u001b[0m \u001b[0mcall\u001b[0m\u001b[0;34m.\u001b[0m\u001b[0mexecute\u001b[0m\u001b[0;34m(\u001b[0m\u001b[0mnum_retries\u001b[0m\u001b[0;34m=\u001b[0m\u001b[0mnum_retries\u001b[0m\u001b[0;34m)\u001b[0m\u001b[0;34m\u001b[0m\u001b[0;34m\u001b[0m\u001b[0m\n\u001b[0m\u001b[1;32m    335\u001b[0m   \u001b[0;32mexcept\u001b[0m \u001b[0mgoogleapiclient\u001b[0m\u001b[0;34m.\u001b[0m\u001b[0merrors\u001b[0m\u001b[0;34m.\u001b[0m\u001b[0mHttpError\u001b[0m \u001b[0;32mas\u001b[0m \u001b[0me\u001b[0m\u001b[0;34m:\u001b[0m\u001b[0;34m\u001b[0m\u001b[0;34m\u001b[0m\u001b[0m\n",
      "\u001b[0;32m/opt/anaconda3/lib/python3.8/site-packages/googleapiclient/_helpers.py\u001b[0m in \u001b[0;36mpositional_wrapper\u001b[0;34m(*args, **kwargs)\u001b[0m\n\u001b[1;32m    133\u001b[0m                     \u001b[0mlogger\u001b[0m\u001b[0;34m.\u001b[0m\u001b[0mwarning\u001b[0m\u001b[0;34m(\u001b[0m\u001b[0mmessage\u001b[0m\u001b[0;34m)\u001b[0m\u001b[0;34m\u001b[0m\u001b[0;34m\u001b[0m\u001b[0m\n\u001b[0;32m--> 134\u001b[0;31m             \u001b[0;32mreturn\u001b[0m \u001b[0mwrapped\u001b[0m\u001b[0;34m(\u001b[0m\u001b[0;34m*\u001b[0m\u001b[0margs\u001b[0m\u001b[0;34m,\u001b[0m \u001b[0;34m**\u001b[0m\u001b[0mkwargs\u001b[0m\u001b[0;34m)\u001b[0m\u001b[0;34m\u001b[0m\u001b[0;34m\u001b[0m\u001b[0m\n\u001b[0m\u001b[1;32m    135\u001b[0m \u001b[0;34m\u001b[0m\u001b[0m\n",
      "\u001b[0;32m/opt/anaconda3/lib/python3.8/site-packages/googleapiclient/http.py\u001b[0m in \u001b[0;36mexecute\u001b[0;34m(self, http, num_retries)\u001b[0m\n\u001b[1;32m    914\u001b[0m         \u001b[0;32mif\u001b[0m \u001b[0mresp\u001b[0m\u001b[0;34m.\u001b[0m\u001b[0mstatus\u001b[0m \u001b[0;34m>=\u001b[0m \u001b[0;36m300\u001b[0m\u001b[0;34m:\u001b[0m\u001b[0;34m\u001b[0m\u001b[0;34m\u001b[0m\u001b[0m\n\u001b[0;32m--> 915\u001b[0;31m             \u001b[0;32mraise\u001b[0m \u001b[0mHttpError\u001b[0m\u001b[0;34m(\u001b[0m\u001b[0mresp\u001b[0m\u001b[0;34m,\u001b[0m \u001b[0mcontent\u001b[0m\u001b[0;34m,\u001b[0m \u001b[0muri\u001b[0m\u001b[0;34m=\u001b[0m\u001b[0mself\u001b[0m\u001b[0;34m.\u001b[0m\u001b[0muri\u001b[0m\u001b[0;34m)\u001b[0m\u001b[0;34m\u001b[0m\u001b[0;34m\u001b[0m\u001b[0m\n\u001b[0m\u001b[1;32m    916\u001b[0m         \u001b[0;32mreturn\u001b[0m \u001b[0mself\u001b[0m\u001b[0;34m.\u001b[0m\u001b[0mpostproc\u001b[0m\u001b[0;34m(\u001b[0m\u001b[0mresp\u001b[0m\u001b[0;34m,\u001b[0m \u001b[0mcontent\u001b[0m\u001b[0;34m)\u001b[0m\u001b[0;34m\u001b[0m\u001b[0;34m\u001b[0m\u001b[0m\n",
      "\u001b[0;31mHttpError\u001b[0m: <HttpError 400 when requesting https://earthengine.googleapis.com/v1alpha/projects/earthengine-legacy/maps?fields=name&alt=json returned \"Classifier.libsvm, argument 'decisionProcedure': Invalid type.\nExpected type: String.\nActual type: Dictionary<Object>.\nActual value: {cost=10, gamma=0.5, kernelType=RBF}\". Details: \"Classifier.libsvm, argument 'decisionProcedure': Invalid type.\nExpected type: String.\nActual type: Dictionary<Object>.\nActual value: {cost=10, gamma=0.5, kernelType=RBF}\">",
      "\nDuring handling of the above exception, another exception occurred:\n",
      "\u001b[0;31mEEException\u001b[0m                               Traceback (most recent call last)",
      "\u001b[0;32m<ipython-input-102-49183d69e05a>\u001b[0m in \u001b[0;36m<module>\u001b[0;34m\u001b[0m\n\u001b[1;32m      5\u001b[0m \u001b[0;34m\u001b[0m\u001b[0m\n\u001b[1;32m      6\u001b[0m \u001b[0;31m# # Display the clusters with random colors.\u001b[0m\u001b[0;34m\u001b[0m\u001b[0;34m\u001b[0m\u001b[0;34m\u001b[0m\u001b[0m\n\u001b[0;32m----> 7\u001b[0;31m \u001b[0mMap\u001b[0m\u001b[0;34m.\u001b[0m\u001b[0maddLayer\u001b[0m\u001b[0;34m(\u001b[0m\u001b[0mresult\u001b[0m\u001b[0;34m,\u001b[0m \u001b[0;34m{\u001b[0m\u001b[0;34m'min'\u001b[0m\u001b[0;34m:\u001b[0m\u001b[0;36m1\u001b[0m\u001b[0;34m,\u001b[0m \u001b[0;34m'max'\u001b[0m\u001b[0;34m:\u001b[0m\u001b[0;36m73\u001b[0m\u001b[0;34m,\u001b[0m\u001b[0;34m'palette'\u001b[0m\u001b[0;34m:\u001b[0m\u001b[0mdico\u001b[0m\u001b[0;34m[\u001b[0m\u001b[0;34m'colors'\u001b[0m\u001b[0;34m]\u001b[0m\u001b[0;34m}\u001b[0m\u001b[0;34m,\u001b[0m \u001b[0;34m'classified'\u001b[0m\u001b[0;34m)\u001b[0m \u001b[0;31m#result.randomVisualizer()\u001b[0m\u001b[0;34m\u001b[0m\u001b[0;34m\u001b[0m\u001b[0m\n\u001b[0m\u001b[1;32m      8\u001b[0m \u001b[0mMap\u001b[0m\u001b[0;34m\u001b[0m\u001b[0;34m\u001b[0m\u001b[0m\n",
      "\u001b[0;32m/opt/anaconda3/lib/python3.8/site-packages/geemap/geemap.py\u001b[0m in \u001b[0;36madd_ee_layer\u001b[0;34m(self, ee_object, vis_params, name, shown, opacity)\u001b[0m\n\u001b[1;32m   1386\u001b[0m                 \u001b[0;32mraise\u001b[0m \u001b[0mException\u001b[0m\u001b[0;34m(\u001b[0m\u001b[0me\u001b[0m\u001b[0;34m)\u001b[0m\u001b[0;34m\u001b[0m\u001b[0;34m\u001b[0m\u001b[0m\n\u001b[1;32m   1387\u001b[0m \u001b[0;34m\u001b[0m\u001b[0m\n\u001b[0;32m-> 1388\u001b[0;31m         \u001b[0mmap_id_dict\u001b[0m \u001b[0;34m=\u001b[0m \u001b[0mee\u001b[0m\u001b[0;34m.\u001b[0m\u001b[0mImage\u001b[0m\u001b[0;34m(\u001b[0m\u001b[0mimage\u001b[0m\u001b[0;34m)\u001b[0m\u001b[0;34m.\u001b[0m\u001b[0mgetMapId\u001b[0m\u001b[0;34m(\u001b[0m\u001b[0mvis_params\u001b[0m\u001b[0;34m)\u001b[0m\u001b[0;34m\u001b[0m\u001b[0;34m\u001b[0m\u001b[0m\n\u001b[0m\u001b[1;32m   1389\u001b[0m         tile_layer = ipyleaflet.TileLayer(\n\u001b[1;32m   1390\u001b[0m             \u001b[0murl\u001b[0m\u001b[0;34m=\u001b[0m\u001b[0mmap_id_dict\u001b[0m\u001b[0;34m[\u001b[0m\u001b[0;34m\"tile_fetcher\"\u001b[0m\u001b[0;34m]\u001b[0m\u001b[0;34m.\u001b[0m\u001b[0murl_format\u001b[0m\u001b[0;34m,\u001b[0m\u001b[0;34m\u001b[0m\u001b[0;34m\u001b[0m\u001b[0m\n",
      "\u001b[0;32m/opt/anaconda3/lib/python3.8/site-packages/ee/image.py\u001b[0m in \u001b[0;36mgetMapId\u001b[0;34m(self, vis_params)\u001b[0m\n\u001b[1;32m    128\u001b[0m     \u001b[0mvis_image\u001b[0m\u001b[0;34m,\u001b[0m \u001b[0mrequest\u001b[0m \u001b[0;34m=\u001b[0m \u001b[0mself\u001b[0m\u001b[0;34m.\u001b[0m\u001b[0m_apply_visualization\u001b[0m\u001b[0;34m(\u001b[0m\u001b[0mvis_params\u001b[0m\u001b[0;34m)\u001b[0m\u001b[0;34m\u001b[0m\u001b[0;34m\u001b[0m\u001b[0m\n\u001b[1;32m    129\u001b[0m     \u001b[0mrequest\u001b[0m\u001b[0;34m[\u001b[0m\u001b[0;34m'image'\u001b[0m\u001b[0;34m]\u001b[0m \u001b[0;34m=\u001b[0m \u001b[0mvis_image\u001b[0m\u001b[0;34m\u001b[0m\u001b[0;34m\u001b[0m\u001b[0m\n\u001b[0;32m--> 130\u001b[0;31m     \u001b[0mresponse\u001b[0m \u001b[0;34m=\u001b[0m \u001b[0mdata\u001b[0m\u001b[0;34m.\u001b[0m\u001b[0mgetMapId\u001b[0m\u001b[0;34m(\u001b[0m\u001b[0mrequest\u001b[0m\u001b[0;34m)\u001b[0m\u001b[0;34m\u001b[0m\u001b[0;34m\u001b[0m\u001b[0m\n\u001b[0m\u001b[1;32m    131\u001b[0m     \u001b[0mresponse\u001b[0m\u001b[0;34m[\u001b[0m\u001b[0;34m'image'\u001b[0m\u001b[0;34m]\u001b[0m \u001b[0;34m=\u001b[0m \u001b[0mself\u001b[0m\u001b[0;34m\u001b[0m\u001b[0;34m\u001b[0m\u001b[0m\n\u001b[1;32m    132\u001b[0m     \u001b[0;32mreturn\u001b[0m \u001b[0mresponse\u001b[0m\u001b[0;34m\u001b[0m\u001b[0;34m\u001b[0m\u001b[0m\n",
      "\u001b[0;32m/opt/anaconda3/lib/python3.8/site-packages/ee/data.py\u001b[0m in \u001b[0;36mgetMapId\u001b[0;34m(params)\u001b[0m\n\u001b[1;32m    571\u001b[0m   \u001b[0;31m# Make it return only the name field, as otherwise it echoes the entire\u001b[0m\u001b[0;34m\u001b[0m\u001b[0;34m\u001b[0m\u001b[0;34m\u001b[0m\u001b[0m\n\u001b[1;32m    572\u001b[0m   \u001b[0;31m# request, which might be large.\u001b[0m\u001b[0;34m\u001b[0m\u001b[0;34m\u001b[0m\u001b[0;34m\u001b[0m\u001b[0m\n\u001b[0;32m--> 573\u001b[0;31m   result = _execute_cloud_call(\n\u001b[0m\u001b[1;32m    574\u001b[0m       _get_cloud_api_resource().projects().maps().create(\n\u001b[1;32m    575\u001b[0m           parent=_get_projects_path(), fields='name', body=request))\n",
      "\u001b[0;32m/opt/anaconda3/lib/python3.8/site-packages/ee/data.py\u001b[0m in \u001b[0;36m_execute_cloud_call\u001b[0;34m(call, num_retries)\u001b[0m\n\u001b[1;32m    334\u001b[0m     \u001b[0;32mreturn\u001b[0m \u001b[0mcall\u001b[0m\u001b[0;34m.\u001b[0m\u001b[0mexecute\u001b[0m\u001b[0;34m(\u001b[0m\u001b[0mnum_retries\u001b[0m\u001b[0;34m=\u001b[0m\u001b[0mnum_retries\u001b[0m\u001b[0;34m)\u001b[0m\u001b[0;34m\u001b[0m\u001b[0;34m\u001b[0m\u001b[0m\n\u001b[1;32m    335\u001b[0m   \u001b[0;32mexcept\u001b[0m \u001b[0mgoogleapiclient\u001b[0m\u001b[0;34m.\u001b[0m\u001b[0merrors\u001b[0m\u001b[0;34m.\u001b[0m\u001b[0mHttpError\u001b[0m \u001b[0;32mas\u001b[0m \u001b[0me\u001b[0m\u001b[0;34m:\u001b[0m\u001b[0;34m\u001b[0m\u001b[0;34m\u001b[0m\u001b[0m\n\u001b[0;32m--> 336\u001b[0;31m     \u001b[0;32mraise\u001b[0m \u001b[0m_translate_cloud_exception\u001b[0m\u001b[0;34m(\u001b[0m\u001b[0me\u001b[0m\u001b[0;34m)\u001b[0m\u001b[0;34m\u001b[0m\u001b[0;34m\u001b[0m\u001b[0m\n\u001b[0m\u001b[1;32m    337\u001b[0m \u001b[0;34m\u001b[0m\u001b[0m\n\u001b[1;32m    338\u001b[0m \u001b[0;34m\u001b[0m\u001b[0m\n",
      "\u001b[0;31mEEException\u001b[0m: Classifier.libsvm, argument 'decisionProcedure': Invalid type.\nExpected type: String.\nActual type: Dictionary<Object>.\nActual value: {cost=10, gamma=0.5, kernelType=RBF}"
     ]
    }
   ],
   "source": [
    "# Classify the image with the same bands used for training.\n",
    "result = landsat_8_2020.select(bands).classify(classifier)\n",
    "\n",
    "dico = {\"names\": [\"Contiguous (indigenous) Forest (combined very high, high, medium)\", \"Contiguous Low Forest & Thicket (combined classes)\", \"Dense Forest & Woodland (35 - 75% cc)\", \"Open Woodland (10 - 35% cc)\", \"Contiguous & Dense Planted Forest (combined classes)\", \"Open & Sparse Planted Forest\", \"Temporary Unplanted Forest\", \"Low Shrubland (other regions)\", \"Low Shrubland (Fynbos)\", \"Low Shrubland (Succulent Karoo)\", \"Low Shrubland (Nama Karoo)\", \"Sparsely Wooded Grassland (5 - 10% cc)\", \"Natural Grassland\", \"Natural Rivers\", \"Natural Estuaries & Lagoons\", \"Natural Ocean, Coastal\", \"Natural Lakes\", \"Natural Pans (flooded @ obsv time)\", \"Artificial Dams (incl. canals)\", \"Artificial Sewage Ponds\", \"Artificial Flooded Mine Pits\", \"Herbaceous Wetlands (currently mapped)\", \"Herbaceous Wetlands (previous mapped extent)\", \"Mangrove Wetlands\", \"Natural Rock Surfaces\", \"Dry Pans\", \"Eroded Lands\", \"Sand Dunes (terrestrial)\", \"Coastal Sand Dunes & Beach Sand\", \"Bare Riverbed Material\", \"Other Bare\", \"Cultivated Commercial Permanent Orchards\", \"Cultivated Commercial Permanent Vines\", \"Cultivated Commercial Sugarcane Pivot Irrigated\", \"Commercial Permanent Pineapples\", \"Cultivated Commercial Sugarcane Non-Pivot (all other)\", \"Cultivated Emerging Farmer Sugarcane Non-Pivot (all other)\", \"Commercial Annuals Pivot Irrigated\", \"Commercial Annuals Non-Pivot Irrigated\", \"Commercial Annuals Crops Rain-Fed / Dryland / Non-Irrigated\", \"Subsistence / Small-Scale Annual Crops\", \"Fallow Land & Old Fields (Trees)\", \"Fallow Land & Old Fields (Bush)\", \"Fallow Land & Old Fields (Grass)\", \"Fallow Land & Old Fields (Bare)\", \"Fallow Land & Old Fields (Low Shrub)\", \"Residential Formal (Tree)\", \"Residential Formal (Bush)\", \"Residential Formal (low veg / grass)\", \"Residential Formal (Bare)\", \"Residential Informal (Tree)\", \"Residential Informal (Bush)\", \"Residential Informal (low veg / grass)\", \"Residential Informal (Bare)\", \"Village Scattered (bare only)\", \"Village Dense (bare only)\", \"Smallholdings (Tree)\", \"Smallholdings (Bush)\", \"Smallholdings (low veg / grass)\", \"Smallholdings (Bare)\", \"Urban Recreational Fields (Tree)\", \"Urban Recreational Fields (Bush)\", \"Urban Recreational Fields (Grass)\", \"Urban Recreational Fields (Bare)\", \"Commercial\", \"Industrial\", \"Roads & Rail (Major Linear)\", \"Mines: Surface Infrastructure\", \"Mines: Extraction Sites: Open Cast & Quarries combined\", \"Mines: Extraction Sites: Salt Mines\", \"Mines: Waste (Tailings) & Resource Dumps\", \"Land-fills\", \"Fallow Land & Old Fields (wetlands)\"], \"colors\": [\"#F2F2F2\", \"#065106\", \"#005F00\", \"#008500\", \"#F74006\", \"#F9764D\", \"#F9906C\", \"#B8ABD1\", \"#8FAB39\", \"#AC92C5\", \"#AC9CDA\", \"#85D285\", \"#D2B485\", \"#00009F\", \"#041FA7\", \"#0639AB\", \"#0D50AC\", \"#125FAC\", \"#1373B4\", \"#1D81B6\", \"#1F8EB8\", \"#06DEDC\", \"#06E0D0\", \"#9F1FEC\", \"#ffffe0\", \"#DCDAC5\", \"#F9E0E0\", \"#F9F9C5\", \"#F9F9A7\", \"#CDD2E0\", \"#ffffe0\", \"#A62C39\", \"#B31F5C\", \"#DB0000\", \"#9F3978\", \"#FF0000\", \"#F64D6C\", \"#381A12\", \"#521F1C\", \"#85402C\", \"#C5735F\", \"#C1436C\", \"#C55E82\", \"#D27592\", \"#E0AAB8\", \"#DB90A9\", \"#ECDB0F\", \"#F6EC13\", \"#F9F81F\", \"#FFFF29\", \"#EC82EC\", \"#F691E0\", \"#F99FCF\", \"#FFC5CF\", \"#ECC500\", \"#FFD91F\", \"#AC7879\", \"#B89192\", \"#C49C9E\", \"#D2B8B8\", \"#BFFF00\", \"#33FF33\", \"#66FF66\", \"#99FF99\", \"#C49F0D\", \"#8F8506\", \"#F9DD03\", \"#FFFF00\", \"#B30606\", \"#C50606\", \"#D21D1A\", \"#F95479\", \"#6CE7DC\"]}\n",
    "\n",
    "# # Display the clusters with random colors.\n",
    "Map.addLayer(result, {'min':1, 'max':73,'palette':dico['colors']}, 'classified') #result.randomVisualizer()\n",
    "Map"
   ]
  },
  {
   "cell_type": "markdown",
   "id": "fa990c07",
   "metadata": {},
   "source": [
    "### Accuracy Assessment"
   ]
  },
  {
   "cell_type": "code",
   "execution_count": 87,
   "id": "0d1344c0",
   "metadata": {},
   "outputs": [],
   "source": [
    "train_accuracy = classifier.confusionMatrix()"
   ]
  },
  {
   "cell_type": "code",
   "execution_count": 88,
   "id": "f06c8780",
   "metadata": {},
   "outputs": [
    {
     "data": {
      "text/html": [
       "<div>\n",
       "<style scoped>\n",
       "    .dataframe tbody tr th:only-of-type {\n",
       "        vertical-align: middle;\n",
       "    }\n",
       "\n",
       "    .dataframe tbody tr th {\n",
       "        vertical-align: top;\n",
       "    }\n",
       "\n",
       "    .dataframe thead th {\n",
       "        text-align: right;\n",
       "    }\n",
       "</style>\n",
       "<table border=\"1\" class=\"dataframe\">\n",
       "  <thead>\n",
       "    <tr style=\"text-align: right;\">\n",
       "      <th></th>\n",
       "      <th>0</th>\n",
       "      <th>1</th>\n",
       "      <th>2</th>\n",
       "      <th>3</th>\n",
       "      <th>4</th>\n",
       "      <th>5</th>\n",
       "      <th>6</th>\n",
       "      <th>7</th>\n",
       "      <th>8</th>\n",
       "      <th>9</th>\n",
       "      <th>...</th>\n",
       "      <th>60</th>\n",
       "      <th>61</th>\n",
       "      <th>62</th>\n",
       "      <th>63</th>\n",
       "      <th>64</th>\n",
       "      <th>65</th>\n",
       "      <th>66</th>\n",
       "      <th>67</th>\n",
       "      <th>68</th>\n",
       "      <th>69</th>\n",
       "    </tr>\n",
       "  </thead>\n",
       "  <tbody>\n",
       "    <tr>\n",
       "      <th>0</th>\n",
       "      <td>0</td>\n",
       "      <td>0</td>\n",
       "      <td>0</td>\n",
       "      <td>0</td>\n",
       "      <td>0</td>\n",
       "      <td>0</td>\n",
       "      <td>0</td>\n",
       "      <td>0</td>\n",
       "      <td>0</td>\n",
       "      <td>0</td>\n",
       "      <td>...</td>\n",
       "      <td>0</td>\n",
       "      <td>0</td>\n",
       "      <td>0</td>\n",
       "      <td>0</td>\n",
       "      <td>0</td>\n",
       "      <td>0</td>\n",
       "      <td>0</td>\n",
       "      <td>0</td>\n",
       "      <td>0</td>\n",
       "      <td>0</td>\n",
       "    </tr>\n",
       "    <tr>\n",
       "      <th>1</th>\n",
       "      <td>0</td>\n",
       "      <td>0</td>\n",
       "      <td>0</td>\n",
       "      <td>0</td>\n",
       "      <td>0</td>\n",
       "      <td>0</td>\n",
       "      <td>0</td>\n",
       "      <td>0</td>\n",
       "      <td>0</td>\n",
       "      <td>0</td>\n",
       "      <td>...</td>\n",
       "      <td>0</td>\n",
       "      <td>0</td>\n",
       "      <td>0</td>\n",
       "      <td>0</td>\n",
       "      <td>0</td>\n",
       "      <td>0</td>\n",
       "      <td>0</td>\n",
       "      <td>0</td>\n",
       "      <td>0</td>\n",
       "      <td>0</td>\n",
       "    </tr>\n",
       "    <tr>\n",
       "      <th>2</th>\n",
       "      <td>0</td>\n",
       "      <td>0</td>\n",
       "      <td>0</td>\n",
       "      <td>0</td>\n",
       "      <td>0</td>\n",
       "      <td>0</td>\n",
       "      <td>0</td>\n",
       "      <td>0</td>\n",
       "      <td>0</td>\n",
       "      <td>0</td>\n",
       "      <td>...</td>\n",
       "      <td>0</td>\n",
       "      <td>0</td>\n",
       "      <td>0</td>\n",
       "      <td>0</td>\n",
       "      <td>0</td>\n",
       "      <td>0</td>\n",
       "      <td>0</td>\n",
       "      <td>0</td>\n",
       "      <td>0</td>\n",
       "      <td>0</td>\n",
       "    </tr>\n",
       "    <tr>\n",
       "      <th>3</th>\n",
       "      <td>0</td>\n",
       "      <td>0</td>\n",
       "      <td>0</td>\n",
       "      <td>2</td>\n",
       "      <td>0</td>\n",
       "      <td>0</td>\n",
       "      <td>0</td>\n",
       "      <td>0</td>\n",
       "      <td>0</td>\n",
       "      <td>0</td>\n",
       "      <td>...</td>\n",
       "      <td>0</td>\n",
       "      <td>0</td>\n",
       "      <td>0</td>\n",
       "      <td>0</td>\n",
       "      <td>0</td>\n",
       "      <td>0</td>\n",
       "      <td>0</td>\n",
       "      <td>0</td>\n",
       "      <td>0</td>\n",
       "      <td>0</td>\n",
       "    </tr>\n",
       "    <tr>\n",
       "      <th>4</th>\n",
       "      <td>0</td>\n",
       "      <td>0</td>\n",
       "      <td>0</td>\n",
       "      <td>0</td>\n",
       "      <td>16</td>\n",
       "      <td>0</td>\n",
       "      <td>0</td>\n",
       "      <td>0</td>\n",
       "      <td>0</td>\n",
       "      <td>0</td>\n",
       "      <td>...</td>\n",
       "      <td>0</td>\n",
       "      <td>0</td>\n",
       "      <td>0</td>\n",
       "      <td>0</td>\n",
       "      <td>0</td>\n",
       "      <td>0</td>\n",
       "      <td>0</td>\n",
       "      <td>0</td>\n",
       "      <td>0</td>\n",
       "      <td>0</td>\n",
       "    </tr>\n",
       "  </tbody>\n",
       "</table>\n",
       "<p>5 rows × 70 columns</p>\n",
       "</div>"
      ],
      "text/plain": [
       "   0   1   2   3   4   5   6   7   8   9   ...  60  61  62  63  64  65  66  \\\n",
       "0   0   0   0   0   0   0   0   0   0   0  ...   0   0   0   0   0   0   0   \n",
       "1   0   0   0   0   0   0   0   0   0   0  ...   0   0   0   0   0   0   0   \n",
       "2   0   0   0   0   0   0   0   0   0   0  ...   0   0   0   0   0   0   0   \n",
       "3   0   0   0   2   0   0   0   0   0   0  ...   0   0   0   0   0   0   0   \n",
       "4   0   0   0   0  16   0   0   0   0   0  ...   0   0   0   0   0   0   0   \n",
       "\n",
       "   67  68  69  \n",
       "0   0   0   0  \n",
       "1   0   0   0  \n",
       "2   0   0   0  \n",
       "3   0   0   0  \n",
       "4   0   0   0  \n",
       "\n",
       "[5 rows x 70 columns]"
      ]
     },
     "execution_count": 88,
     "metadata": {},
     "output_type": "execute_result"
    }
   ],
   "source": [
    "import pandas as pd\n",
    "D = pd.DataFrame(train_accuracy.getInfo())\n",
    "D.head()"
   ]
  },
  {
   "cell_type": "code",
   "execution_count": 19,
   "id": "c85b2b74",
   "metadata": {},
   "outputs": [
    {
     "data": {
      "text/plain": [
       "0.8864942528735632"
      ]
     },
     "execution_count": 19,
     "metadata": {},
     "output_type": "execute_result"
    }
   ],
   "source": [
    "# RandomForest()\n",
    "train_accuracy.accuracy().getInfo()"
   ]
  },
  {
   "cell_type": "code",
   "execution_count": 89,
   "id": "7e7b79f1",
   "metadata": {},
   "outputs": [
    {
     "data": {
      "text/plain": [
       "1"
      ]
     },
     "execution_count": 89,
     "metadata": {},
     "output_type": "execute_result"
    }
   ],
   "source": [
    "#CART\n",
    "train_accuracy.accuracy().getInfo()"
   ]
  },
  {
   "cell_type": "code",
   "execution_count": 20,
   "id": "e28dc4c9",
   "metadata": {},
   "outputs": [
    {
     "data": {
      "text/plain": [
       "0.8417899625364708"
      ]
     },
     "execution_count": 20,
     "metadata": {},
     "output_type": "execute_result"
    }
   ],
   "source": [
    "# RandomForest\n",
    "train_accuracy.kappa().getInfo()"
   ]
  },
  {
   "cell_type": "code",
   "execution_count": 90,
   "id": "3acae9e1",
   "metadata": {},
   "outputs": [
    {
     "data": {
      "text/plain": [
       "1"
      ]
     },
     "execution_count": 90,
     "metadata": {},
     "output_type": "execute_result"
    }
   ],
   "source": [
    "train_accuracy.kappa().getInfo()"
   ]
  },
  {
   "cell_type": "code",
   "execution_count": 21,
   "id": "6c66dabf",
   "metadata": {},
   "outputs": [
    {
     "data": {
      "text/html": [
       "<div>\n",
       "<style scoped>\n",
       "    .dataframe tbody tr th:only-of-type {\n",
       "        vertical-align: middle;\n",
       "    }\n",
       "\n",
       "    .dataframe tbody tr th {\n",
       "        vertical-align: top;\n",
       "    }\n",
       "\n",
       "    .dataframe thead th {\n",
       "        text-align: right;\n",
       "    }\n",
       "</style>\n",
       "<table border=\"1\" class=\"dataframe\">\n",
       "  <thead>\n",
       "    <tr style=\"text-align: right;\">\n",
       "      <th></th>\n",
       "      <th>0</th>\n",
       "    </tr>\n",
       "  </thead>\n",
       "  <tbody>\n",
       "    <tr>\n",
       "      <th>0</th>\n",
       "      <td>0.000000</td>\n",
       "    </tr>\n",
       "    <tr>\n",
       "      <th>1</th>\n",
       "      <td>0.000000</td>\n",
       "    </tr>\n",
       "    <tr>\n",
       "      <th>2</th>\n",
       "      <td>1.000000</td>\n",
       "    </tr>\n",
       "    <tr>\n",
       "      <th>3</th>\n",
       "      <td>1.000000</td>\n",
       "    </tr>\n",
       "    <tr>\n",
       "      <th>4</th>\n",
       "      <td>0.833333</td>\n",
       "    </tr>\n",
       "  </tbody>\n",
       "</table>\n",
       "</div>"
      ],
      "text/plain": [
       "          0\n",
       "0  0.000000\n",
       "1  0.000000\n",
       "2  1.000000\n",
       "3  1.000000\n",
       "4  0.833333"
      ]
     },
     "execution_count": 21,
     "metadata": {},
     "output_type": "execute_result"
    }
   ],
   "source": [
    "# RandomForest\n",
    "PA = pd.DataFrame(train_accuracy.producersAccuracy().getInfo())\n",
    "PA.head()"
   ]
  },
  {
   "cell_type": "code",
   "execution_count": 91,
   "id": "36b590f8",
   "metadata": {},
   "outputs": [
    {
     "data": {
      "text/html": [
       "<div>\n",
       "<style scoped>\n",
       "    .dataframe tbody tr th:only-of-type {\n",
       "        vertical-align: middle;\n",
       "    }\n",
       "\n",
       "    .dataframe tbody tr th {\n",
       "        vertical-align: top;\n",
       "    }\n",
       "\n",
       "    .dataframe thead th {\n",
       "        text-align: right;\n",
       "    }\n",
       "</style>\n",
       "<table border=\"1\" class=\"dataframe\">\n",
       "  <thead>\n",
       "    <tr style=\"text-align: right;\">\n",
       "      <th></th>\n",
       "      <th>0</th>\n",
       "    </tr>\n",
       "  </thead>\n",
       "  <tbody>\n",
       "    <tr>\n",
       "      <th>0</th>\n",
       "      <td>0</td>\n",
       "    </tr>\n",
       "    <tr>\n",
       "      <th>1</th>\n",
       "      <td>0</td>\n",
       "    </tr>\n",
       "    <tr>\n",
       "      <th>2</th>\n",
       "      <td>0</td>\n",
       "    </tr>\n",
       "    <tr>\n",
       "      <th>3</th>\n",
       "      <td>1</td>\n",
       "    </tr>\n",
       "    <tr>\n",
       "      <th>4</th>\n",
       "      <td>1</td>\n",
       "    </tr>\n",
       "  </tbody>\n",
       "</table>\n",
       "</div>"
      ],
      "text/plain": [
       "   0\n",
       "0  0\n",
       "1  0\n",
       "2  0\n",
       "3  1\n",
       "4  1"
      ]
     },
     "execution_count": 91,
     "metadata": {},
     "output_type": "execute_result"
    }
   ],
   "source": [
    "#CART\n",
    "PA = pd.DataFrame(train_accuracy.producersAccuracy().getInfo())\n",
    "PA.head()"
   ]
  },
  {
   "cell_type": "code",
   "execution_count": 22,
   "id": "caf05ad4",
   "metadata": {},
   "outputs": [
    {
     "data": {
      "text/html": [
       "<div>\n",
       "<style scoped>\n",
       "    .dataframe tbody tr th:only-of-type {\n",
       "        vertical-align: middle;\n",
       "    }\n",
       "\n",
       "    .dataframe tbody tr th {\n",
       "        vertical-align: top;\n",
       "    }\n",
       "\n",
       "    .dataframe thead th {\n",
       "        text-align: right;\n",
       "    }\n",
       "</style>\n",
       "<table border=\"1\" class=\"dataframe\">\n",
       "  <thead>\n",
       "    <tr style=\"text-align: right;\">\n",
       "      <th></th>\n",
       "      <th>0</th>\n",
       "      <th>1</th>\n",
       "      <th>2</th>\n",
       "      <th>3</th>\n",
       "      <th>4</th>\n",
       "      <th>5</th>\n",
       "      <th>6</th>\n",
       "      <th>7</th>\n",
       "      <th>8</th>\n",
       "      <th>9</th>\n",
       "      <th>...</th>\n",
       "      <th>60</th>\n",
       "      <th>61</th>\n",
       "      <th>62</th>\n",
       "      <th>63</th>\n",
       "      <th>64</th>\n",
       "      <th>65</th>\n",
       "      <th>66</th>\n",
       "      <th>67</th>\n",
       "      <th>68</th>\n",
       "      <th>69</th>\n",
       "    </tr>\n",
       "  </thead>\n",
       "  <tbody>\n",
       "    <tr>\n",
       "      <th>0</th>\n",
       "      <td>0</td>\n",
       "      <td>0</td>\n",
       "      <td>1</td>\n",
       "      <td>1</td>\n",
       "      <td>0.714286</td>\n",
       "      <td>0</td>\n",
       "      <td>0.5</td>\n",
       "      <td>0</td>\n",
       "      <td>0.869048</td>\n",
       "      <td>0.923077</td>\n",
       "      <td>...</td>\n",
       "      <td>0</td>\n",
       "      <td>0</td>\n",
       "      <td>0</td>\n",
       "      <td>0</td>\n",
       "      <td>0</td>\n",
       "      <td>1</td>\n",
       "      <td>1</td>\n",
       "      <td>1</td>\n",
       "      <td>0</td>\n",
       "      <td>0.75</td>\n",
       "    </tr>\n",
       "  </tbody>\n",
       "</table>\n",
       "<p>1 rows × 70 columns</p>\n",
       "</div>"
      ],
      "text/plain": [
       "   0   1   2   3         4   5    6   7         8         9   ...  60  61  62  \\\n",
       "0   0   0   1   1  0.714286   0  0.5   0  0.869048  0.923077  ...   0   0   0   \n",
       "\n",
       "   63  64  65  66  67  68    69  \n",
       "0   0   0   1   1   1   0  0.75  \n",
       "\n",
       "[1 rows x 70 columns]"
      ]
     },
     "execution_count": 22,
     "metadata": {},
     "output_type": "execute_result"
    }
   ],
   "source": [
    "# RandomForest\n",
    "CA = pd.DataFrame(train_accuracy.consumersAccuracy().getInfo())\n",
    "CA.head()"
   ]
  },
  {
   "cell_type": "code",
   "execution_count": 92,
   "id": "e01bb230",
   "metadata": {},
   "outputs": [
    {
     "data": {
      "text/html": [
       "<div>\n",
       "<style scoped>\n",
       "    .dataframe tbody tr th:only-of-type {\n",
       "        vertical-align: middle;\n",
       "    }\n",
       "\n",
       "    .dataframe tbody tr th {\n",
       "        vertical-align: top;\n",
       "    }\n",
       "\n",
       "    .dataframe thead th {\n",
       "        text-align: right;\n",
       "    }\n",
       "</style>\n",
       "<table border=\"1\" class=\"dataframe\">\n",
       "  <thead>\n",
       "    <tr style=\"text-align: right;\">\n",
       "      <th></th>\n",
       "      <th>0</th>\n",
       "      <th>1</th>\n",
       "      <th>2</th>\n",
       "      <th>3</th>\n",
       "      <th>4</th>\n",
       "      <th>5</th>\n",
       "      <th>6</th>\n",
       "      <th>7</th>\n",
       "      <th>8</th>\n",
       "      <th>9</th>\n",
       "      <th>...</th>\n",
       "      <th>60</th>\n",
       "      <th>61</th>\n",
       "      <th>62</th>\n",
       "      <th>63</th>\n",
       "      <th>64</th>\n",
       "      <th>65</th>\n",
       "      <th>66</th>\n",
       "      <th>67</th>\n",
       "      <th>68</th>\n",
       "      <th>69</th>\n",
       "    </tr>\n",
       "  </thead>\n",
       "  <tbody>\n",
       "    <tr>\n",
       "      <th>0</th>\n",
       "      <td>0</td>\n",
       "      <td>0</td>\n",
       "      <td>0</td>\n",
       "      <td>1</td>\n",
       "      <td>1</td>\n",
       "      <td>0</td>\n",
       "      <td>0</td>\n",
       "      <td>0</td>\n",
       "      <td>1</td>\n",
       "      <td>1</td>\n",
       "      <td>...</td>\n",
       "      <td>0</td>\n",
       "      <td>0</td>\n",
       "      <td>0</td>\n",
       "      <td>0</td>\n",
       "      <td>0</td>\n",
       "      <td>1</td>\n",
       "      <td>1</td>\n",
       "      <td>1</td>\n",
       "      <td>0</td>\n",
       "      <td>1</td>\n",
       "    </tr>\n",
       "  </tbody>\n",
       "</table>\n",
       "<p>1 rows × 70 columns</p>\n",
       "</div>"
      ],
      "text/plain": [
       "   0   1   2   3   4   5   6   7   8   9   ...  60  61  62  63  64  65  66  \\\n",
       "0   0   0   0   1   1   0   0   0   1   1  ...   0   0   0   0   0   1   1   \n",
       "\n",
       "   67  68  69  \n",
       "0   1   0   1  \n",
       "\n",
       "[1 rows x 70 columns]"
      ]
     },
     "execution_count": 92,
     "metadata": {},
     "output_type": "execute_result"
    }
   ],
   "source": [
    "# CART\n",
    "CA = pd.DataFrame(train_accuracy.consumersAccuracy().getInfo())\n",
    "CA.head()"
   ]
  },
  {
   "cell_type": "markdown",
   "id": "b44296fc",
   "metadata": {},
   "source": [
    "#### Validation dataset"
   ]
  },
  {
   "cell_type": "code",
   "execution_count": 23,
   "id": "bfbac32f",
   "metadata": {},
   "outputs": [],
   "source": [
    "# RandomForest\n",
    "validated = validation.classify(classifier)"
   ]
  },
  {
   "cell_type": "code",
   "execution_count": 93,
   "id": "5f04c775",
   "metadata": {},
   "outputs": [],
   "source": [
    "# CART\n",
    "validated = validation.classify(classifier)"
   ]
  },
  {
   "cell_type": "code",
   "execution_count": 24,
   "id": "ada555b6",
   "metadata": {},
   "outputs": [],
   "source": [
    "# RandomForest\n",
    "validation_accuracy = validated.errorMatrix('b1', 'classification')"
   ]
  },
  {
   "cell_type": "code",
   "execution_count": 94,
   "id": "f0c83cf5",
   "metadata": {},
   "outputs": [],
   "source": [
    "# CART\n",
    "validation_accuracy = validated.errorMatrix('b1', 'classification')"
   ]
  },
  {
   "cell_type": "code",
   "execution_count": 25,
   "id": "5eabf8db",
   "metadata": {},
   "outputs": [
    {
     "data": {
      "text/html": [
       "<div>\n",
       "<style scoped>\n",
       "    .dataframe tbody tr th:only-of-type {\n",
       "        vertical-align: middle;\n",
       "    }\n",
       "\n",
       "    .dataframe tbody tr th {\n",
       "        vertical-align: top;\n",
       "    }\n",
       "\n",
       "    .dataframe thead th {\n",
       "        text-align: right;\n",
       "    }\n",
       "</style>\n",
       "<table border=\"1\" class=\"dataframe\">\n",
       "  <thead>\n",
       "    <tr style=\"text-align: right;\">\n",
       "      <th></th>\n",
       "      <th>0</th>\n",
       "      <th>1</th>\n",
       "      <th>2</th>\n",
       "      <th>3</th>\n",
       "      <th>4</th>\n",
       "      <th>5</th>\n",
       "      <th>6</th>\n",
       "      <th>7</th>\n",
       "      <th>8</th>\n",
       "      <th>9</th>\n",
       "      <th>...</th>\n",
       "      <th>60</th>\n",
       "      <th>61</th>\n",
       "      <th>62</th>\n",
       "      <th>63</th>\n",
       "      <th>64</th>\n",
       "      <th>65</th>\n",
       "      <th>66</th>\n",
       "      <th>67</th>\n",
       "      <th>68</th>\n",
       "      <th>69</th>\n",
       "    </tr>\n",
       "  </thead>\n",
       "  <tbody>\n",
       "    <tr>\n",
       "      <th>0</th>\n",
       "      <td>0</td>\n",
       "      <td>0</td>\n",
       "      <td>0</td>\n",
       "      <td>0</td>\n",
       "      <td>0</td>\n",
       "      <td>0</td>\n",
       "      <td>0</td>\n",
       "      <td>0</td>\n",
       "      <td>0</td>\n",
       "      <td>0</td>\n",
       "      <td>...</td>\n",
       "      <td>0</td>\n",
       "      <td>0</td>\n",
       "      <td>0</td>\n",
       "      <td>0</td>\n",
       "      <td>0</td>\n",
       "      <td>0</td>\n",
       "      <td>0</td>\n",
       "      <td>0</td>\n",
       "      <td>0</td>\n",
       "      <td>0</td>\n",
       "    </tr>\n",
       "    <tr>\n",
       "      <th>1</th>\n",
       "      <td>0</td>\n",
       "      <td>0</td>\n",
       "      <td>0</td>\n",
       "      <td>0</td>\n",
       "      <td>0</td>\n",
       "      <td>0</td>\n",
       "      <td>0</td>\n",
       "      <td>0</td>\n",
       "      <td>0</td>\n",
       "      <td>0</td>\n",
       "      <td>...</td>\n",
       "      <td>0</td>\n",
       "      <td>0</td>\n",
       "      <td>0</td>\n",
       "      <td>0</td>\n",
       "      <td>0</td>\n",
       "      <td>0</td>\n",
       "      <td>0</td>\n",
       "      <td>0</td>\n",
       "      <td>0</td>\n",
       "      <td>0</td>\n",
       "    </tr>\n",
       "    <tr>\n",
       "      <th>2</th>\n",
       "      <td>0</td>\n",
       "      <td>0</td>\n",
       "      <td>0</td>\n",
       "      <td>0</td>\n",
       "      <td>0</td>\n",
       "      <td>0</td>\n",
       "      <td>0</td>\n",
       "      <td>0</td>\n",
       "      <td>0</td>\n",
       "      <td>0</td>\n",
       "      <td>...</td>\n",
       "      <td>0</td>\n",
       "      <td>0</td>\n",
       "      <td>0</td>\n",
       "      <td>0</td>\n",
       "      <td>0</td>\n",
       "      <td>0</td>\n",
       "      <td>0</td>\n",
       "      <td>0</td>\n",
       "      <td>0</td>\n",
       "      <td>0</td>\n",
       "    </tr>\n",
       "    <tr>\n",
       "      <th>3</th>\n",
       "      <td>0</td>\n",
       "      <td>0</td>\n",
       "      <td>1</td>\n",
       "      <td>0</td>\n",
       "      <td>0</td>\n",
       "      <td>0</td>\n",
       "      <td>0</td>\n",
       "      <td>0</td>\n",
       "      <td>0</td>\n",
       "      <td>0</td>\n",
       "      <td>...</td>\n",
       "      <td>0</td>\n",
       "      <td>0</td>\n",
       "      <td>0</td>\n",
       "      <td>0</td>\n",
       "      <td>0</td>\n",
       "      <td>0</td>\n",
       "      <td>0</td>\n",
       "      <td>0</td>\n",
       "      <td>0</td>\n",
       "      <td>0</td>\n",
       "    </tr>\n",
       "    <tr>\n",
       "      <th>4</th>\n",
       "      <td>0</td>\n",
       "      <td>0</td>\n",
       "      <td>0</td>\n",
       "      <td>0</td>\n",
       "      <td>2</td>\n",
       "      <td>0</td>\n",
       "      <td>0</td>\n",
       "      <td>0</td>\n",
       "      <td>0</td>\n",
       "      <td>0</td>\n",
       "      <td>...</td>\n",
       "      <td>0</td>\n",
       "      <td>0</td>\n",
       "      <td>0</td>\n",
       "      <td>0</td>\n",
       "      <td>0</td>\n",
       "      <td>0</td>\n",
       "      <td>0</td>\n",
       "      <td>0</td>\n",
       "      <td>0</td>\n",
       "      <td>0</td>\n",
       "    </tr>\n",
       "  </tbody>\n",
       "</table>\n",
       "<p>5 rows × 70 columns</p>\n",
       "</div>"
      ],
      "text/plain": [
       "   0   1   2   3   4   5   6   7   8   9   ...  60  61  62  63  64  65  66  \\\n",
       "0   0   0   0   0   0   0   0   0   0   0  ...   0   0   0   0   0   0   0   \n",
       "1   0   0   0   0   0   0   0   0   0   0  ...   0   0   0   0   0   0   0   \n",
       "2   0   0   0   0   0   0   0   0   0   0  ...   0   0   0   0   0   0   0   \n",
       "3   0   0   1   0   0   0   0   0   0   0  ...   0   0   0   0   0   0   0   \n",
       "4   0   0   0   0   2   0   0   0   0   0  ...   0   0   0   0   0   0   0   \n",
       "\n",
       "   67  68  69  \n",
       "0   0   0   0  \n",
       "1   0   0   0  \n",
       "2   0   0   0  \n",
       "3   0   0   0  \n",
       "4   0   0   0  \n",
       "\n",
       "[5 rows x 70 columns]"
      ]
     },
     "execution_count": 25,
     "metadata": {},
     "output_type": "execute_result"
    }
   ],
   "source": [
    "# RandomForest\n",
    "VA = pd.DataFrame(validation_accuracy.getInfo())\n",
    "VA.head()"
   ]
  },
  {
   "cell_type": "code",
   "execution_count": 95,
   "id": "3d6f582c",
   "metadata": {},
   "outputs": [
    {
     "data": {
      "text/html": [
       "<div>\n",
       "<style scoped>\n",
       "    .dataframe tbody tr th:only-of-type {\n",
       "        vertical-align: middle;\n",
       "    }\n",
       "\n",
       "    .dataframe tbody tr th {\n",
       "        vertical-align: top;\n",
       "    }\n",
       "\n",
       "    .dataframe thead th {\n",
       "        text-align: right;\n",
       "    }\n",
       "</style>\n",
       "<table border=\"1\" class=\"dataframe\">\n",
       "  <thead>\n",
       "    <tr style=\"text-align: right;\">\n",
       "      <th></th>\n",
       "      <th>0</th>\n",
       "      <th>1</th>\n",
       "      <th>2</th>\n",
       "      <th>3</th>\n",
       "      <th>4</th>\n",
       "      <th>5</th>\n",
       "      <th>6</th>\n",
       "      <th>7</th>\n",
       "      <th>8</th>\n",
       "      <th>9</th>\n",
       "      <th>...</th>\n",
       "      <th>60</th>\n",
       "      <th>61</th>\n",
       "      <th>62</th>\n",
       "      <th>63</th>\n",
       "      <th>64</th>\n",
       "      <th>65</th>\n",
       "      <th>66</th>\n",
       "      <th>67</th>\n",
       "      <th>68</th>\n",
       "      <th>69</th>\n",
       "    </tr>\n",
       "  </thead>\n",
       "  <tbody>\n",
       "    <tr>\n",
       "      <th>0</th>\n",
       "      <td>0</td>\n",
       "      <td>0</td>\n",
       "      <td>0</td>\n",
       "      <td>0</td>\n",
       "      <td>0</td>\n",
       "      <td>0</td>\n",
       "      <td>0</td>\n",
       "      <td>0</td>\n",
       "      <td>0</td>\n",
       "      <td>0</td>\n",
       "      <td>...</td>\n",
       "      <td>0</td>\n",
       "      <td>0</td>\n",
       "      <td>0</td>\n",
       "      <td>0</td>\n",
       "      <td>0</td>\n",
       "      <td>0</td>\n",
       "      <td>0</td>\n",
       "      <td>0</td>\n",
       "      <td>0</td>\n",
       "      <td>0</td>\n",
       "    </tr>\n",
       "    <tr>\n",
       "      <th>1</th>\n",
       "      <td>0</td>\n",
       "      <td>0</td>\n",
       "      <td>0</td>\n",
       "      <td>0</td>\n",
       "      <td>0</td>\n",
       "      <td>0</td>\n",
       "      <td>0</td>\n",
       "      <td>0</td>\n",
       "      <td>0</td>\n",
       "      <td>0</td>\n",
       "      <td>...</td>\n",
       "      <td>0</td>\n",
       "      <td>0</td>\n",
       "      <td>0</td>\n",
       "      <td>0</td>\n",
       "      <td>0</td>\n",
       "      <td>0</td>\n",
       "      <td>0</td>\n",
       "      <td>0</td>\n",
       "      <td>0</td>\n",
       "      <td>0</td>\n",
       "    </tr>\n",
       "    <tr>\n",
       "      <th>2</th>\n",
       "      <td>0</td>\n",
       "      <td>0</td>\n",
       "      <td>0</td>\n",
       "      <td>0</td>\n",
       "      <td>0</td>\n",
       "      <td>0</td>\n",
       "      <td>0</td>\n",
       "      <td>0</td>\n",
       "      <td>0</td>\n",
       "      <td>0</td>\n",
       "      <td>...</td>\n",
       "      <td>0</td>\n",
       "      <td>0</td>\n",
       "      <td>0</td>\n",
       "      <td>0</td>\n",
       "      <td>0</td>\n",
       "      <td>0</td>\n",
       "      <td>0</td>\n",
       "      <td>0</td>\n",
       "      <td>0</td>\n",
       "      <td>0</td>\n",
       "    </tr>\n",
       "    <tr>\n",
       "      <th>3</th>\n",
       "      <td>0</td>\n",
       "      <td>0</td>\n",
       "      <td>0</td>\n",
       "      <td>1</td>\n",
       "      <td>0</td>\n",
       "      <td>0</td>\n",
       "      <td>0</td>\n",
       "      <td>0</td>\n",
       "      <td>0</td>\n",
       "      <td>0</td>\n",
       "      <td>...</td>\n",
       "      <td>0</td>\n",
       "      <td>0</td>\n",
       "      <td>0</td>\n",
       "      <td>0</td>\n",
       "      <td>0</td>\n",
       "      <td>0</td>\n",
       "      <td>0</td>\n",
       "      <td>0</td>\n",
       "      <td>0</td>\n",
       "      <td>0</td>\n",
       "    </tr>\n",
       "    <tr>\n",
       "      <th>4</th>\n",
       "      <td>0</td>\n",
       "      <td>0</td>\n",
       "      <td>0</td>\n",
       "      <td>0</td>\n",
       "      <td>2</td>\n",
       "      <td>0</td>\n",
       "      <td>0</td>\n",
       "      <td>0</td>\n",
       "      <td>2</td>\n",
       "      <td>0</td>\n",
       "      <td>...</td>\n",
       "      <td>0</td>\n",
       "      <td>0</td>\n",
       "      <td>0</td>\n",
       "      <td>0</td>\n",
       "      <td>0</td>\n",
       "      <td>0</td>\n",
       "      <td>0</td>\n",
       "      <td>1</td>\n",
       "      <td>0</td>\n",
       "      <td>0</td>\n",
       "    </tr>\n",
       "  </tbody>\n",
       "</table>\n",
       "<p>5 rows × 70 columns</p>\n",
       "</div>"
      ],
      "text/plain": [
       "   0   1   2   3   4   5   6   7   8   9   ...  60  61  62  63  64  65  66  \\\n",
       "0   0   0   0   0   0   0   0   0   0   0  ...   0   0   0   0   0   0   0   \n",
       "1   0   0   0   0   0   0   0   0   0   0  ...   0   0   0   0   0   0   0   \n",
       "2   0   0   0   0   0   0   0   0   0   0  ...   0   0   0   0   0   0   0   \n",
       "3   0   0   0   1   0   0   0   0   0   0  ...   0   0   0   0   0   0   0   \n",
       "4   0   0   0   0   2   0   0   0   2   0  ...   0   0   0   0   0   0   0   \n",
       "\n",
       "   67  68  69  \n",
       "0   0   0   0  \n",
       "1   0   0   0  \n",
       "2   0   0   0  \n",
       "3   0   0   0  \n",
       "4   1   0   0  \n",
       "\n",
       "[5 rows x 70 columns]"
      ]
     },
     "execution_count": 95,
     "metadata": {},
     "output_type": "execute_result"
    }
   ],
   "source": [
    "# CART\n",
    "VA = pd.DataFrame(validation_accuracy.getInfo())\n",
    "VA.head()"
   ]
  },
  {
   "cell_type": "code",
   "execution_count": 26,
   "id": "8e8b1c26",
   "metadata": {},
   "outputs": [
    {
     "data": {
      "text/plain": [
       "0.5822368421052632"
      ]
     },
     "execution_count": 26,
     "metadata": {},
     "output_type": "execute_result"
    }
   ],
   "source": [
    "# RandomForest\n",
    "validation_accuracy.accuracy().getInfo()"
   ]
  },
  {
   "cell_type": "code",
   "execution_count": 96,
   "id": "cbf234ef",
   "metadata": {},
   "outputs": [
    {
     "data": {
      "text/plain": [
       "0.5092592592592593"
      ]
     },
     "execution_count": 96,
     "metadata": {},
     "output_type": "execute_result"
    }
   ],
   "source": [
    "# CART\n",
    "validation_accuracy.accuracy().getInfo()"
   ]
  },
  {
   "cell_type": "code",
   "execution_count": 27,
   "id": "427187f0",
   "metadata": {},
   "outputs": [
    {
     "data": {
      "text/plain": [
       "0.4234427967683646"
      ]
     },
     "execution_count": 27,
     "metadata": {},
     "output_type": "execute_result"
    }
   ],
   "source": [
    "# RandomForest\n",
    "validation_accuracy.kappa().getInfo()"
   ]
  },
  {
   "cell_type": "code",
   "execution_count": 97,
   "id": "4a37cc47",
   "metadata": {},
   "outputs": [
    {
     "data": {
      "text/plain": [
       "0.34621046753642326"
      ]
     },
     "execution_count": 97,
     "metadata": {},
     "output_type": "execute_result"
    }
   ],
   "source": [
    "# CART\n",
    "validation_accuracy.kappa().getInfo()"
   ]
  },
  {
   "cell_type": "code",
   "execution_count": 28,
   "id": "98e8f82a",
   "metadata": {},
   "outputs": [
    {
     "data": {
      "text/html": [
       "<div>\n",
       "<style scoped>\n",
       "    .dataframe tbody tr th:only-of-type {\n",
       "        vertical-align: middle;\n",
       "    }\n",
       "\n",
       "    .dataframe tbody tr th {\n",
       "        vertical-align: top;\n",
       "    }\n",
       "\n",
       "    .dataframe thead th {\n",
       "        text-align: right;\n",
       "    }\n",
       "</style>\n",
       "<table border=\"1\" class=\"dataframe\">\n",
       "  <thead>\n",
       "    <tr style=\"text-align: right;\">\n",
       "      <th></th>\n",
       "      <th>0</th>\n",
       "    </tr>\n",
       "  </thead>\n",
       "  <tbody>\n",
       "    <tr>\n",
       "      <th>0</th>\n",
       "      <td>0.00</td>\n",
       "    </tr>\n",
       "    <tr>\n",
       "      <th>1</th>\n",
       "      <td>0.00</td>\n",
       "    </tr>\n",
       "    <tr>\n",
       "      <th>2</th>\n",
       "      <td>0.00</td>\n",
       "    </tr>\n",
       "    <tr>\n",
       "      <th>3</th>\n",
       "      <td>0.00</td>\n",
       "    </tr>\n",
       "    <tr>\n",
       "      <th>4</th>\n",
       "      <td>0.25</td>\n",
       "    </tr>\n",
       "  </tbody>\n",
       "</table>\n",
       "</div>"
      ],
      "text/plain": [
       "      0\n",
       "0  0.00\n",
       "1  0.00\n",
       "2  0.00\n",
       "3  0.00\n",
       "4  0.25"
      ]
     },
     "execution_count": 28,
     "metadata": {},
     "output_type": "execute_result"
    }
   ],
   "source": [
    "# RandomForest\n",
    "VPA = validation_accuracy.producersAccuracy().getInfo()\n",
    "pd.DataFrame(VPA).head()"
   ]
  },
  {
   "cell_type": "code",
   "execution_count": 98,
   "id": "a4f131a9",
   "metadata": {},
   "outputs": [
    {
     "data": {
      "text/html": [
       "<div>\n",
       "<style scoped>\n",
       "    .dataframe tbody tr th:only-of-type {\n",
       "        vertical-align: middle;\n",
       "    }\n",
       "\n",
       "    .dataframe tbody tr th {\n",
       "        vertical-align: top;\n",
       "    }\n",
       "\n",
       "    .dataframe thead th {\n",
       "        text-align: right;\n",
       "    }\n",
       "</style>\n",
       "<table border=\"1\" class=\"dataframe\">\n",
       "  <thead>\n",
       "    <tr style=\"text-align: right;\">\n",
       "      <th></th>\n",
       "      <th>0</th>\n",
       "    </tr>\n",
       "  </thead>\n",
       "  <tbody>\n",
       "    <tr>\n",
       "      <th>0</th>\n",
       "      <td>0.000000</td>\n",
       "    </tr>\n",
       "    <tr>\n",
       "      <th>1</th>\n",
       "      <td>0.000000</td>\n",
       "    </tr>\n",
       "    <tr>\n",
       "      <th>2</th>\n",
       "      <td>0.000000</td>\n",
       "    </tr>\n",
       "    <tr>\n",
       "      <th>3</th>\n",
       "      <td>0.333333</td>\n",
       "    </tr>\n",
       "    <tr>\n",
       "      <th>4</th>\n",
       "      <td>0.200000</td>\n",
       "    </tr>\n",
       "  </tbody>\n",
       "</table>\n",
       "</div>"
      ],
      "text/plain": [
       "          0\n",
       "0  0.000000\n",
       "1  0.000000\n",
       "2  0.000000\n",
       "3  0.333333\n",
       "4  0.200000"
      ]
     },
     "execution_count": 98,
     "metadata": {},
     "output_type": "execute_result"
    }
   ],
   "source": [
    "# CART\n",
    "VPA = validation_accuracy.producersAccuracy().getInfo()\n",
    "pd.DataFrame(VPA).head()"
   ]
  },
  {
   "cell_type": "code",
   "execution_count": 29,
   "id": "4e8b363f",
   "metadata": {},
   "outputs": [
    {
     "data": {
      "text/html": [
       "<div>\n",
       "<style scoped>\n",
       "    .dataframe tbody tr th:only-of-type {\n",
       "        vertical-align: middle;\n",
       "    }\n",
       "\n",
       "    .dataframe tbody tr th {\n",
       "        vertical-align: top;\n",
       "    }\n",
       "\n",
       "    .dataframe thead th {\n",
       "        text-align: right;\n",
       "    }\n",
       "</style>\n",
       "<table border=\"1\" class=\"dataframe\">\n",
       "  <thead>\n",
       "    <tr style=\"text-align: right;\">\n",
       "      <th></th>\n",
       "      <th>0</th>\n",
       "      <th>1</th>\n",
       "      <th>2</th>\n",
       "      <th>3</th>\n",
       "      <th>4</th>\n",
       "      <th>5</th>\n",
       "      <th>6</th>\n",
       "      <th>7</th>\n",
       "      <th>8</th>\n",
       "      <th>9</th>\n",
       "      <th>...</th>\n",
       "      <th>60</th>\n",
       "      <th>61</th>\n",
       "      <th>62</th>\n",
       "      <th>63</th>\n",
       "      <th>64</th>\n",
       "      <th>65</th>\n",
       "      <th>66</th>\n",
       "      <th>67</th>\n",
       "      <th>68</th>\n",
       "      <th>69</th>\n",
       "    </tr>\n",
       "  </thead>\n",
       "  <tbody>\n",
       "    <tr>\n",
       "      <th>0</th>\n",
       "      <td>0</td>\n",
       "      <td>0</td>\n",
       "      <td>0</td>\n",
       "      <td>0</td>\n",
       "      <td>0.222222</td>\n",
       "      <td>0</td>\n",
       "      <td>0</td>\n",
       "      <td>0</td>\n",
       "      <td>0.302326</td>\n",
       "      <td>0.666667</td>\n",
       "      <td>...</td>\n",
       "      <td>0</td>\n",
       "      <td>0</td>\n",
       "      <td>0</td>\n",
       "      <td>0</td>\n",
       "      <td>0</td>\n",
       "      <td>0</td>\n",
       "      <td>0</td>\n",
       "      <td>0</td>\n",
       "      <td>0</td>\n",
       "      <td>0</td>\n",
       "    </tr>\n",
       "  </tbody>\n",
       "</table>\n",
       "<p>1 rows × 70 columns</p>\n",
       "</div>"
      ],
      "text/plain": [
       "   0   1   2   3         4   5   6   7         8         9   ...  60  61  62  \\\n",
       "0   0   0   0   0  0.222222   0   0   0  0.302326  0.666667  ...   0   0   0   \n",
       "\n",
       "   63  64  65  66  67  68  69  \n",
       "0   0   0   0   0   0   0   0  \n",
       "\n",
       "[1 rows x 70 columns]"
      ]
     },
     "execution_count": 29,
     "metadata": {},
     "output_type": "execute_result"
    }
   ],
   "source": [
    "# RandomForest\n",
    "VCA = pd.DataFrame(validation_accuracy.consumersAccuracy().getInfo())\n",
    "pd.DataFrame(VCA).head()"
   ]
  },
  {
   "cell_type": "code",
   "execution_count": 100,
   "id": "e671a26c",
   "metadata": {},
   "outputs": [
    {
     "data": {
      "text/html": [
       "<div>\n",
       "<style scoped>\n",
       "    .dataframe tbody tr th:only-of-type {\n",
       "        vertical-align: middle;\n",
       "    }\n",
       "\n",
       "    .dataframe tbody tr th {\n",
       "        vertical-align: top;\n",
       "    }\n",
       "\n",
       "    .dataframe thead th {\n",
       "        text-align: right;\n",
       "    }\n",
       "</style>\n",
       "<table border=\"1\" class=\"dataframe\">\n",
       "  <thead>\n",
       "    <tr style=\"text-align: right;\">\n",
       "      <th></th>\n",
       "      <th>0</th>\n",
       "      <th>1</th>\n",
       "      <th>2</th>\n",
       "      <th>3</th>\n",
       "      <th>4</th>\n",
       "      <th>5</th>\n",
       "      <th>6</th>\n",
       "      <th>7</th>\n",
       "      <th>8</th>\n",
       "      <th>9</th>\n",
       "      <th>...</th>\n",
       "      <th>60</th>\n",
       "      <th>61</th>\n",
       "      <th>62</th>\n",
       "      <th>63</th>\n",
       "      <th>64</th>\n",
       "      <th>65</th>\n",
       "      <th>66</th>\n",
       "      <th>67</th>\n",
       "      <th>68</th>\n",
       "      <th>69</th>\n",
       "    </tr>\n",
       "  </thead>\n",
       "  <tbody>\n",
       "    <tr>\n",
       "      <th>0</th>\n",
       "      <td>0</td>\n",
       "      <td>0</td>\n",
       "      <td>0</td>\n",
       "      <td>0.333333</td>\n",
       "      <td>0.222222</td>\n",
       "      <td>0</td>\n",
       "      <td>0</td>\n",
       "      <td>0</td>\n",
       "      <td>0.378378</td>\n",
       "      <td>0.222222</td>\n",
       "      <td>...</td>\n",
       "      <td>0</td>\n",
       "      <td>0</td>\n",
       "      <td>0</td>\n",
       "      <td>0</td>\n",
       "      <td>0</td>\n",
       "      <td>0</td>\n",
       "      <td>0</td>\n",
       "      <td>0.25</td>\n",
       "      <td>0</td>\n",
       "      <td>0</td>\n",
       "    </tr>\n",
       "  </tbody>\n",
       "</table>\n",
       "<p>1 rows × 70 columns</p>\n",
       "</div>"
      ],
      "text/plain": [
       "   0   1   2         3         4   5   6   7         8         9   ...  60  \\\n",
       "0   0   0   0  0.333333  0.222222   0   0   0  0.378378  0.222222  ...   0   \n",
       "\n",
       "   61  62  63  64  65  66    67  68  69  \n",
       "0   0   0   0   0   0   0  0.25   0   0  \n",
       "\n",
       "[1 rows x 70 columns]"
      ]
     },
     "execution_count": 100,
     "metadata": {},
     "output_type": "execute_result"
    }
   ],
   "source": [
    "# CART\n",
    "VCA = pd.DataFrame(validation_accuracy.consumersAccuracy().getInfo())\n",
    "pd.DataFrame(VCA).head()"
   ]
  },
  {
   "cell_type": "markdown",
   "id": "e643ac37",
   "metadata": {},
   "source": [
    "## Features engineering\n",
    "This section consists of adding more information to the image, in order to help the classifier, perform more accurate classification."
   ]
  },
  {
   "cell_type": "code",
   "execution_count": 51,
   "id": "5c771adf",
   "metadata": {},
   "outputs": [],
   "source": [
    "alos = ee.Image(\"JAXA/ALOS/AW3D30/V2_2\")\n",
    "def addIndices(image):\n",
    "    #ndvi = image.normalizedDifference(['B5_median', 'B4_median']).rename(['ndvi'])\n",
    "    ndbi = image.normalizedDifference(['B6_median', 'B5_median']).rename(['ndbi'])\n",
    "    mndwi = image.normalizedDifference(['B3_median', 'B6_median']).rename(['mndwi']) \n",
    "    bsi = image.expression(\n",
    "      '(( X + Y ) - (NIR + B)) /(( X + Y ) + (NIR + B)) ', {\n",
    "        'X': image.select('B6_median'), #swir1\n",
    "        'Y': image.select('B4_median'),  #red\n",
    "        'NIR': image.select('B5_median'), # nir\n",
    "        'B': image.select('B2_median'), # blue\n",
    "  }).rename('bsi')\n",
    "    savi = image.expression(\n",
    "  '(2 * NIR + 1 - sqrt(pow((2 * NIR + 1), 2) - 8 * (NIR - RED)) ) / 2', \n",
    "  {'NIR': image.select('B5_median'),'RED': image.select('B4_median')}).rename('savi')\n",
    "    return image.addBands(ndbi).addBands(mndwi).addBands(bsi).addBands(savi)\n",
    "\n",
    "landsat_8_2020 = addIndices(landsat_8_2020)\n",
    "\n",
    "elev = alos.select('AVE_DSM').divide(2000).rename('elev')\n",
    "slope = ee.Terrain.slope(alos.select('AVE_DSM')).divide(30).rename('slope')\n",
    "landsat_8_2020 = landsat_8_2020.addBands(elev).addBands(slope)\n"
   ]
  },
  {
   "cell_type": "code",
   "execution_count": 52,
   "id": "cd2b5322",
   "metadata": {},
   "outputs": [],
   "source": [
    "### Split the 1000 points into training and testing\n",
    "# Use these bands for prediction.\n",
    "bands = ['B1_median', 'B2_median', 'B3_median', 'B4_median', 'B5_median', 'B6_median', 'B7_median']\n",
    "\n",
    "# This property of the table stores the land cover labels.\n",
    "label = 'b1'\n",
    "\n",
    "# Overlay the points on the imagery to get training.\n",
    "sample = landsat_8_2020.select(bands).sampleRegions(**{\n",
    "  'collection': points,\n",
    "  'properties': [label],\n",
    "  'scale': 20\n",
    "})\n",
    "\n",
    "# Adds a column of deterministic pseudorandom numbers. \n",
    "sample = sample.randomColumn()\n",
    "\n",
    "split = 0.7\n",
    "\n",
    "training = sample.filter(ee.Filter.lt('random', split))\n",
    "validation = sample.filter(ee.Filter.gte('random', split))"
   ]
  },
  {
   "cell_type": "code",
   "execution_count": 53,
   "id": "29b6670c",
   "metadata": {},
   "outputs": [],
   "source": [
    "classifier = ee.Classifier.smileRandomForest(5).train(training, label, bands)"
   ]
  },
  {
   "cell_type": "code",
   "execution_count": 54,
   "id": "cf2c7a3e",
   "metadata": {},
   "outputs": [
    {
     "data": {
      "application/vnd.jupyter.widget-view+json": {
       "model_id": "da21997ed8e741bdae48702d2505cde2",
       "version_major": 2,
       "version_minor": 0
      },
      "text/plain": [
       "Map(bottom=311018.0, center=[-31.61479646074631, 18.42819213867188], controls=(WidgetControl(options=['positio…"
      ]
     },
     "metadata": {},
     "output_type": "display_data"
    }
   ],
   "source": [
    "# Classify the image with the same bands used for training.\n",
    "result = landsat_8_2020.select(bands).classify(classifier)\n",
    "\n",
    "# # Display the clusters with random colors.\n",
    "Map.addLayer(result, {'min':1, 'max':73,'palette':dico['colors']}, 'classified') #result.randomVisualizer()\n",
    "Map"
   ]
  },
  {
   "cell_type": "code",
   "execution_count": 55,
   "id": "ebc86ce1",
   "metadata": {},
   "outputs": [],
   "source": [
    "train_accuracy = classifier.confusionMatrix()"
   ]
  },
  {
   "cell_type": "code",
   "execution_count": 56,
   "id": "19cf6b3d",
   "metadata": {},
   "outputs": [
    {
     "data": {
      "text/html": [
       "<div>\n",
       "<style scoped>\n",
       "    .dataframe tbody tr th:only-of-type {\n",
       "        vertical-align: middle;\n",
       "    }\n",
       "\n",
       "    .dataframe tbody tr th {\n",
       "        vertical-align: top;\n",
       "    }\n",
       "\n",
       "    .dataframe thead th {\n",
       "        text-align: right;\n",
       "    }\n",
       "</style>\n",
       "<table border=\"1\" class=\"dataframe\">\n",
       "  <thead>\n",
       "    <tr style=\"text-align: right;\">\n",
       "      <th></th>\n",
       "      <th>0</th>\n",
       "      <th>1</th>\n",
       "      <th>2</th>\n",
       "      <th>3</th>\n",
       "      <th>4</th>\n",
       "      <th>5</th>\n",
       "      <th>6</th>\n",
       "      <th>7</th>\n",
       "      <th>8</th>\n",
       "      <th>9</th>\n",
       "      <th>...</th>\n",
       "      <th>60</th>\n",
       "      <th>61</th>\n",
       "      <th>62</th>\n",
       "      <th>63</th>\n",
       "      <th>64</th>\n",
       "      <th>65</th>\n",
       "      <th>66</th>\n",
       "      <th>67</th>\n",
       "      <th>68</th>\n",
       "      <th>69</th>\n",
       "    </tr>\n",
       "  </thead>\n",
       "  <tbody>\n",
       "    <tr>\n",
       "      <th>0</th>\n",
       "      <td>0</td>\n",
       "      <td>0</td>\n",
       "      <td>0</td>\n",
       "      <td>0</td>\n",
       "      <td>0</td>\n",
       "      <td>0</td>\n",
       "      <td>0</td>\n",
       "      <td>0</td>\n",
       "      <td>0</td>\n",
       "      <td>0</td>\n",
       "      <td>...</td>\n",
       "      <td>0</td>\n",
       "      <td>0</td>\n",
       "      <td>0</td>\n",
       "      <td>0</td>\n",
       "      <td>0</td>\n",
       "      <td>0</td>\n",
       "      <td>0</td>\n",
       "      <td>0</td>\n",
       "      <td>0</td>\n",
       "      <td>0</td>\n",
       "    </tr>\n",
       "    <tr>\n",
       "      <th>1</th>\n",
       "      <td>0</td>\n",
       "      <td>0</td>\n",
       "      <td>0</td>\n",
       "      <td>0</td>\n",
       "      <td>0</td>\n",
       "      <td>0</td>\n",
       "      <td>0</td>\n",
       "      <td>0</td>\n",
       "      <td>0</td>\n",
       "      <td>0</td>\n",
       "      <td>...</td>\n",
       "      <td>0</td>\n",
       "      <td>0</td>\n",
       "      <td>0</td>\n",
       "      <td>0</td>\n",
       "      <td>0</td>\n",
       "      <td>0</td>\n",
       "      <td>0</td>\n",
       "      <td>0</td>\n",
       "      <td>0</td>\n",
       "      <td>0</td>\n",
       "    </tr>\n",
       "    <tr>\n",
       "      <th>2</th>\n",
       "      <td>0</td>\n",
       "      <td>0</td>\n",
       "      <td>0</td>\n",
       "      <td>0</td>\n",
       "      <td>0</td>\n",
       "      <td>0</td>\n",
       "      <td>0</td>\n",
       "      <td>0</td>\n",
       "      <td>0</td>\n",
       "      <td>0</td>\n",
       "      <td>...</td>\n",
       "      <td>0</td>\n",
       "      <td>0</td>\n",
       "      <td>0</td>\n",
       "      <td>0</td>\n",
       "      <td>0</td>\n",
       "      <td>0</td>\n",
       "      <td>0</td>\n",
       "      <td>0</td>\n",
       "      <td>0</td>\n",
       "      <td>0</td>\n",
       "    </tr>\n",
       "    <tr>\n",
       "      <th>3</th>\n",
       "      <td>0</td>\n",
       "      <td>0</td>\n",
       "      <td>0</td>\n",
       "      <td>3</td>\n",
       "      <td>0</td>\n",
       "      <td>0</td>\n",
       "      <td>0</td>\n",
       "      <td>0</td>\n",
       "      <td>0</td>\n",
       "      <td>0</td>\n",
       "      <td>...</td>\n",
       "      <td>0</td>\n",
       "      <td>0</td>\n",
       "      <td>0</td>\n",
       "      <td>0</td>\n",
       "      <td>0</td>\n",
       "      <td>0</td>\n",
       "      <td>0</td>\n",
       "      <td>0</td>\n",
       "      <td>0</td>\n",
       "      <td>0</td>\n",
       "    </tr>\n",
       "    <tr>\n",
       "      <th>4</th>\n",
       "      <td>0</td>\n",
       "      <td>0</td>\n",
       "      <td>0</td>\n",
       "      <td>0</td>\n",
       "      <td>19</td>\n",
       "      <td>0</td>\n",
       "      <td>0</td>\n",
       "      <td>0</td>\n",
       "      <td>0</td>\n",
       "      <td>0</td>\n",
       "      <td>...</td>\n",
       "      <td>0</td>\n",
       "      <td>0</td>\n",
       "      <td>0</td>\n",
       "      <td>0</td>\n",
       "      <td>0</td>\n",
       "      <td>0</td>\n",
       "      <td>0</td>\n",
       "      <td>0</td>\n",
       "      <td>0</td>\n",
       "      <td>0</td>\n",
       "    </tr>\n",
       "  </tbody>\n",
       "</table>\n",
       "<p>5 rows × 70 columns</p>\n",
       "</div>"
      ],
      "text/plain": [
       "   0   1   2   3   4   5   6   7   8   9   ...  60  61  62  63  64  65  66  \\\n",
       "0   0   0   0   0   0   0   0   0   0   0  ...   0   0   0   0   0   0   0   \n",
       "1   0   0   0   0   0   0   0   0   0   0  ...   0   0   0   0   0   0   0   \n",
       "2   0   0   0   0   0   0   0   0   0   0  ...   0   0   0   0   0   0   0   \n",
       "3   0   0   0   3   0   0   0   0   0   0  ...   0   0   0   0   0   0   0   \n",
       "4   0   0   0   0  19   0   0   0   0   0  ...   0   0   0   0   0   0   0   \n",
       "\n",
       "   67  68  69  \n",
       "0   0   0   0  \n",
       "1   0   0   0  \n",
       "2   0   0   0  \n",
       "3   0   0   0  \n",
       "4   0   0   0  \n",
       "\n",
       "[5 rows x 70 columns]"
      ]
     },
     "execution_count": 56,
     "metadata": {},
     "output_type": "execute_result"
    }
   ],
   "source": [
    "import pandas as pd\n",
    "D = pd.DataFrame(train_accuracy.getInfo())\n",
    "D.head()"
   ]
  },
  {
   "cell_type": "code",
   "execution_count": 57,
   "id": "471e4159",
   "metadata": {},
   "outputs": [
    {
     "data": {
      "text/plain": [
       "0.8944365192582026"
      ]
     },
     "execution_count": 57,
     "metadata": {},
     "output_type": "execute_result"
    }
   ],
   "source": [
    "train_accuracy.accuracy().getInfo()"
   ]
  },
  {
   "cell_type": "code",
   "execution_count": 58,
   "id": "ab188137",
   "metadata": {},
   "outputs": [
    {
     "data": {
      "text/plain": [
       "0.8566454244482641"
      ]
     },
     "execution_count": 58,
     "metadata": {},
     "output_type": "execute_result"
    }
   ],
   "source": [
    "train_accuracy.kappa().getInfo()"
   ]
  },
  {
   "cell_type": "code",
   "execution_count": 60,
   "id": "087eca8d",
   "metadata": {},
   "outputs": [],
   "source": [
    "validated = validation.classify(classifier)"
   ]
  },
  {
   "cell_type": "code",
   "execution_count": 61,
   "id": "8ebc9fc1",
   "metadata": {},
   "outputs": [],
   "source": [
    "validation_accuracy = validated.errorMatrix('b1', 'classification')"
   ]
  },
  {
   "cell_type": "code",
   "execution_count": 62,
   "id": "defa77e9",
   "metadata": {},
   "outputs": [
    {
     "data": {
      "text/plain": [
       "0.5551839464882943"
      ]
     },
     "execution_count": 62,
     "metadata": {},
     "output_type": "execute_result"
    }
   ],
   "source": [
    "validation_accuracy.accuracy().getInfo()"
   ]
  },
  {
   "cell_type": "code",
   "execution_count": 63,
   "id": "a95407ba",
   "metadata": {},
   "outputs": [
    {
     "data": {
      "text/plain": [
       "0.36480529022777364"
      ]
     },
     "execution_count": 63,
     "metadata": {},
     "output_type": "execute_result"
    }
   ],
   "source": [
    "validation_accuracy.kappa().getInfo()"
   ]
  },
  {
   "cell_type": "code",
   "execution_count": null,
   "id": "360b76f9",
   "metadata": {},
   "outputs": [],
   "source": []
  },
  {
   "cell_type": "code",
   "execution_count": null,
   "id": "c3f88267",
   "metadata": {},
   "outputs": [],
   "source": []
  },
  {
   "cell_type": "markdown",
   "id": "40cd5325",
   "metadata": {},
   "source": [
    "### Test the model on SANLC 2018"
   ]
  },
  {
   "cell_type": "code",
   "execution_count": 64,
   "id": "95141837",
   "metadata": {},
   "outputs": [],
   "source": [
    "# Add landsat8 TOA to the ROI\n",
    "dataset = ee.ImageCollection(\"LANDSAT/LC08/C01/T1_TOA\").filterBounds(sa22).filterDate('2018-01-01','2018-12-31').filterMetadata('CLOUD_COVER','less_than',70)\n",
    "rgbVis  = {\n",
    "  'min': 0.0,\n",
    "  'max': 0.3,\n",
    "  'gamma':1.4,\n",
    "  'bands': ['B4_median', 'B3_median', 'B2_median'],\n",
    "}\n",
    "# ///////////////// Use Median Band in parameters///////////////////////\n",
    "\n",
    "median = dataset.reduce(ee.Reducer.median())\n",
    "\n",
    "# ////////////////Mosaic these two image collections///////////////////\n",
    "\n",
    "mosaic_1 = ee.ImageCollection.fromImages([median]).mosaic()\n",
    "\n",
    "# ////////////////////////Clip by assets or roi////////////////////////\n",
    "\n",
    "landsat_8_2018 = mosaic_1.clip(sa22)\n",
    "\n",
    "# /////////////// Display the clipped ImageCollection/////////////////\n",
    "\n",
    "Map.addLayer(landsat_8_2018, rgbVis, 'landsat_roi18')\n",
    "#Map"
   ]
  },
  {
   "cell_type": "code",
   "execution_count": 66,
   "id": "a1f1ea41",
   "metadata": {},
   "outputs": [],
   "source": [
    "sanlcd2018 = ee.Image('projects/sat-io/open-datasets/landcover/SA_NLC_2018').select('b1').clip(sa22)\n",
    "\n",
    "# Make the training dataset.\n",
    "points1 = sanlcd2018.sample(**{\n",
    "    'region': sa22,\n",
    "    'scale': 20,\n",
    "    'numPixels': 800,\n",
    "    'seed': 0,\n",
    "    'geometries': True  # Set this to False to ignore geometries\n",
    "})"
   ]
  },
  {
   "cell_type": "code",
   "execution_count": 67,
   "id": "5a1fcfbf",
   "metadata": {},
   "outputs": [],
   "source": [
    "### Split the 1000 points into training and testing\n",
    "# Use these bands for prediction.\n",
    "bands = ['B1_median', 'B2_median', 'B3_median', 'B4_median', 'B5_median', 'B6_median', 'B7_median']\n",
    "\n",
    "# This property of the table stores the land cover labels.\n",
    "label = 'b1'\n",
    "\n",
    "# Overlay the points on the imagery to get training.\n",
    "sample1 = landsat_8_2018.select(bands).sampleRegions(**{\n",
    "  'collection': points1,\n",
    "  'properties': [label],\n",
    "  'scale': 20\n",
    "})"
   ]
  },
  {
   "cell_type": "code",
   "execution_count": 68,
   "id": "a97e5ab7",
   "metadata": {},
   "outputs": [],
   "source": [
    "test18 = sample1.classify(classifier)"
   ]
  },
  {
   "cell_type": "code",
   "execution_count": 69,
   "id": "1f847dd9",
   "metadata": {},
   "outputs": [],
   "source": [
    "test_accuracy18 = test18.errorMatrix('b1', 'classification')"
   ]
  },
  {
   "cell_type": "code",
   "execution_count": 70,
   "id": "cd4fe012",
   "metadata": {},
   "outputs": [
    {
     "data": {
      "text/html": [
       "<div>\n",
       "<style scoped>\n",
       "    .dataframe tbody tr th:only-of-type {\n",
       "        vertical-align: middle;\n",
       "    }\n",
       "\n",
       "    .dataframe tbody tr th {\n",
       "        vertical-align: top;\n",
       "    }\n",
       "\n",
       "    .dataframe thead th {\n",
       "        text-align: right;\n",
       "    }\n",
       "</style>\n",
       "<table border=\"1\" class=\"dataframe\">\n",
       "  <thead>\n",
       "    <tr style=\"text-align: right;\">\n",
       "      <th></th>\n",
       "      <th>0</th>\n",
       "      <th>1</th>\n",
       "      <th>2</th>\n",
       "      <th>3</th>\n",
       "      <th>4</th>\n",
       "      <th>5</th>\n",
       "      <th>6</th>\n",
       "      <th>7</th>\n",
       "      <th>8</th>\n",
       "      <th>9</th>\n",
       "      <th>...</th>\n",
       "      <th>60</th>\n",
       "      <th>61</th>\n",
       "      <th>62</th>\n",
       "      <th>63</th>\n",
       "      <th>64</th>\n",
       "      <th>65</th>\n",
       "      <th>66</th>\n",
       "      <th>67</th>\n",
       "      <th>68</th>\n",
       "      <th>69</th>\n",
       "    </tr>\n",
       "  </thead>\n",
       "  <tbody>\n",
       "    <tr>\n",
       "      <th>0</th>\n",
       "      <td>0</td>\n",
       "      <td>0</td>\n",
       "      <td>0</td>\n",
       "      <td>0</td>\n",
       "      <td>0</td>\n",
       "      <td>0</td>\n",
       "      <td>0</td>\n",
       "      <td>0</td>\n",
       "      <td>0</td>\n",
       "      <td>0</td>\n",
       "      <td>...</td>\n",
       "      <td>0</td>\n",
       "      <td>0</td>\n",
       "      <td>0</td>\n",
       "      <td>0</td>\n",
       "      <td>0</td>\n",
       "      <td>0</td>\n",
       "      <td>0</td>\n",
       "      <td>0</td>\n",
       "      <td>0</td>\n",
       "      <td>0</td>\n",
       "    </tr>\n",
       "    <tr>\n",
       "      <th>1</th>\n",
       "      <td>0</td>\n",
       "      <td>0</td>\n",
       "      <td>0</td>\n",
       "      <td>0</td>\n",
       "      <td>0</td>\n",
       "      <td>0</td>\n",
       "      <td>0</td>\n",
       "      <td>0</td>\n",
       "      <td>0</td>\n",
       "      <td>0</td>\n",
       "      <td>...</td>\n",
       "      <td>0</td>\n",
       "      <td>0</td>\n",
       "      <td>0</td>\n",
       "      <td>0</td>\n",
       "      <td>0</td>\n",
       "      <td>0</td>\n",
       "      <td>0</td>\n",
       "      <td>0</td>\n",
       "      <td>0</td>\n",
       "      <td>0</td>\n",
       "    </tr>\n",
       "    <tr>\n",
       "      <th>2</th>\n",
       "      <td>0</td>\n",
       "      <td>0</td>\n",
       "      <td>0</td>\n",
       "      <td>0</td>\n",
       "      <td>0</td>\n",
       "      <td>0</td>\n",
       "      <td>0</td>\n",
       "      <td>0</td>\n",
       "      <td>0</td>\n",
       "      <td>0</td>\n",
       "      <td>...</td>\n",
       "      <td>0</td>\n",
       "      <td>0</td>\n",
       "      <td>0</td>\n",
       "      <td>0</td>\n",
       "      <td>0</td>\n",
       "      <td>0</td>\n",
       "      <td>0</td>\n",
       "      <td>0</td>\n",
       "      <td>0</td>\n",
       "      <td>0</td>\n",
       "    </tr>\n",
       "    <tr>\n",
       "      <th>3</th>\n",
       "      <td>0</td>\n",
       "      <td>0</td>\n",
       "      <td>0</td>\n",
       "      <td>1</td>\n",
       "      <td>3</td>\n",
       "      <td>0</td>\n",
       "      <td>0</td>\n",
       "      <td>0</td>\n",
       "      <td>0</td>\n",
       "      <td>0</td>\n",
       "      <td>...</td>\n",
       "      <td>0</td>\n",
       "      <td>0</td>\n",
       "      <td>0</td>\n",
       "      <td>0</td>\n",
       "      <td>0</td>\n",
       "      <td>0</td>\n",
       "      <td>0</td>\n",
       "      <td>0</td>\n",
       "      <td>0</td>\n",
       "      <td>0</td>\n",
       "    </tr>\n",
       "    <tr>\n",
       "      <th>4</th>\n",
       "      <td>0</td>\n",
       "      <td>0</td>\n",
       "      <td>0</td>\n",
       "      <td>1</td>\n",
       "      <td>8</td>\n",
       "      <td>0</td>\n",
       "      <td>0</td>\n",
       "      <td>0</td>\n",
       "      <td>1</td>\n",
       "      <td>0</td>\n",
       "      <td>...</td>\n",
       "      <td>0</td>\n",
       "      <td>0</td>\n",
       "      <td>0</td>\n",
       "      <td>0</td>\n",
       "      <td>0</td>\n",
       "      <td>0</td>\n",
       "      <td>0</td>\n",
       "      <td>0</td>\n",
       "      <td>0</td>\n",
       "      <td>0</td>\n",
       "    </tr>\n",
       "  </tbody>\n",
       "</table>\n",
       "<p>5 rows × 70 columns</p>\n",
       "</div>"
      ],
      "text/plain": [
       "   0   1   2   3   4   5   6   7   8   9   ...  60  61  62  63  64  65  66  \\\n",
       "0   0   0   0   0   0   0   0   0   0   0  ...   0   0   0   0   0   0   0   \n",
       "1   0   0   0   0   0   0   0   0   0   0  ...   0   0   0   0   0   0   0   \n",
       "2   0   0   0   0   0   0   0   0   0   0  ...   0   0   0   0   0   0   0   \n",
       "3   0   0   0   1   3   0   0   0   0   0  ...   0   0   0   0   0   0   0   \n",
       "4   0   0   0   1   8   0   0   0   1   0  ...   0   0   0   0   0   0   0   \n",
       "\n",
       "   67  68  69  \n",
       "0   0   0   0  \n",
       "1   0   0   0  \n",
       "2   0   0   0  \n",
       "3   0   0   0  \n",
       "4   0   0   0  \n",
       "\n",
       "[5 rows x 70 columns]"
      ]
     },
     "execution_count": 70,
     "metadata": {},
     "output_type": "execute_result"
    }
   ],
   "source": [
    "T18 = pd.DataFrame(test_accuracy18.getInfo())\n",
    "pd.DataFrame(T18).head()"
   ]
  },
  {
   "cell_type": "code",
   "execution_count": 71,
   "id": "add2a2ea",
   "metadata": {},
   "outputs": [
    {
     "data": {
      "text/plain": [
       "0.5425"
      ]
     },
     "execution_count": 71,
     "metadata": {},
     "output_type": "execute_result"
    }
   ],
   "source": [
    "test_accuracy18.accuracy().getInfo()"
   ]
  },
  {
   "cell_type": "code",
   "execution_count": 72,
   "id": "785727a1",
   "metadata": {},
   "outputs": [
    {
     "data": {
      "text/plain": [
       "0.3657299196547907"
      ]
     },
     "execution_count": 72,
     "metadata": {},
     "output_type": "execute_result"
    }
   ],
   "source": [
    "test_accuracy18.kappa().getInfo()"
   ]
  },
  {
   "cell_type": "code",
   "execution_count": 74,
   "id": "77f08371",
   "metadata": {},
   "outputs": [
    {
     "data": {
      "text/html": [
       "<div>\n",
       "<style scoped>\n",
       "    .dataframe tbody tr th:only-of-type {\n",
       "        vertical-align: middle;\n",
       "    }\n",
       "\n",
       "    .dataframe tbody tr th {\n",
       "        vertical-align: top;\n",
       "    }\n",
       "\n",
       "    .dataframe thead th {\n",
       "        text-align: right;\n",
       "    }\n",
       "</style>\n",
       "<table border=\"1\" class=\"dataframe\">\n",
       "  <thead>\n",
       "    <tr style=\"text-align: right;\">\n",
       "      <th></th>\n",
       "      <th>0</th>\n",
       "    </tr>\n",
       "  </thead>\n",
       "  <tbody>\n",
       "    <tr>\n",
       "      <th>0</th>\n",
       "      <td>0.000000</td>\n",
       "    </tr>\n",
       "    <tr>\n",
       "      <th>1</th>\n",
       "      <td>0.000000</td>\n",
       "    </tr>\n",
       "    <tr>\n",
       "      <th>2</th>\n",
       "      <td>0.000000</td>\n",
       "    </tr>\n",
       "    <tr>\n",
       "      <th>3</th>\n",
       "      <td>0.200000</td>\n",
       "    </tr>\n",
       "    <tr>\n",
       "      <th>4</th>\n",
       "      <td>0.444444</td>\n",
       "    </tr>\n",
       "    <tr>\n",
       "      <th>5</th>\n",
       "      <td>0.000000</td>\n",
       "    </tr>\n",
       "    <tr>\n",
       "      <th>6</th>\n",
       "      <td>0.000000</td>\n",
       "    </tr>\n",
       "    <tr>\n",
       "      <th>7</th>\n",
       "      <td>0.000000</td>\n",
       "    </tr>\n",
       "    <tr>\n",
       "      <th>8</th>\n",
       "      <td>0.551724</td>\n",
       "    </tr>\n",
       "    <tr>\n",
       "      <th>9</th>\n",
       "      <td>0.000000</td>\n",
       "    </tr>\n",
       "    <tr>\n",
       "      <th>10</th>\n",
       "      <td>0.796657</td>\n",
       "    </tr>\n",
       "    <tr>\n",
       "      <th>11</th>\n",
       "      <td>0.000000</td>\n",
       "    </tr>\n",
       "    <tr>\n",
       "      <th>12</th>\n",
       "      <td>0.000000</td>\n",
       "    </tr>\n",
       "    <tr>\n",
       "      <th>13</th>\n",
       "      <td>0.017857</td>\n",
       "    </tr>\n",
       "    <tr>\n",
       "      <th>14</th>\n",
       "      <td>0.000000</td>\n",
       "    </tr>\n",
       "    <tr>\n",
       "      <th>15</th>\n",
       "      <td>0.000000</td>\n",
       "    </tr>\n",
       "    <tr>\n",
       "      <th>16</th>\n",
       "      <td>0.000000</td>\n",
       "    </tr>\n",
       "    <tr>\n",
       "      <th>17</th>\n",
       "      <td>0.000000</td>\n",
       "    </tr>\n",
       "    <tr>\n",
       "      <th>18</th>\n",
       "      <td>0.000000</td>\n",
       "    </tr>\n",
       "    <tr>\n",
       "      <th>19</th>\n",
       "      <td>0.000000</td>\n",
       "    </tr>\n",
       "  </tbody>\n",
       "</table>\n",
       "</div>"
      ],
      "text/plain": [
       "           0\n",
       "0   0.000000\n",
       "1   0.000000\n",
       "2   0.000000\n",
       "3   0.200000\n",
       "4   0.444444\n",
       "5   0.000000\n",
       "6   0.000000\n",
       "7   0.000000\n",
       "8   0.551724\n",
       "9   0.000000\n",
       "10  0.796657\n",
       "11  0.000000\n",
       "12  0.000000\n",
       "13  0.017857\n",
       "14  0.000000\n",
       "15  0.000000\n",
       "16  0.000000\n",
       "17  0.000000\n",
       "18  0.000000\n",
       "19  0.000000"
      ]
     },
     "execution_count": 74,
     "metadata": {},
     "output_type": "execute_result"
    }
   ],
   "source": [
    "TPA = test_accuracy18.producersAccuracy().getInfo()\n",
    "pd.DataFrame(TPA).head(20)"
   ]
  },
  {
   "cell_type": "code",
   "execution_count": 75,
   "id": "28fdcb8e",
   "metadata": {},
   "outputs": [
    {
     "data": {
      "text/html": [
       "<div>\n",
       "<style scoped>\n",
       "    .dataframe tbody tr th:only-of-type {\n",
       "        vertical-align: middle;\n",
       "    }\n",
       "\n",
       "    .dataframe tbody tr th {\n",
       "        vertical-align: top;\n",
       "    }\n",
       "\n",
       "    .dataframe thead th {\n",
       "        text-align: right;\n",
       "    }\n",
       "</style>\n",
       "<table border=\"1\" class=\"dataframe\">\n",
       "  <thead>\n",
       "    <tr style=\"text-align: right;\">\n",
       "      <th></th>\n",
       "      <th>0</th>\n",
       "      <th>1</th>\n",
       "      <th>2</th>\n",
       "      <th>3</th>\n",
       "      <th>4</th>\n",
       "      <th>5</th>\n",
       "      <th>6</th>\n",
       "      <th>7</th>\n",
       "      <th>8</th>\n",
       "      <th>9</th>\n",
       "      <th>...</th>\n",
       "      <th>60</th>\n",
       "      <th>61</th>\n",
       "      <th>62</th>\n",
       "      <th>63</th>\n",
       "      <th>64</th>\n",
       "      <th>65</th>\n",
       "      <th>66</th>\n",
       "      <th>67</th>\n",
       "      <th>68</th>\n",
       "      <th>69</th>\n",
       "    </tr>\n",
       "  </thead>\n",
       "  <tbody>\n",
       "    <tr>\n",
       "      <th>0</th>\n",
       "      <td>0</td>\n",
       "      <td>0</td>\n",
       "      <td>0</td>\n",
       "      <td>0.2</td>\n",
       "      <td>0.275862</td>\n",
       "      <td>0</td>\n",
       "      <td>0</td>\n",
       "      <td>0</td>\n",
       "      <td>0.338028</td>\n",
       "      <td>0</td>\n",
       "      <td>...</td>\n",
       "      <td>0</td>\n",
       "      <td>0</td>\n",
       "      <td>0</td>\n",
       "      <td>0</td>\n",
       "      <td>0</td>\n",
       "      <td>0</td>\n",
       "      <td>0</td>\n",
       "      <td>0.2</td>\n",
       "      <td>0</td>\n",
       "      <td>0.25</td>\n",
       "    </tr>\n",
       "  </tbody>\n",
       "</table>\n",
       "<p>1 rows × 70 columns</p>\n",
       "</div>"
      ],
      "text/plain": [
       "   0   1   2    3         4   5   6   7         8   9   ...  60  61  62  63  \\\n",
       "0   0   0   0  0.2  0.275862   0   0   0  0.338028   0  ...   0   0   0   0   \n",
       "\n",
       "   64  65  66   67  68    69  \n",
       "0   0   0   0  0.2   0  0.25  \n",
       "\n",
       "[1 rows x 70 columns]"
      ]
     },
     "execution_count": 75,
     "metadata": {},
     "output_type": "execute_result"
    }
   ],
   "source": [
    "TCA = pd.DataFrame(test_accuracy18.consumersAccuracy().getInfo())\n",
    "pd.DataFrame(TCA).head()"
   ]
  },
  {
   "cell_type": "code",
   "execution_count": null,
   "id": "11ca627c",
   "metadata": {},
   "outputs": [],
   "source": [
    "## Use the field data collected in 2018 for testing the model, in order to avoid the misclassification present in the SANLC 2018."
   ]
  },
  {
   "cell_type": "markdown",
   "id": "11e3c28f",
   "metadata": {},
   "source": [
    "## Apply the model to the image to classify "
   ]
  },
  {
   "cell_type": "code",
   "execution_count": 76,
   "id": "71b23a9b",
   "metadata": {
    "scrolled": true
   },
   "outputs": [
    {
     "data": {
      "application/vnd.jupyter.widget-view+json": {
       "model_id": "da21997ed8e741bdae48702d2505cde2",
       "version_major": 2,
       "version_minor": 0
      },
      "text/plain": [
       "Map(bottom=311018.0, center=[-31.61479646074631, 18.42819213867188], controls=(WidgetControl(options=['positio…"
      ]
     },
     "metadata": {},
     "output_type": "display_data"
    }
   ],
   "source": [
    "# Classify the image with the same bands used for training.\n",
    "result1 = landsat_8_2021.select(bands).classify(classifier)\n",
    "\n",
    "# # Display the clusters with random colors.\n",
    "Map.addLayer(result1, {'min':1, 'max':73,'palette':dico['colors']}, 'classified_2021') #result.randomVisualizer()\n",
    "Map"
   ]
  },
  {
   "cell_type": "code",
   "execution_count": 83,
   "id": "f6a9d6b9",
   "metadata": {},
   "outputs": [
    {
     "name": "stdout",
     "output_type": "stream",
     "text": [
      "Exporting sanlc2021 ...\n"
     ]
    }
   ],
   "source": [
    "geemap.ee_export_image_to_drive(result1, description='sanlc2021', folder='export', region=sa22.geometry(), scale=20)"
   ]
  },
  {
   "cell_type": "markdown",
   "id": "9d1818e3",
   "metadata": {},
   "source": [
    "## Hyperparameter optimization\n",
    "This section consists of finding the best number of trees, that leads to the highest accuracy in the random forest."
   ]
  },
  {
   "cell_type": "code",
   "execution_count": 274,
   "id": "b96ac3dd",
   "metadata": {
    "scrolled": true
   },
   "outputs": [],
   "source": [
    "#####/Classify the test FeatureCollection.#####*\n",
    "\n",
    "validation_2020 = validation.classify(classifier)\n",
    "\n",
    "# Tune the numberOfTrees parameter.\n",
    "numTreesList = ee.List.sequence(10, 350, 10)\n",
    "\n",
    "############ Functions to loop through the number of trees ##########/\n",
    "\n",
    "def accuracies_2020(numTrees):\n",
    "    classifier_2020 = ee.Classifier.smileRandomForest(numTrees).train(training, label, bands)\n",
    "    # Here we are classifying a table instead of an image\n",
    "    # Classifiers work on both images and tables\n",
    "    return validation.classify(classifier_2020).errorMatrix(label, 'classification').accuracy(),sample1.classify(classifier_2020).errorMatrix(label, 'classification').accuracy()\n",
    "\n",
    "T = [accuracies_2020(numTrees) for numTrees in numTreesList.getInfo()]\n",
    "t = []\n",
    "for i in range(len(T)):\n",
    "    t.append(T[i][0].getInfo())\n",
    "r = pd.DataFrame(t)\n",
    "\n",
    "t1 = []\n",
    "for i in range(len(T)):\n",
    "    t1.append(T[i][1].getInfo())\n",
    "r1 = pd.DataFrame(t1)\n",
    "\n",
    "import matplotlib.pyplot as plt\n",
    "import numpy as np\n",
    "\n",
    "fig, ax = plt.subplots(figsize=(12, 6))\n",
    "\n",
    "x = numTreesList.getInfo()\n",
    "y = r[0]\n",
    "z = r1[0]\n",
    "ax.plot(x,y, color='blue',label=\"Validation SANLC 2020\")\n",
    "ax.plot(x,z, color='black',label=\"Test SANLC 2018\")\n",
    "plt.xlabel(\"NumTrees\")\n",
    "plt.ylabel(\"Accuracy\")\n",
    "plt.legend(loc=\"lower right\")\n",
    "plt.show()"
   ]
  },
  {
   "cell_type": "markdown",
   "id": "33cd05c6",
   "metadata": {},
   "source": [
    "## Best model"
   ]
  },
  {
   "cell_type": "code",
   "execution_count": 275,
   "id": "d1ff5822",
   "metadata": {},
   "outputs": [],
   "source": [
    "classifier = ee.Classifier.smileRandomForest(50).train(training, label, bands)"
   ]
  },
  {
   "cell_type": "code",
   "execution_count": 276,
   "id": "103d95d4",
   "metadata": {},
   "outputs": [],
   "source": [
    "# Classify the image with the same bands used for training.\n",
    "result = landsat_8_2020.select(bands).classify(classifier)\n",
    "\n",
    "# # Display the clusters with random colors.\n",
    "Map.addLayer(result, {'min':1, 'max':73,'palette':dico['colors']}, 'Best_classified_2020') #result.randomVisualizer()\n",
    "Map"
   ]
  },
  {
   "cell_type": "code",
   "execution_count": 277,
   "id": "a0314083",
   "metadata": {},
   "outputs": [],
   "source": [
    "train_accuracy = classifier.confusionMatrix()"
   ]
  },
  {
   "cell_type": "code",
   "execution_count": 278,
   "id": "39324cef",
   "metadata": {},
   "outputs": [],
   "source": [
    "import pandas as pd\n",
    "D = pd.DataFrame(train_accuracy.getInfo())\n",
    "D.head()"
   ]
  },
  {
   "cell_type": "code",
   "execution_count": 279,
   "id": "2550d1bf",
   "metadata": {},
   "outputs": [],
   "source": [
    "train_accuracy.accuracy().getInfo()"
   ]
  },
  {
   "cell_type": "code",
   "execution_count": 280,
   "id": "61b38e8b",
   "metadata": {},
   "outputs": [],
   "source": [
    "train_accuracy.kappa().getInfo()"
   ]
  },
  {
   "cell_type": "code",
   "execution_count": null,
   "id": "9bab4998",
   "metadata": {},
   "outputs": [],
   "source": [
    "validated = validation.classify(classifier)\n",
    "validation_accuracy.accuracy().getInfo()\n",
    "validation_accuracy = validated.errorMatrix('b1', 'classification')\n",
    "validation_accuracy.kappa().getInfo()"
   ]
  },
  {
   "cell_type": "code",
   "execution_count": null,
   "id": "c03dfc69",
   "metadata": {},
   "outputs": [],
   "source": [
    "test18 = sample1.classify(classifier)\n",
    "test_accuracy18 = test18.errorMatrix('b1', 'classification')\n",
    "T18 = pd.DataFrame(test_accuracy18.getInfo())\n",
    "pd.DataFrame(T18).head()\n",
    "test_accuracy18.accuracy().getInfo()\n",
    "test_accuracy18.kappa().getInfo()\n",
    "TPA = test_accuracy18.producersAccuracy().getInfo()\n",
    "pd.DataFrame(TPA).head()\n",
    "TCA = pd.DataFrame(test_accuracy18.consumersAccuracy().getInfo())\n",
    "pd.DataFrame(TCA).head()"
   ]
  },
  {
   "cell_type": "code",
   "execution_count": null,
   "id": "125f45cd",
   "metadata": {},
   "outputs": [],
   "source": [
    "## Contribution of each bands"
   ]
  },
  {
   "cell_type": "code",
   "execution_count": null,
   "id": "35e4aabe",
   "metadata": {},
   "outputs": [],
   "source": [
    "print(classifier.explain())"
   ]
  },
  {
   "cell_type": "code",
   "execution_count": null,
   "id": "a19c707a",
   "metadata": {},
   "outputs": [],
   "source": []
  },
  {
   "cell_type": "code",
   "execution_count": null,
   "id": "c9afef0f",
   "metadata": {},
   "outputs": [],
   "source": []
  },
  {
   "cell_type": "code",
   "execution_count": null,
   "id": "c10b9f42",
   "metadata": {},
   "outputs": [],
   "source": []
  },
  {
   "cell_type": "code",
   "execution_count": null,
   "id": "74b55e81",
   "metadata": {},
   "outputs": [],
   "source": []
  }
 ],
 "metadata": {
  "kernelspec": {
   "display_name": "Python 3 (ipykernel)",
   "language": "python",
   "name": "python3"
  },
  "language_info": {
   "codemirror_mode": {
    "name": "ipython",
    "version": 3
   },
   "file_extension": ".py",
   "mimetype": "text/x-python",
   "name": "python",
   "nbconvert_exporter": "python",
   "pygments_lexer": "ipython3",
   "version": "3.8.10"
  }
 },
 "nbformat": 4,
 "nbformat_minor": 5
}
