{
 "cells": [
  {
   "cell_type": "markdown",
   "id": "5ffeca50",
   "metadata": {},
   "source": [
    "## Sources\n",
    "This lesson is inspired by [Geopython 2019](https://geo-python.github.io/site/) & [Geopython 2021](https://geo-python-site.readthedocs.io/en/latest/notebooks/)"
   ]
  },
  {
   "cell_type": "markdown",
   "id": "262cc1d5",
   "metadata": {},
   "source": [
    "## 1. Open Python\n",
    "Before we can start the journey, we need first to have Python runing in the computer.\n",
    "This section discusses how to have the python interface runing and ready for some analysis on your computer.\n",
    "Two options are available, namely:\n",
    "- Google collaboratory;\n",
    "- Jupyter notebook."
   ]
  },
  {
   "cell_type": "markdown",
   "id": "38ce1090",
   "metadata": {},
   "source": [
    "### 1.1. [Google Collaboratory](https://colab.research.google.com/?utm_source=scs-index#scrollTo=gJr_9dXGpJ05)\n",
    "- Create a gmail account\n",
    "- Goto My Drive -> New -> More -> Google collaboratory \n",
    "![Goto My Drive -> New -> More -> Google collaboratory](Brainstorms/colab.png)\n",
    "- Link google collaboratory with your Google Drive \n",
    "`from google.colab import drive\n",
    "drive.mount('/content/drive')`"
   ]
  },
  {
   "cell_type": "markdown",
   "id": "4c799797",
   "metadata": {},
   "source": [
    "#### Advantages and Disadvantages of Google Colaboratory\n",
    "- Google colaboratory requires minimum installation and configuration;\n",
    "- Google colaboratory is faster in execution. You can use GPU and TPU;\n",
    "- The share option of Google colaboratory makes Easy it to share your work with colleagues;\n",
    "- You cannot directly use data stored on your computer in Google collaboratory;\n",
    "- Google colaboratory automatically gets disconnected from the cloud after certain time."
   ]
  },
  {
   "cell_type": "markdown",
   "id": "915dea33",
   "metadata": {},
   "source": [
    "## Installing Python via Miniconda\n",
    "\n",
    "Even though it is possible to install Python from the [Python homepage](https://www.python.org/), **we recommend using [Miniconda](https://docs.conda.io/en/latest/miniconda.html)** to install Python. Miniconda comes with Python and a small number of essential packages. Additional packages can be installed using the package management systems [mamba](https://mamba.readthedocs.io/en/latest/index.html) or [conda](https://docs.conda.io/en/latest/). Both offer similar functionality, but we suggest using mamba because it is **significantly faster for installing the libraries needed for using Python for GIS.**\n",
    "\n",
    "Miniconda is a light-weight version of [Anaconda](https://www.anaconda.com/) which is an open source distribution of the Python and R programming languages for large-scale data processing, predictive analytics, and scientific computing, that aims to simplify package management and deployment. In short, it makes life much easier when installing new tools for use in Python. The full anaconda installation comes with all packages needed in this workshop (and much more!), but Miniconda allows us to save some disk space and avoid package conflicts"
   ]
  },
  {
   "cell_type": "markdown",
   "id": "b9b8319f",
   "metadata": {},
   "source": [
    "## Installation steps\n",
    "- Downlaod the installer for your OS;\n",
    "- Double clicking the installer and install it into a directory you want;\n",
    "- Install for all users & use default settings;\n",
    "- Run command `conda --version` in the terminal to check that the installation is performed properly (`Command Promp`)on window."
   ]
  },
  {
   "cell_type": "markdown",
   "id": "31e4644b",
   "metadata": {},
   "source": [
    "## Installing the Geo-Python packages\n",
    "- Installing mamba;\n",
    "- Downloading the Python environment files;\n",
    "- Installing the packages."
   ]
  },
  {
   "cell_type": "code",
   "execution_count": null,
   "id": "2b862c0b",
   "metadata": {},
   "outputs": [],
   "source": [
    "# Installing mamba\n",
    "# conda install mamba -n base -c conda-forge"
   ]
  },
  {
   "cell_type": "code",
   "execution_count": null,
   "id": "8866f64b",
   "metadata": {},
   "outputs": [],
   "source": [
    "# Downloading the Python environment files\n",
    "# Two options:\n",
    "# Clone Geo-Python environment files\n",
    "# git clone https://github.com/geo-python/python-environments/"
   ]
  },
  {
   "cell_type": "markdown",
   "id": "c3c621f7",
   "metadata": {},
   "source": [
    "### Click on the link to access the github page and download the zipfile\n",
    "- [Github repo](https://github.com/geo-python/python-environments/)\n",
    "![titre](Brainstorms/python-environment.png)"
   ]
  },
  {
   "cell_type": "markdown",
   "id": "e98e4d6c",
   "metadata": {},
   "source": [
    "## Installing the packages"
   ]
  },
  {
   "cell_type": "code",
   "execution_count": null,
   "id": "0a35594a",
   "metadata": {},
   "outputs": [],
   "source": [
    "# Access to the directory containing environment files\n",
    "cd python-environments\n",
    "\n",
    "# Create the environment using mamba. The general command syntax is given by:\n",
    "# mamba create -n nameofmyenv <list of packages>\n",
    "\n",
    "# We use -f option to specify that the list of package name is also the environment name\n",
    "mamba env create -f geo-python-student.yml\n",
    "\n",
    "# Activate the new environment and update Jupyter\n",
    "# NOTE: conda is used to activate an environment!\n",
    "conda activate geo-python-student\n",
    "sh postBuild"
   ]
  },
  {
   "cell_type": "markdown",
   "id": "4b33ccde",
   "metadata": {},
   "source": [
    "## Openning & saving a Jupyter notebook"
   ]
  },
  {
   "cell_type": "code",
   "execution_count": 3,
   "id": "065ac785",
   "metadata": {},
   "outputs": [],
   "source": [
    "# Launch Jupyter notebook with the following command:\n",
    "# Jupyter notebook\n",
    "# Open a new python3 file\n",
    "# Add a title\n",
    "# Explore code and markdown\n",
    "# Save the file"
   ]
  },
  {
   "cell_type": "markdown",
   "id": "5e53777e",
   "metadata": {},
   "source": [
    "Now you are all set to dive into [Python foundation II](http://localhost:8888/notebooks/Day%201/Python%20foundation%20II.ipynb)"
   ]
  },
  {
   "cell_type": "code",
   "execution_count": null,
   "id": "3c74bd47",
   "metadata": {},
   "outputs": [],
   "source": []
  }
 ],
 "metadata": {
  "kernelspec": {
   "display_name": "Python 3",
   "language": "python",
   "name": "python3"
  },
  "language_info": {
   "codemirror_mode": {
    "name": "ipython",
    "version": 3
   },
   "file_extension": ".py",
   "mimetype": "text/x-python",
   "name": "python",
   "nbconvert_exporter": "python",
   "pygments_lexer": "ipython3",
   "version": "3.8.8"
  }
 },
 "nbformat": 4,
 "nbformat_minor": 5
}
