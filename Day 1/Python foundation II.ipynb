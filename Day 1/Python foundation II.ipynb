{
 "cells": [
  {
   "cell_type": "markdown",
   "id": "0425ab1a",
   "metadata": {},
   "source": [
    "## Sources\n",
    "This lesson is inspired by [Geopython 2019](https://geo-python.github.io/site/) & [Geopython 2021](https://geo-python-site.readthedocs.io/en/latest/notebooks/) & [geeksforgeeks](https://www.geeksforgeeks.org/tuples-in-python/)"
   ]
  },
  {
   "cell_type": "markdown",
   "id": "81190428",
   "metadata": {},
   "source": [
    "## Objective\n",
    "Get familliar with python vocabulary and its basic operations"
   ]
  },
  {
   "cell_type": "markdown",
   "id": "24fc80e7",
   "metadata": {},
   "source": [
    "## 1.1. Variables and values\n",
    "A **variable** is a way of storing **values** into the memory of the computer by using specific names that you define"
   ]
  },
  {
   "cell_type": "code",
   "execution_count": 18,
   "id": "1a0559d0",
   "metadata": {},
   "outputs": [
    {
     "name": "stdout",
     "output_type": "stream",
     "text": [
      "Stellenbosch  is in the Western Cape\n"
     ]
    }
   ],
   "source": [
    "city   = 'Stellenbosch'\n",
    "Region = 'Western Cape'\n",
    "# city and Region here are variables, and \"Stellenbosch\", \"Western Cape\" are their values\n",
    "print(city,' is in the', Region)"
   ]
  },
  {
   "cell_type": "markdown",
   "id": "b8387bcb",
   "metadata": {},
   "source": [
    "## 1.2. Variable types\n",
    "- A **String:** is a sequence of letters, numbers, and punctuation marks - or commonly known as text, which are between single or double quotation marks as above.\n",
    "- A **Number:** Python can handle several types of numbers, but the two most common are:\n",
    "\n",
    "- **int**, which represents integer values like 100, and\n",
    "- **float**, which represents numbers that have a decimal part, like 100.0. "
   ]
  },
  {
   "cell_type": "code",
   "execution_count": 19,
   "id": "e09ee771",
   "metadata": {},
   "outputs": [],
   "source": [
    "population = 881549 # Integer number \n",
    "latitude = 37.7739  # Float number\n",
    "longitude = -121.5687 # Float number"
   ]
  },
  {
   "cell_type": "markdown",
   "id": "8c88413c",
   "metadata": {},
   "source": [
    "Use the function `type()` to find out, a variable type."
   ]
  },
  {
   "cell_type": "code",
   "execution_count": 20,
   "id": "75efde4a",
   "metadata": {},
   "outputs": [
    {
     "data": {
      "text/plain": [
       "str"
      ]
     },
     "execution_count": 20,
     "metadata": {},
     "output_type": "execute_result"
    }
   ],
   "source": [
    "type(population)\n",
    "type(latitude)\n",
    "type(city)"
   ]
  },
  {
   "cell_type": "markdown",
   "id": "3fa84385",
   "metadata": {},
   "source": [
    "## 1.3. Data Structures \n",
    "Python has four (4) data structures, namely:\n",
    "- Tuples;\n",
    "- List;\n",
    "- Sets;\n",
    "- Dictionaries."
   ]
  },
  {
   "cell_type": "markdown",
   "id": "be744584",
   "metadata": {},
   "source": [
    "### 1.3.1. **Tuples**\n",
    "A Tuple is a collection of Python objects separated by commas. In Python tuples are written with round brackets ()."
   ]
  },
  {
   "cell_type": "markdown",
   "id": "85714dd9",
   "metadata": {},
   "source": [
    "#### 1.3.1.1. Creating Tuples"
   ]
  },
  {
   "cell_type": "code",
   "execution_count": 21,
   "id": "0c9bdbcb",
   "metadata": {},
   "outputs": [
    {
     "name": "stdout",
     "output_type": "stream",
     "text": [
      "()\n"
     ]
    }
   ],
   "source": [
    "# An empty tuple\n",
    "empty_tuple = ()\n",
    "print (empty_tuple)"
   ]
  },
  {
   "cell_type": "code",
   "execution_count": 24,
   "id": "f084fd80",
   "metadata": {},
   "outputs": [
    {
     "name": "stdout",
     "output_type": "stream",
     "text": [
      "('python', 'foundation')\n",
      "('python', 'foundation')\n"
     ]
    }
   ],
   "source": [
    "# Creating non-empty tuples\n",
    "\n",
    "# One way of creation\n",
    "tup = 'python', 'foundation'\n",
    "print(tup)\n",
    "\n",
    "# Another for doing the same\n",
    "tup = ('python', 'foundation')\n",
    "print(tup)"
   ]
  },
  {
   "cell_type": "code",
   "execution_count": 23,
   "id": "a7641abb",
   "metadata": {},
   "outputs": [
    {
     "name": "stdout",
     "output_type": "stream",
     "text": [
      "(37.7739, -121.5687)\n"
     ]
    }
   ],
   "source": [
    "# Another example of tuple\n",
    "latitude = 37.7739\n",
    "longitude = -121.5687\n",
    "coordinates = latitude, longitude\n",
    "print(coordinates)"
   ]
  },
  {
   "cell_type": "markdown",
   "id": "2b056221",
   "metadata": {},
   "source": [
    "#### 1.3.1.2. Concatenation of Tuples\n",
    "Concatenation means adding tuples together."
   ]
  },
  {
   "cell_type": "code",
   "execution_count": 27,
   "id": "9ae1f55f",
   "metadata": {},
   "outputs": [
    {
     "name": "stdout",
     "output_type": "stream",
     "text": [
      "(0, 1, 2, 3, 'python', 'foundation')\n"
     ]
    }
   ],
   "source": [
    "# Code for concatenating 2 tuples\n",
    "\n",
    "tuple1 = (0, 1, 2, 3)\n",
    "tuple2 = ('python', 'foundation')\n",
    "\n",
    "# Concatenating above tuple1 & tuple2\n",
    "\n",
    "print(tuple1 + tuple2)"
   ]
  },
  {
   "cell_type": "markdown",
   "id": "e95101fc",
   "metadata": {},
   "source": [
    "#### 1.3.1.3. Nesting of Tuples\n",
    "This means adding tuples together as subtuples of a bigger tuple "
   ]
  },
  {
   "cell_type": "code",
   "execution_count": 37,
   "id": "d866f905",
   "metadata": {},
   "outputs": [
    {
     "name": "stdout",
     "output_type": "stream",
     "text": [
      "((0, 1, 2, 3), ('python', 'foundation'))\n"
     ]
    }
   ],
   "source": [
    "# Code for creating nested tuples\n",
    "\n",
    "tuple1 = (0, 1, 2, 3)\n",
    "tuple2 = ('python', 'foundation')\n",
    "tuple3 = (tuple1, tuple2)\n",
    "print(tuple3)"
   ]
  },
  {
   "cell_type": "markdown",
   "id": "e6df127d",
   "metadata": {},
   "source": [
    "#### 1.3.1.4. Repetition in Tuples"
   ]
  },
  {
   "cell_type": "code",
   "execution_count": 38,
   "id": "367cd9dd",
   "metadata": {},
   "outputs": [
    {
     "name": "stdout",
     "output_type": "stream",
     "text": [
      "('python', 'python', 'python')\n"
     ]
    }
   ],
   "source": [
    "# Code to create a tuple with repetition\n",
    "\n",
    "tuple4 = ('python',)*3\n",
    "print(tuple4)"
   ]
  },
  {
   "cell_type": "markdown",
   "id": "8311dd0e",
   "metadata": {},
   "source": [
    "#### 1.3.1.5. Tuples are Immutable"
   ]
  },
  {
   "cell_type": "code",
   "execution_count": 31,
   "id": "26692220",
   "metadata": {
    "collapsed": true
   },
   "outputs": [
    {
     "ename": "TypeError",
     "evalue": "'tuple' object does not support item assignment",
     "output_type": "error",
     "traceback": [
      "\u001b[0;31m---------------------------------------------------------------------------\u001b[0m",
      "\u001b[0;31mTypeError\u001b[0m                                 Traceback (most recent call last)",
      "\u001b[0;32m<ipython-input-31-eaf16aa4b59c>\u001b[0m in \u001b[0;36m<module>\u001b[0;34m\u001b[0m\n\u001b[1;32m      3\u001b[0m \u001b[0mtuple1\u001b[0m \u001b[0;34m=\u001b[0m \u001b[0;34m(\u001b[0m\u001b[0;36m0\u001b[0m\u001b[0;34m,\u001b[0m \u001b[0;36m1\u001b[0m\u001b[0;34m,\u001b[0m \u001b[0;36m2\u001b[0m\u001b[0;34m,\u001b[0m \u001b[0;36m3\u001b[0m\u001b[0;34m)\u001b[0m\u001b[0;34m\u001b[0m\u001b[0;34m\u001b[0m\u001b[0m\n\u001b[1;32m      4\u001b[0m \u001b[0;31m# Normally it should be done as seen below. But it throws an error!\u001b[0m\u001b[0;34m\u001b[0m\u001b[0;34m\u001b[0m\u001b[0;34m\u001b[0m\u001b[0m\n\u001b[0;32m----> 5\u001b[0;31m \u001b[0mtuple1\u001b[0m\u001b[0;34m[\u001b[0m\u001b[0;36m0\u001b[0m\u001b[0;34m]\u001b[0m \u001b[0;34m=\u001b[0m \u001b[0;36m4\u001b[0m\u001b[0;34m\u001b[0m\u001b[0;34m\u001b[0m\u001b[0m\n\u001b[0m\u001b[1;32m      6\u001b[0m \u001b[0mprint\u001b[0m\u001b[0;34m(\u001b[0m\u001b[0mtuple1\u001b[0m\u001b[0;34m)\u001b[0m\u001b[0;34m\u001b[0m\u001b[0;34m\u001b[0m\u001b[0m\n",
      "\u001b[0;31mTypeError\u001b[0m: 'tuple' object does not support item assignment"
     ]
    }
   ],
   "source": [
    "#code to test that tuples are immutable\n",
    "\n",
    "tuple1 = (0, 1, 2, 3)\n",
    "# Normally it should be done as seen below. But it throws an error! \n",
    "tuple1[0] = 4\n",
    "print(tuple1)"
   ]
  },
  {
   "cell_type": "markdown",
   "id": "76f23c02",
   "metadata": {},
   "source": [
    "#### 1.3.1.6. Slicing in Tuples"
   ]
  },
  {
   "cell_type": "code",
   "execution_count": 32,
   "id": "7f31afce",
   "metadata": {},
   "outputs": [
    {
     "name": "stdout",
     "output_type": "stream",
     "text": [
      "(1, 2, 3)\n",
      "(3, 2, 1, 0)\n",
      "(2, 3)\n"
     ]
    }
   ],
   "source": [
    "# code to test slicing\n",
    "\n",
    "tuple1 = (0 ,1, 2, 3)\n",
    "print(tuple1[1:])\n",
    "print(tuple1[::-1])\n",
    "print(tuple1[2:4])"
   ]
  },
  {
   "cell_type": "markdown",
   "id": "af18d25e",
   "metadata": {},
   "source": [
    "#### 1.3.1.7. Finding the number of elements in a tuple"
   ]
  },
  {
   "cell_type": "code",
   "execution_count": 33,
   "id": "bb5b86e6",
   "metadata": {},
   "outputs": [
    {
     "name": "stdout",
     "output_type": "stream",
     "text": [
      "2\n"
     ]
    }
   ],
   "source": [
    "# Code for printing the length of a tuple\n",
    "tuple2 = ('python', 'foundation')\n",
    "print(len(tuple2))"
   ]
  },
  {
   "cell_type": "markdown",
   "id": "0c92d9cd",
   "metadata": {},
   "source": [
    "You can access each item by its position, i.e. index. In programming, the counting starts from 0. So the first item has an index of 0, the second item an index of 1 and so on. The index has to be put inside square brackets []."
   ]
  },
  {
   "cell_type": "code",
   "execution_count": 34,
   "id": "648a64d1",
   "metadata": {},
   "outputs": [
    {
     "name": "stdout",
     "output_type": "stream",
     "text": [
      "-121.5687 37.7739\n"
     ]
    }
   ],
   "source": [
    "y = coordinates[0]\n",
    "x = coordinates[1]\n",
    "print(x, y)"
   ]
  },
  {
   "cell_type": "code",
   "execution_count": 41,
   "id": "0ef464a0",
   "metadata": {},
   "outputs": [
    {
     "name": "stdout",
     "output_type": "stream",
     "text": [
      "((0, 1, 2, 3), ('python', 'foundation'))\n",
      "(0, 1, 2, 3)\n",
      "foundation\n"
     ]
    }
   ],
   "source": [
    "print(tuple3)\n",
    "print(tuple3[0])\n",
    "print(tuple3[1][1])"
   ]
  },
  {
   "cell_type": "markdown",
   "id": "b3be562d",
   "metadata": {},
   "source": [
    "### 1.3.2. **Lists**\n",
    "In Python, a list is created by placing elements inside square brackets [] , separated by commas. A list can have any number of items and they may be of different types (`integer`, `float`, `string`, `etc.`). A list can also have another list as an item.\n",
    "\n",
    "A list is similar to a tuple - but with a key difference. With tuples, once created, they cannot be changed, i.e. they are immutable. But lists are mutable. You can add, delete or change elements within a list."
   ]
  },
  {
   "cell_type": "markdown",
   "id": "360a1cb1",
   "metadata": {},
   "source": [
    "#### 1.3.2.1. Create Python Lists"
   ]
  },
  {
   "cell_type": "code",
   "execution_count": 42,
   "id": "8cd02e45",
   "metadata": {},
   "outputs": [
    {
     "name": "stdout",
     "output_type": "stream",
     "text": [
      "[]\n",
      "[1, 2, 3]\n",
      "[1, 'Hello', 3.4]\n",
      "['mouse', [8, 4, 6], ['a']]\n"
     ]
    }
   ],
   "source": [
    "# empty list\n",
    "my_list = []\n",
    "print(my_list)\n",
    "# list of integers\n",
    "my_list = [1, 2, 3]\n",
    "print(my_list)\n",
    "# list with mixed data types\n",
    "my_list = [1, \"Hello\", 3.4]\n",
    "print(my_list)\n",
    "# nested list\n",
    "my_list = [\"mouse\", [8, 4, 6], ['a']]\n",
    "print(my_list)"
   ]
  },
  {
   "cell_type": "code",
   "execution_count": 50,
   "id": "e5b0907a",
   "metadata": {},
   "outputs": [
    {
     "name": "stdout",
     "output_type": "stream",
     "text": [
      "['Stellenbosch', 'Capetown', 'Durban', 'Pretoria']\n"
     ]
    }
   ],
   "source": [
    "cities = ['Stellenbosch', 'Capetown', 'Durban', 'Pretoria']\n",
    "print(cities)"
   ]
  },
  {
   "cell_type": "markdown",
   "id": "5a03db16",
   "metadata": {},
   "source": [
    "#### 1.3.2.2. Access List Elements"
   ]
  },
  {
   "cell_type": "markdown",
   "id": "296ff4cc",
   "metadata": {},
   "source": [
    "You can access the elements from a list using index the same way as tuples."
   ]
  },
  {
   "cell_type": "code",
   "execution_count": 52,
   "id": "6e8bbc60",
   "metadata": {},
   "outputs": [
    {
     "name": "stdout",
     "output_type": "stream",
     "text": [
      "Durban\n"
     ]
    }
   ],
   "source": [
    "# Negative indexing in lists\n",
    "print(cities[-2])"
   ]
  },
  {
   "cell_type": "markdown",
   "id": "dd439f7c",
   "metadata": {},
   "source": [
    "You can call **`len()`** function with any Python object and it will calculates the size of the object."
   ]
  },
  {
   "cell_type": "code",
   "execution_count": 9,
   "id": "2e637d35",
   "metadata": {},
   "outputs": [
    {
     "name": "stdout",
     "output_type": "stream",
     "text": [
      "4\n"
     ]
    }
   ],
   "source": [
    "print(len(cities))"
   ]
  },
  {
   "cell_type": "markdown",
   "id": "b127af3c",
   "metadata": {},
   "source": [
    "We can add items to the list using the **`append()`** method"
   ]
  },
  {
   "cell_type": "code",
   "execution_count": 10,
   "id": "e7e4a516",
   "metadata": {},
   "outputs": [
    {
     "name": "stdout",
     "output_type": "stream",
     "text": [
      "['Stellenbosch', 'Capetown', 'Durban', 'Pretoria', 'Johanesburg']\n"
     ]
    }
   ],
   "source": [
    "cities.append('Johanesburg')\n",
    "print(cities)"
   ]
  },
  {
   "cell_type": "markdown",
   "id": "948a3b0e",
   "metadata": {},
   "source": [
    "As lists are mutable, you will see that the size of the list has now changed"
   ]
  },
  {
   "cell_type": "code",
   "execution_count": 11,
   "id": "50a4b5d5",
   "metadata": {},
   "outputs": [
    {
     "name": "stdout",
     "output_type": "stream",
     "text": [
      "5\n"
     ]
    }
   ],
   "source": [
    "print(len(cities))"
   ]
  },
  {
   "cell_type": "markdown",
   "id": "7165292d",
   "metadata": {},
   "source": [
    "Another useful method for **lists** is **`sort()`** - which can sort the elements in a list, either in `alphabetical` order, for `string` or in `increasing` or `decreasing` order."
   ]
  },
  {
   "cell_type": "code",
   "execution_count": 46,
   "id": "80d9e499",
   "metadata": {},
   "outputs": [
    {
     "name": "stdout",
     "output_type": "stream",
     "text": [
      "['Capetown', 'Durban', 'Pretoria', 'Stellenbosch']\n",
      "[1, 2, 3]\n"
     ]
    }
   ],
   "source": [
    "cities.sort()\n",
    "print(cities)\n",
    "n = [3,2,1]\n",
    "n.sort()\n",
    "print(n)"
   ]
  },
  {
   "cell_type": "markdown",
   "id": "40ce5534",
   "metadata": {},
   "source": [
    "The default sorting is in ascending order. If we wanted to sort the list in a decending order, we can call the function with reverse=True"
   ]
  },
  {
   "cell_type": "code",
   "execution_count": 13,
   "id": "fec293b6",
   "metadata": {},
   "outputs": [
    {
     "name": "stdout",
     "output_type": "stream",
     "text": [
      "['Stellenbosch', 'Pretoria', 'Johanesburg', 'Durban', 'Capetown']\n"
     ]
    }
   ],
   "source": [
    "cities.sort(reverse=True)\n",
    "print(cities)"
   ]
  },
  {
   "cell_type": "markdown",
   "id": "c929dd96",
   "metadata": {},
   "source": [
    "#### 1.3.2.3. Add/Change List Elements"
   ]
  },
  {
   "cell_type": "code",
   "execution_count": 53,
   "id": "a727e0c5",
   "metadata": {},
   "outputs": [
    {
     "name": "stdout",
     "output_type": "stream",
     "text": [
      "[1, 4, 6, 8]\n",
      "[1, 3, 5, 7]\n"
     ]
    }
   ],
   "source": [
    "# Correcting mistake values in a list\n",
    "odd = [2, 4, 6, 8]\n",
    "\n",
    "# change the 1st item    \n",
    "odd[0] = 1            \n",
    "\n",
    "print(odd)\n",
    "\n",
    "# change 2nd to 4th items\n",
    "odd[1:4] = [3, 5, 7]  \n",
    "\n",
    "print(odd)"
   ]
  },
  {
   "cell_type": "code",
   "execution_count": 56,
   "id": "7fcf923e",
   "metadata": {},
   "outputs": [
    {
     "name": "stdout",
     "output_type": "stream",
     "text": [
      "[1, 3, 5, 7]\n",
      "[1, 3, 5, 7, 9, 11, 13, 5]\n"
     ]
    }
   ],
   "source": [
    "# Appending and Extending lists in Python\n",
    "odd = [1, 3, 5]\n",
    "\n",
    "odd.append(7)\n",
    "\n",
    "print(odd)\n",
    "\n",
    "odd.extend([9, 11, 13,5])\n",
    "\n",
    "print(odd)"
   ]
  },
  {
   "cell_type": "code",
   "execution_count": 55,
   "id": "1f249bfc",
   "metadata": {},
   "outputs": [
    {
     "name": "stdout",
     "output_type": "stream",
     "text": [
      "[1, 3, 9]\n",
      "[1, 3, 5, 7, 9]\n"
     ]
    }
   ],
   "source": [
    "# Demonstration of list insert() method\n",
    "odd = [1, 9]\n",
    "odd.insert(1,3)\n",
    "\n",
    "print(odd)\n",
    "\n",
    "odd[2:2] = [5, 7]\n",
    "\n",
    "print(odd)"
   ]
  },
  {
   "cell_type": "code",
   "execution_count": 57,
   "id": "50ae4132",
   "metadata": {},
   "outputs": [],
   "source": [
    "# Note the difference between extend() and insert()"
   ]
  },
  {
   "cell_type": "code",
   "execution_count": 58,
   "id": "46f16508",
   "metadata": {
    "collapsed": true
   },
   "outputs": [
    {
     "name": "stdout",
     "output_type": "stream",
     "text": [
      "['p', 'r', 'b', 'l', 'e', 'm']\n",
      "['p', 'm']\n"
     ]
    },
    {
     "ename": "NameError",
     "evalue": "name 'my_list' is not defined",
     "output_type": "error",
     "traceback": [
      "\u001b[0;31m---------------------------------------------------------------------------\u001b[0m",
      "\u001b[0;31mNameError\u001b[0m                                 Traceback (most recent call last)",
      "\u001b[0;32m<ipython-input-58-ec24311e02f0>\u001b[0m in \u001b[0;36m<module>\u001b[0;34m\u001b[0m\n\u001b[1;32m     16\u001b[0m \u001b[0;34m\u001b[0m\u001b[0m\n\u001b[1;32m     17\u001b[0m \u001b[0;31m# Error: List not defined\u001b[0m\u001b[0;34m\u001b[0m\u001b[0;34m\u001b[0m\u001b[0;34m\u001b[0m\u001b[0m\n\u001b[0;32m---> 18\u001b[0;31m \u001b[0mprint\u001b[0m\u001b[0;34m(\u001b[0m\u001b[0mmy_list\u001b[0m\u001b[0;34m)\u001b[0m\u001b[0;34m\u001b[0m\u001b[0;34m\u001b[0m\u001b[0m\n\u001b[0m",
      "\u001b[0;31mNameError\u001b[0m: name 'my_list' is not defined"
     ]
    }
   ],
   "source": [
    "# Deleting list items\n",
    "my_list = ['p', 'r', 'o', 'b', 'l', 'e', 'm']\n",
    "\n",
    "# delete one item\n",
    "del my_list[2]\n",
    "\n",
    "print(my_list)\n",
    "\n",
    "# delete multiple items\n",
    "del my_list[1:5]\n",
    "\n",
    "print(my_list)\n",
    "\n",
    "# delete the entire list\n",
    "del my_list\n",
    "\n",
    "# Error: List not defined\n",
    "print(my_list)"
   ]
  },
  {
   "cell_type": "markdown",
   "id": "9a368d10",
   "metadata": {},
   "source": [
    "We can use `remove()` to `remove` the given `item` or `pop()` to `remove` an `item` at the given `index`."
   ]
  },
  {
   "cell_type": "code",
   "execution_count": 59,
   "id": "49574ecb",
   "metadata": {},
   "outputs": [
    {
     "name": "stdout",
     "output_type": "stream",
     "text": [
      "['r', 'o', 'b', 'l', 'e', 'm']\n",
      "o\n",
      "['r', 'b', 'l', 'e', 'm']\n",
      "m\n",
      "['r', 'b', 'l', 'e']\n",
      "[]\n"
     ]
    }
   ],
   "source": [
    "my_list = ['p','r','o','b','l','e','m']\n",
    "my_list.remove('p')\n",
    "\n",
    "# Output: ['r', 'o', 'b', 'l', 'e', 'm']\n",
    "print(my_list)\n",
    "\n",
    "# Output: 'o'\n",
    "print(my_list.pop(1))\n",
    "\n",
    "# Output: ['r', 'b', 'l', 'e', 'm']\n",
    "print(my_list)\n",
    "\n",
    "# Output: 'm'\n",
    "print(my_list.pop())\n",
    "\n",
    "# Output: ['r', 'b', 'l', 'e']\n",
    "print(my_list)\n",
    "\n",
    "my_list.clear()\n",
    "\n",
    "# Output: []\n",
    "print(my_list)"
   ]
  },
  {
   "cell_type": "code",
   "execution_count": 60,
   "id": "117327db",
   "metadata": {},
   "outputs": [],
   "source": [
    "# Note the difference between del and clear()"
   ]
  },
  {
   "cell_type": "markdown",
   "id": "92077ad7",
   "metadata": {},
   "source": [
    "### 1.3.3. **Sets**\n",
    "A set is an unordered collection of items. Sets are written with curly brackets.\n",
    "Sets are like lists, but with some interesting properties. Mainly that they contain only unique values, and allows operations - such as intersection, union and difference. Sets can be created from lists or tuples, using te function `set()`."
   ]
  },
  {
   "cell_type": "code",
   "execution_count": 15,
   "id": "203af0a3",
   "metadata": {},
   "outputs": [
    {
     "name": "stdout",
     "output_type": "stream",
     "text": [
      "set()\n"
     ]
    }
   ],
   "source": [
    "Regions = ['Western Cape', 'Kwazulu-Natal', 'Gauteng', 'Eastern Cape']\n",
    "Regions_set = set(Regions)\n",
    "cities_set = set(cities)\n",
    "\n",
    "Region_cities = Regions_set.intersection(cities_set)\n",
    "print(Region_cities)"
   ]
  },
  {
   "cell_type": "markdown",
   "id": "fddb21a2",
   "metadata": {},
   "source": [
    "Sets are also useful in finding unique elements in a list. Let’s merge the two lists using the extend() method. The resulting list will have duplicate elements. Creating a set from the list removes the duplicate elements."
   ]
  },
  {
   "cell_type": "code",
   "execution_count": 16,
   "id": "9a2f3ac7",
   "metadata": {},
   "outputs": [
    {
     "name": "stdout",
     "output_type": "stream",
     "text": [
      "['Stellenbosch', 'Pretoria', 'Johanesburg', 'Durban', 'Capetown', 'Western Cape', 'Kwazulu-Natal', 'Gauteng', 'Eastern Cape']\n",
      "{'Johanesburg', 'Kwazulu-Natal', 'Capetown', 'Western Cape', 'Gauteng', 'Stellenbosch', 'Durban', 'Eastern Cape', 'Pretoria'}\n"
     ]
    }
   ],
   "source": [
    "cities.extend(Regions)\n",
    "print(cities)\n",
    "print(set(cities))"
   ]
  },
  {
   "cell_type": "markdown",
   "id": "94bd6358",
   "metadata": {},
   "source": [
    "### 1.3.4. Dictionaries\n",
    "\n",
    "In Python dictionaries are written with curly brackets {}. Dictionaries have keys and values. With lists, we can access each element by its index. But a dictionary makes it easy to access the element by name. Keys and values are separated by a colon :."
   ]
  },
  {
   "cell_type": "code",
   "execution_count": 17,
   "id": "7a0919d0",
   "metadata": {},
   "outputs": [
    {
     "name": "stdout",
     "output_type": "stream",
     "text": [
      "{'city': 'Stellenbosch', 'population': 881549, 'coordinates': (-122.4194, 37.7749)}\n"
     ]
    }
   ],
   "source": [
    "data = {'city': 'Stellenbosch', 'population': 881549, 'coordinates': (-122.4194, 37.7749) }\n",
    "print(data)"
   ]
  },
  {
   "cell_type": "markdown",
   "id": "d6e5c9b1",
   "metadata": {},
   "source": [
    "You can access an item of a dictionary by referring to its key name, inside square brackets."
   ]
  },
  {
   "cell_type": "code",
   "execution_count": 18,
   "id": "d6fdd378",
   "metadata": {},
   "outputs": [
    {
     "name": "stdout",
     "output_type": "stream",
     "text": [
      "Stellenbosch\n"
     ]
    }
   ],
   "source": [
    "print(data['city'])"
   ]
  },
  {
   "cell_type": "markdown",
   "id": "33616eb9",
   "metadata": {},
   "source": [
    "## 1.4. String Operations"
   ]
  },
  {
   "cell_type": "code",
   "execution_count": 20,
   "id": "9f40bb6a",
   "metadata": {},
   "outputs": [
    {
     "name": "stdout",
     "output_type": "stream",
     "text": [
      "12\n"
     ]
    }
   ],
   "source": [
    "city = 'Stellenbosch'\n",
    "print(len(city))"
   ]
  },
  {
   "cell_type": "code",
   "execution_count": 24,
   "id": "1247b130",
   "metadata": {},
   "outputs": [
    {
     "name": "stdout",
     "output_type": "stream",
     "text": [
      "STELLENBOSCH\n"
     ]
    }
   ],
   "source": [
    "print(city.upper())"
   ]
  },
  {
   "cell_type": "code",
   "execution_count": 25,
   "id": "d67ad789",
   "metadata": {},
   "outputs": [
    {
     "data": {
      "text/plain": [
       "'S'"
      ]
     },
     "execution_count": 25,
     "metadata": {},
     "output_type": "execute_result"
    }
   ],
   "source": [
    "city[0]"
   ]
  },
  {
   "cell_type": "code",
   "execution_count": 26,
   "id": "a3627c69",
   "metadata": {},
   "outputs": [
    {
     "data": {
      "text/plain": [
       "'h'"
      ]
     },
     "execution_count": 26,
     "metadata": {},
     "output_type": "execute_result"
    }
   ],
   "source": [
    "city[-1]"
   ]
  },
  {
   "cell_type": "code",
   "execution_count": 27,
   "id": "c7b819a9",
   "metadata": {},
   "outputs": [
    {
     "data": {
      "text/plain": [
       "'Ste'"
      ]
     },
     "execution_count": 27,
     "metadata": {},
     "output_type": "execute_result"
    }
   ],
   "source": [
    "city[0:3]"
   ]
  },
  {
   "cell_type": "code",
   "execution_count": 28,
   "id": "6cd63383",
   "metadata": {},
   "outputs": [
    {
     "data": {
      "text/plain": [
       "'lenbosch'"
      ]
     },
     "execution_count": 28,
     "metadata": {},
     "output_type": "execute_result"
    }
   ],
   "source": [
    "city[4:]"
   ]
  },
  {
   "cell_type": "markdown",
   "id": "00b1fa48",
   "metadata": {},
   "source": [
    "## 1.5. **Printing Strings**\n",
    "\n",
    "Modern way of creating strings from variables is using the format() method"
   ]
  },
  {
   "cell_type": "code",
   "execution_count": 30,
   "id": "edd932fb",
   "metadata": {},
   "outputs": [
    {
     "name": "stdout",
     "output_type": "stream",
     "text": [
      "Population of Stellenbosch is 881549.\n"
     ]
    }
   ],
   "source": [
    "city = 'Stellenbosch'\n",
    "population = 881549\n",
    "output = 'Population of {} is {}.'.format(city, population)\n",
    "print(output)"
   ]
  },
  {
   "cell_type": "markdown",
   "id": "6d6cb2b9",
   "metadata": {},
   "source": [
    "You can also use the format method to control the precision of the numbers"
   ]
  },
  {
   "cell_type": "code",
   "execution_count": 31,
   "id": "605ea868",
   "metadata": {},
   "outputs": [
    {
     "name": "stdout",
     "output_type": "stream",
     "text": [
      "37.77,-122.42\n"
     ]
    }
   ],
   "source": [
    "latitude = 37.7749\n",
    "longitude = -122.4194\n",
    "\n",
    "coordinates = '{:.2f},{:.2f}'.format(latitude, longitude)\n",
    "print(coordinates)"
   ]
  },
  {
   "cell_type": "markdown",
   "id": "5107f73e",
   "metadata": {},
   "source": [
    "## 1.6. Loops and Conditional statements"
   ]
  },
  {
   "cell_type": "markdown",
   "id": "cf75a081",
   "metadata": {},
   "source": [
    "### 1.6.1. For Loops\n",
    "A for loop is used for iterating over a sequence. The sequence can be a list, a tuple, a dictionary, a set, or a string."
   ]
  },
  {
   "cell_type": "code",
   "execution_count": 32,
   "id": "23c80faf",
   "metadata": {},
   "outputs": [
    {
     "name": "stdout",
     "output_type": "stream",
     "text": [
      "Stellenbosch\n",
      "Capetown\n",
      "Durban\n",
      "Pretoria\n"
     ]
    }
   ],
   "source": [
    "cities = ['Stellenbosch', 'Capetown', 'Durban', 'Pretoria']\n",
    "\n",
    "for city in cities:\n",
    "    print(city)"
   ]
  },
  {
   "cell_type": "markdown",
   "id": "ec160357",
   "metadata": {},
   "source": [
    "To iterate over a dictionary, you can call the `items()` method on it which returns a tuple of key and value for each item."
   ]
  },
  {
   "cell_type": "code",
   "execution_count": 63,
   "id": "75679c74",
   "metadata": {},
   "outputs": [
    {
     "name": "stdout",
     "output_type": "stream",
     "text": [
      "city Stellenbosch\n",
      "population 881549\n",
      "coordinates (-122.4194, 37.7749)\n"
     ]
    }
   ],
   "source": [
    "data = {'city': 'Stellenbosch', 'population': 881549, 'coordinates': (-122.4194, 37.7749) }\n",
    "\n",
    "for x, y in data.items():\n",
    "    print(x, y)"
   ]
  },
  {
   "cell_type": "code",
   "execution_count": 65,
   "id": "887fcd3d",
   "metadata": {},
   "outputs": [
    {
     "name": "stdout",
     "output_type": "stream",
     "text": [
      "('city', 'Stellenbosch')\n",
      "('population', 881549)\n",
      "('coordinates', (-122.4194, 37.7749))\n"
     ]
    }
   ],
   "source": [
    "for x in data.items():\n",
    "    print(x)"
   ]
  },
  {
   "cell_type": "markdown",
   "id": "7b713126",
   "metadata": {},
   "source": [
    "The built-in `range()` function allows you to create sequence of numbers that you can iterate over"
   ]
  },
  {
   "cell_type": "code",
   "execution_count": 34,
   "id": "e03aea97",
   "metadata": {},
   "outputs": [
    {
     "name": "stdout",
     "output_type": "stream",
     "text": [
      "0\n",
      "1\n",
      "2\n",
      "3\n",
      "4\n"
     ]
    }
   ],
   "source": [
    "for x in range(5):\n",
    "    print(x)"
   ]
  },
  {
   "cell_type": "markdown",
   "id": "56400aef",
   "metadata": {},
   "source": [
    "The range function can also take a start an end and a step number"
   ]
  },
  {
   "cell_type": "code",
   "execution_count": 35,
   "id": "57a516fd",
   "metadata": {},
   "outputs": [
    {
     "name": "stdout",
     "output_type": "stream",
     "text": [
      "1\n",
      "3\n",
      "5\n",
      "7\n",
      "9\n"
     ]
    }
   ],
   "source": [
    "for x in range(1, 10, 2):\n",
    "    print(x)"
   ]
  },
  {
   "cell_type": "markdown",
   "id": "4fd56c26",
   "metadata": {},
   "source": [
    "### 1.6.2. Conditional statements\n",
    "Python supports logical conditions such as equals, not equals, greater than etc. These conditions can be used in several ways, most commonly in if statements and loops.\n",
    "\n",
    "An if statement is written by using the if keyword.\n",
    "\n",
    "**Note:** A very common error that programmers make is to use = to evaluate a equals to condition. The = in Python means assignment, not equals to. Always ensure that you use the == for an equals to condition."
   ]
  },
  {
   "cell_type": "code",
   "execution_count": 66,
   "id": "65c0ae8d",
   "metadata": {},
   "outputs": [],
   "source": [
    "for city in cities:\n",
    "    if city == 'Atlanta':\n",
    "        print(city)"
   ]
  },
  {
   "cell_type": "markdown",
   "id": "66689e30",
   "metadata": {},
   "source": [
    "You can use else keywords along with if to match elements that do not meet the condition"
   ]
  },
  {
   "cell_type": "code",
   "execution_count": 67,
   "id": "556cd35d",
   "metadata": {},
   "outputs": [
    {
     "name": "stdout",
     "output_type": "stream",
     "text": [
      "This is not Atlanta\n",
      "This is not Atlanta\n",
      "This is not Atlanta\n",
      "This is not Atlanta\n"
     ]
    }
   ],
   "source": [
    "for city in cities:\n",
    "    if city == 'Atlanta':\n",
    "        print(city)\n",
    "    else:\n",
    "        print('This is not Atlanta')"
   ]
  },
  {
   "cell_type": "markdown",
   "id": "6c06b7c4",
   "metadata": {},
   "source": [
    "Python relies on indentation (whitespace at the beginning of a line) to define scope in the for loop and if statements. So make sure your code is properly indented.\n",
    "\n",
    "You can evaluate a series of conditions using the elif keyword.\n",
    "\n",
    "Multiple criteria can be combined using the and and or keywords."
   ]
  },
  {
   "cell_type": "code",
   "execution_count": 40,
   "id": "0be142a9",
   "metadata": {},
   "outputs": [
    {
     "name": "stdout",
     "output_type": "stream",
     "text": [
      "San Francisco is a small city\n",
      "Los Angeles is a big city\n",
      "New York is a mega city\n",
      "Atlanta is a small city\n"
     ]
    }
   ],
   "source": [
    "cities_population = {\n",
    "    'San Francisco': 881549,\n",
    "    'Los Angeles': 3792621,\n",
    "    'New York': 8175133,\n",
    "    'Atlanta':498044\n",
    "}\n",
    "\n",
    "for city, population in cities_population.items():\n",
    "    if population < 1000000:\n",
    "        print('{} is a small city'.format(city))\n",
    "    elif population > 1000000 and population < 5000000:\n",
    "        print('{} is a big city'.format(city))\n",
    "    else:\n",
    "        print('{} is a mega city'.format(city))"
   ]
  },
  {
   "cell_type": "markdown",
   "id": "3deaf9d3",
   "metadata": {},
   "source": [
    "## 1.7. Control Statements\n",
    "Control statements in python are used to control the order of execution of the program based on the values and logic.\n",
    "\n",
    "Example: A for-loop iterates over each item in the sequence. Sometimes is desirable to stop the execution, or skip certain parts of the for-loops. \n",
    "\n",
    "Python provides us with 3 types of Control Statements:\n",
    "\n",
    "    - Continue\n",
    "    - Break\n",
    "    - Pass"
   ]
  },
  {
   "cell_type": "markdown",
   "id": "58ee3af7",
   "metadata": {},
   "source": [
    "#### 1.7.1. Break Statement\n",
    "The break statement is used to terminate the loop containing it, the control of the program will come out of that loop (print it and stop)."
   ]
  },
  {
   "cell_type": "code",
   "execution_count": 69,
   "id": "16e1044e",
   "metadata": {},
   "outputs": [
    {
     "name": "stdout",
     "output_type": "stream",
     "text": [
      "Stellenbosch\n",
      "Capetown\n",
      "Durban\n",
      "I found Durban\n"
     ]
    }
   ],
   "source": [
    "for city in cities:\n",
    "    print(city)\n",
    "    if city == 'Durban':\n",
    "        print('I found Durban')\n",
    "        break"
   ]
  },
  {
   "cell_type": "markdown",
   "id": "af68cb90",
   "metadata": {},
   "source": [
    "#### 1.7.2. Continue statement\n",
    "When the program encounters a continue statement, it will skip the statements which are present after the continue statement inside the loop and proceed with the next iterations (skip it and continue)."
   ]
  },
  {
   "cell_type": "code",
   "execution_count": 71,
   "id": "c8dae32a",
   "metadata": {},
   "outputs": [
    {
     "name": "stdout",
     "output_type": "stream",
     "text": [
      "Stellenbosch\n",
      "Capetown\n",
      "Pretoria\n"
     ]
    }
   ],
   "source": [
    "for city in cities:\n",
    "    if city == 'Durban':\n",
    "        continue\n",
    "    print(city)"
   ]
  },
  {
   "cell_type": "markdown",
   "id": "5ca34b11",
   "metadata": {},
   "source": [
    "#### 1.7.3. Pass statement\n",
    "Pass statement is python is a null operation, which is used when the statement is required syntactically."
   ]
  },
  {
   "cell_type": "code",
   "execution_count": 82,
   "id": "57ead3a8",
   "metadata": {},
   "outputs": [
    {
     "name": "stdout",
     "output_type": "stream",
     "text": [
      "Current character:  n\n"
     ]
    }
   ],
   "source": [
    "for char in 'Python':\n",
    "       if (char == 'h'):\n",
    "            pass\n",
    "print('Current character: ', char)"
   ]
  },
  {
   "cell_type": "markdown",
   "id": "bc9cd759",
   "metadata": {},
   "source": [
    "A pass statement doesn’t do anything. It is useful when some code is required to complete the syntax, but you do not want any code to execute. It is typically used as a placeholder when a function is not complete."
   ]
  },
  {
   "cell_type": "code",
   "execution_count": 83,
   "id": "37163ff1",
   "metadata": {},
   "outputs": [
    {
     "name": "stdout",
     "output_type": "stream",
     "text": [
      "Capetown\n",
      "Durban\n",
      "Pretoria\n"
     ]
    }
   ],
   "source": [
    "for city in cities:\n",
    "    if city == 'Stellenbosch':\n",
    "        pass\n",
    "    else:\n",
    "        print(city)"
   ]
  },
  {
   "cell_type": "markdown",
   "id": "14927b75",
   "metadata": {},
   "source": [
    "## 1.7. Functions\n",
    "\n",
    "You use functions in programming to bundle a set of instructions that you want to use repeatedly or that, because of their complexity, are better self-contained in a sub-program and called when needed. That means that a function is a piece of code written to carry out a specified task. To carry out that specific task, the function might or might not need multiple inputs. When the task is carried out, the function can or can not return one or more values.\n",
    "\n",
    "There are three types of functions in Python:\n",
    "- `Built-in functions`, such as `help()` to ask for help, `min()` to get the minimum value, `print()` to print an object. You can find an overview with more of these functions [here](https://docs.python.org/3/library/functions.html)\n",
    "- `User-Defined Functions` (UDFs), which are functions that users create to help them out;\n",
    "- And `Anonymous functions`, which are also called `lambda` functions because they are not declared with the standard `def` keyword.\n",
    "\n",
    "Here we mainly focus on `User-Defined Functions` and `Built-in functions`.\n",
    "\n",
    "The aspects that will be discussed:\n",
    "- Functions vs Methods;\n",
    "- Anatomy of a function;\n",
    "- Calling a function;\n",
    "- Functions within a function\n",
    "- An introduction to script files;\n",
    "- Saving and loading functions\n",
    "- Calling functions from a script file."
   ]
  },
  {
   "cell_type": "markdown",
   "id": "cdb2a32c",
   "metadata": {},
   "source": [
    "#### 1.7.1. Functions vs Methods\n",
    "A method refers to a function which is part of a class. You access it with an instance or object of the class. A function doesn’t have this restriction: it just refers to a standalone function. This means that all methods are functions, but not all functions are methods.\n",
    "\n",
    "Consider this example, where you first define a function `plus()` and then a Summation `class` with a `sum()` method:"
   ]
  },
  {
   "cell_type": "code",
   "execution_count": 87,
   "id": "f99bf45a",
   "metadata": {},
   "outputs": [],
   "source": [
    "# Define a function `plus()`\n",
    "def plus(a,b):\n",
    "    return a + b\n",
    "  \n",
    "# Create a `Summation` class\n",
    "class Summation(object):\n",
    "    def sum(self, a, b):\n",
    "        self.contents = a + b\n",
    "        return self.contents "
   ]
  },
  {
   "cell_type": "markdown",
   "id": "fc7e8166",
   "metadata": {},
   "source": [
    "If you now want to call the `sum()` method that is part of the Summation class, you first need to define an instance or object of that `class`. So, let’s define such an object:"
   ]
  },
  {
   "cell_type": "code",
   "execution_count": 88,
   "id": "8063c4c4",
   "metadata": {},
   "outputs": [
    {
     "data": {
      "text/plain": [
       "3"
      ]
     },
     "execution_count": 88,
     "metadata": {},
     "output_type": "execute_result"
    }
   ],
   "source": [
    "# Instantiate Summation class to call sum()\n",
    "sumInstance = Summation()\n",
    "sumInstance.sum(1,2)"
   ]
  },
  {
   "cell_type": "markdown",
   "id": "e0257b3a",
   "metadata": {},
   "source": [
    "This instantiation is not necessary for when you want to call the function `plus()`! You would be able to execute `plus(1,2)` directly."
   ]
  },
  {
   "cell_type": "code",
   "execution_count": 89,
   "id": "22430152",
   "metadata": {},
   "outputs": [
    {
     "data": {
      "text/plain": [
       "3"
      ]
     },
     "execution_count": 89,
     "metadata": {},
     "output_type": "execute_result"
    }
   ],
   "source": [
    "plus(1,2)"
   ]
  },
  {
   "cell_type": "markdown",
   "id": "663ef885",
   "metadata": {},
   "source": [
    "#### 1.7.2. Anatomy of a function\n",
    "![](Brainstorms/Function_anatomy-400.png)"
   ]
  },
  {
   "cell_type": "code",
   "execution_count": 99,
   "id": "0a19c5bb",
   "metadata": {},
   "outputs": [],
   "source": [
    "# Certain functions may also need a body\n",
    "def my_function():\n",
    "    ...# body\n",
    "    ...# body\n",
    "    return something"
   ]
  },
  {
   "cell_type": "markdown",
   "id": "676d7925",
   "metadata": {},
   "source": [
    "#### 1.7.3. Calling a function"
   ]
  },
  {
   "cell_type": "code",
   "execution_count": 118,
   "id": "46205955",
   "metadata": {},
   "outputs": [],
   "source": [
    "# Suppose we have this function which converts temperatures in celsius to Fahrenheit\n",
    "def celsius_to_fahr(temp):\n",
    "    return 9/5 * temp + 32"
   ]
  },
  {
   "cell_type": "code",
   "execution_count": 119,
   "id": "e2a29173",
   "metadata": {},
   "outputs": [
    {
     "data": {
      "text/plain": [
       "69.80000000000001"
      ]
     },
     "execution_count": 119,
     "metadata": {},
     "output_type": "execute_result"
    }
   ],
   "source": [
    "# Then you execute this function by calling its name and adding a parameter\n",
    "celsius_to_fahr(21)"
   ]
  },
  {
   "cell_type": "markdown",
   "id": "27ce5fcf",
   "metadata": {},
   "source": [
    "#### 1.7.4. Functions within a function"
   ]
  },
  {
   "cell_type": "code",
   "execution_count": 120,
   "id": "aea7e0bb",
   "metadata": {},
   "outputs": [],
   "source": [
    "# Note that we can also use a function in the body of another function\n",
    "def kelvins_to_celsius(temp_kelvins):\n",
    "    return temp_kelvins - 273.15\n",
    "\n",
    "def kelvins_to_fahr(temp_kelvins):\n",
    "    temp_celsius = kelvins_to_celsius(temp_kelvins)\n",
    "    temp_fahr = celsius_to_fahr(temp_celsius)\n",
    "    return temp_fahr"
   ]
  },
  {
   "cell_type": "code",
   "execution_count": 121,
   "id": "1574c156",
   "metadata": {},
   "outputs": [
    {
     "data": {
      "text/plain": [
       "-459.66999999999996"
      ]
     },
     "execution_count": 121,
     "metadata": {},
     "output_type": "execute_result"
    }
   ],
   "source": [
    "kelvins_to_fahr(temp_kelvins=0)"
   ]
  },
  {
   "cell_type": "markdown",
   "id": "1b049df9",
   "metadata": {},
   "source": [
    "#### 1.7.5. An introduction to script files\n",
    "- First, we need to create a new text file by clicking on File -> New -> Text File in the JupyterLab menu bar;\n",
    "- Copy the function above and paste in the untitled.txt;\n",
    "- Replace `untitled.txt` with `temp_converter.py`;\n",
    "- Save the file."
   ]
  },
  {
   "cell_type": "markdown",
   "id": "f3a3e762",
   "metadata": {},
   "source": [
    "#### 1.7.6. Loading functions from saved script file"
   ]
  },
  {
   "cell_type": "code",
   "execution_count": 125,
   "id": "b0f12537",
   "metadata": {},
   "outputs": [
    {
     "name": "stdout",
     "output_type": "stream",
     "text": [
      "\u001b[34mBrainstorms\u001b[m\u001b[m\r\n",
      "\u001b[34mExercise 4\u001b[m\u001b[m\r\n",
      "\u001b[34mExercise 5\u001b[m\u001b[m\r\n",
      "\u001b[34mExercise 6\u001b[m\u001b[m\r\n",
      "Python Foundation I.ipynb\r\n",
      "Python foundation Exercise 3.ipynb\r\n",
      "Python foundation II.ipynb\r\n",
      "Python foundations Exercises 1 & 2.ipynb\r\n",
      "Remote sensing foundation Exercises.ipynb\r\n",
      "Remote sensing foundation.ipynb\r\n",
      "WORKSHOP TIMETABLE.pdf\r\n",
      "temp_converter.py\r\n"
     ]
    }
   ],
   "source": [
    "!ls"
   ]
  },
  {
   "cell_type": "code",
   "execution_count": 126,
   "id": "d94ce639",
   "metadata": {},
   "outputs": [],
   "source": [
    "from temp_converter import celsius_to_fahr"
   ]
  },
  {
   "cell_type": "code",
   "execution_count": 127,
   "id": "ec3a179f",
   "metadata": {},
   "outputs": [
    {
     "name": "stdout",
     "output_type": "stream",
     "text": [
      "The freezing point of water in Fahrenheit is: 32.0\n"
     ]
    }
   ],
   "source": [
    "print(\"The freezing point of water in Fahrenheit is:\", celsius_to_fahr(0))"
   ]
  },
  {
   "cell_type": "code",
   "execution_count": 129,
   "id": "b52cbe0e",
   "metadata": {},
   "outputs": [],
   "source": [
    "# import and rename\n",
    "from temp_converter import celsius_to_fahr as ctf"
   ]
  },
  {
   "cell_type": "code",
   "execution_count": 130,
   "id": "3ea34a7f",
   "metadata": {},
   "outputs": [
    {
     "name": "stdout",
     "output_type": "stream",
     "text": [
      "The freezing point of water in Fahrenheit is: 32.0\n"
     ]
    }
   ],
   "source": [
    "print(\"The freezing point of water in Fahrenheit is:\", ctf(0))"
   ]
  },
  {
   "cell_type": "markdown",
   "id": "c9fae4a7",
   "metadata": {},
   "source": [
    "#### 1.7.7. Importing multiple functions from saved script"
   ]
  },
  {
   "cell_type": "code",
   "execution_count": 128,
   "id": "5d643a44",
   "metadata": {},
   "outputs": [],
   "source": [
    "# importing two out of the three functions\n",
    "from temp_converter import celsius_to_fahr, kelvins_to_celsius"
   ]
  },
  {
   "cell_type": "code",
   "execution_count": 131,
   "id": "93d894fa",
   "metadata": {},
   "outputs": [],
   "source": [
    "# Importing all the functions from the saved script\n",
    "from temp_converter import *"
   ]
  },
  {
   "cell_type": "markdown",
   "id": "4e408c2b",
   "metadata": {},
   "source": [
    "Functions are useful because they allow us to capture the logic of our code and we can run it with different inputs without having to write the same code again and again."
   ]
  },
  {
   "cell_type": "markdown",
   "id": "e3d5ca01",
   "metadata": {},
   "source": [
    "## 1.8. The Python Standard Libraries (`Built-in functions`)\n",
    "\n",
    "Python comes with many built-in modules that offer ready-to-use solutions to common programming problems. To use these modules, you must use the import keyword. Once imported in your Python script, you can use the functions provided by the module in your script.\n",
    "\n",
    "We will use the built-in math module that allows us to use advanced mathematical functions."
   ]
  },
  {
   "cell_type": "code",
   "execution_count": 132,
   "id": "6633e9be",
   "metadata": {
    "collapsed": true
   },
   "outputs": [
    {
     "name": "stdout",
     "output_type": "stream",
     "text": [
      "['__doc__', '__file__', '__loader__', '__name__', '__package__', '__spec__', 'acos', 'acosh', 'asin', 'asinh', 'atan', 'atan2', 'atanh', 'ceil', 'comb', 'copysign', 'cos', 'cosh', 'degrees', 'dist', 'e', 'erf', 'erfc', 'exp', 'expm1', 'fabs', 'factorial', 'floor', 'fmod', 'frexp', 'fsum', 'gamma', 'gcd', 'hypot', 'inf', 'isclose', 'isfinite', 'isinf', 'isnan', 'isqrt', 'ldexp', 'lgamma', 'log', 'log10', 'log1p', 'log2', 'modf', 'nan', 'perm', 'pi', 'pow', 'prod', 'radians', 'remainder', 'sin', 'sinh', 'sqrt', 'tan', 'tanh', 'tau', 'trunc']\n"
     ]
    }
   ],
   "source": [
    "# Import math and display all the functions in the module\n",
    "import math\n",
    "print(dir(math))"
   ]
  },
  {
   "cell_type": "code",
   "execution_count": null,
   "id": "06401ac7",
   "metadata": {},
   "outputs": [],
   "source": [
    "# Understand some of the functions in the module math\n",
    "help(math.sin)"
   ]
  },
  {
   "cell_type": "markdown",
   "id": "5ddac0f6",
   "metadata": {},
   "source": [
    "You can also import specific functions or constants from the module like below"
   ]
  },
  {
   "cell_type": "code",
   "execution_count": 54,
   "id": "80b71b54",
   "metadata": {},
   "outputs": [
    {
     "name": "stdout",
     "output_type": "stream",
     "text": [
      "3.141592653589793\n"
     ]
    }
   ],
   "source": [
    "from math import pi\n",
    "print(pi)"
   ]
  },
  {
   "cell_type": "markdown",
   "id": "1aaf2c90",
   "metadata": {},
   "source": [
    "## 1.9. Using `Built-in functions` `math` to Calculate Distance\n",
    "\n",
    "Given 2 points with their Latitude and Longitude coordinates, the Haversine Formula calculates the straight-line distance in meters, assuming that Earth is a sphere.\n",
    "\n",
    "The formula is simple enough to be implemented in a spreadsheet too. If you are curious, see my post about using this formula for calculating distances in a spreadsheet.\n",
    "\n",
    "We can write a function that accepts a pair of origin and destination coordinates and computes the distance."
   ]
  },
  {
   "cell_type": "code",
   "execution_count": 56,
   "id": "47faf159",
   "metadata": {},
   "outputs": [],
   "source": [
    "san_francisco = (37.7749, -122.4194)\n",
    "new_york = (40.661, -73.944)"
   ]
  },
  {
   "cell_type": "code",
   "execution_count": 57,
   "id": "26735af9",
   "metadata": {},
   "outputs": [],
   "source": [
    "def haversine_distance(origin, destination):\n",
    "    lat1, lon1 = origin\n",
    "    lat2, lon2 = destination\n",
    "    radius = 6371000\n",
    "    dlat = math.radians(lat2-lat1)\n",
    "    dlon = math.radians(lon2-lon1)\n",
    "    a = math.sin(dlat/2) * math.sin(dlat/2) + math.cos(math.radians(lat1)) \\\n",
    "    * math.cos(math.radians(lat2)) * math.sin(dlon/2) * math.sin(dlon/2)\n",
    "    c = 2 * math.atan2(math.sqrt(a), math.sqrt(1-a))\n",
    "    distance = radius * c\n",
    "    return distance"
   ]
  },
  {
   "cell_type": "code",
   "execution_count": 58,
   "id": "6d75ff41",
   "metadata": {},
   "outputs": [
    {
     "name": "stdout",
     "output_type": "stream",
     "text": [
      "4135.374617164737 km\n"
     ]
    }
   ],
   "source": [
    "distance = haversine_distance(san_francisco, new_york)\n",
    "print(distance/1000, 'km')"
   ]
  },
  {
   "cell_type": "markdown",
   "id": "a6fcc684",
   "metadata": {},
   "source": [
    "## 1.10. Third-party Modules\n",
    "\n",
    "Python has a thriving ecosystem of third-party modules (i.e. libraries or packages) available for you to install. There are hundreds of thousands of such modules available for you to install and use.\n",
    "Installing third-party libraries\n",
    "\n",
    "Python comes with a package manager called pip. It can install all the packages listed at PyPI (Python Package Index). To install a package using pip, you need to run a command like following in a Terminal or CMD prompt.\n",
    "\n",
    "pip install `<package name>`\n",
    "\n",
    "For this course, we are using Anancoda platform - which comes with its own package manager called conda. You can use Anaconda Navigator to search and install packages. Or run the command like following in a Terminal or CMD Prompt.\n",
    "\n",
    "conda install `<package name>`"
   ]
  },
  {
   "cell_type": "markdown",
   "id": "7e53579e",
   "metadata": {},
   "source": [
    "## 1.11. Dealing with errors in Python\n",
    "\n",
    "It is inevitable to encounter errors while writing scripts. It is therefore important to learn how to debug a python script.\n",
    "\n",
    "- Reading error messages;\n",
    "- Common types of errors."
   ]
  },
  {
   "cell_type": "markdown",
   "id": "734998a0",
   "metadata": {},
   "source": [
    "### 1.11.1. Reading error messages\n",
    "![](Brainstorms/error-message-annotated.png)"
   ]
  },
  {
   "cell_type": "markdown",
   "id": "c32a382f",
   "metadata": {},
   "source": [
    "### 1.11.2. [Common types of errors](https://geo-python-site.readthedocs.io/en/latest/notebooks/L6/errors.html)."
   ]
  },
  {
   "cell_type": "markdown",
   "id": "37e88e9a",
   "metadata": {},
   "source": [
    "## [Assertions](https://geo-python-site.readthedocs.io/en/latest/notebooks/L6/gcp-5-assertions.html)\n",
    "\n",
    "Assertions are a way to assert, or ensure, that the values being used in your scripts are going to be suitable for what the code does. Let’s start by considering the function `convert_kph_ms` that converts wind speeds from kilometers per hour to meters per second. We can define and use our function in the cell below."
   ]
  },
  {
   "cell_type": "code",
   "execution_count": 134,
   "id": "e3ecfa4a",
   "metadata": {},
   "outputs": [
    {
     "name": "stdout",
     "output_type": "stream",
     "text": [
      "A wind speed of 9 km/hr is 2.5 m/s.\n"
     ]
    }
   ],
   "source": [
    "def convert_kph_ms(speed):\n",
    "    \"\"\"Converts velocity (speed) in km/hr to m/s\"\"\"\n",
    "    return speed * 1000 / 3600\n",
    "\n",
    "\n",
    "wind_speed_km = 9\n",
    "wind_speed_ms = convert_kph_ms(wind_speed_km)\n",
    "\n",
    "print(f\"A wind speed of {wind_speed_km} km/hr is {wind_speed_ms} m/s.\")"
   ]
  },
  {
   "cell_type": "markdown",
   "id": "b771b538",
   "metadata": {},
   "source": [
    "This all seems fine, but you might want to ensure that the values for the wind speed are not negative numbers, since speed is simply the magnitude of the wind velocity, which should always be positive or zero. We can enforce this condition by adding an assertion to our function."
   ]
  },
  {
   "cell_type": "code",
   "execution_count": 135,
   "id": "e9ee9f4d",
   "metadata": {},
   "outputs": [
    {
     "name": "stdout",
     "output_type": "stream",
     "text": [
      "A wind speed of 9 km/hr is 2.5 m/s.\n"
     ]
    }
   ],
   "source": [
    "def convert_kph_ms(speed):\n",
    "    \"\"\"Converts velocity (speed) in km/hr to m/s\"\"\"\n",
    "    assert speed >= 0.0\n",
    "    return speed * 1000 / 3600\n",
    "\n",
    "\n",
    "wind_speed_km = 9\n",
    "wind_speed_ms = convert_kph_ms(wind_speed_km)\n",
    "\n",
    "print(f\"A wind speed of {wind_speed_km} km/hr is {wind_speed_ms} m/s.\")"
   ]
  }
 ],
 "metadata": {
  "kernelspec": {
   "display_name": "Python 3",
   "language": "python",
   "name": "python3"
  },
  "language_info": {
   "codemirror_mode": {
    "name": "ipython",
    "version": 3
   },
   "file_extension": ".py",
   "mimetype": "text/x-python",
   "name": "python",
   "nbconvert_exporter": "python",
   "pygments_lexer": "ipython3",
   "version": "3.8.8"
  }
 },
 "nbformat": 4,
 "nbformat_minor": 5
}
