{
 "cells": [
  {
   "cell_type": "markdown",
   "metadata": {
    "deletable": false,
    "nbgrader": {
     "cell_type": "markdown",
     "checksum": "861669d3aadf752ee237a135a2aca25e",
     "grade": false,
     "grade_id": "Intro_text",
     "locked": true,
     "schema_version": 3,
     "solution": false
    }
   },
   "source": [
    "## Problem 3 - Data analysis\n",
    "\n",
    "In this problem we will explore our temperature data by comparing spring temperatures between Helsinki Kumpula and Rovaniemi. To do this we'll use some conditions to extract subsets of our data and then analyse these subsets using basic Pandas functions. Please perform the tasks below by writing your code into the codeblocks in each section.\n",
    "\n",
    "**Your self-assessment on this problem will be based on following criteria:**\n",
    "\n",
    "- Calculating the median temperatures for Helsinki Kumpula and Rovaniemi for the summer of 2017\n",
    "- Selecting temperatures for May and June 2017 in separate dataframes for each location\n",
    "- Printing out some summary values for each month (May, June) and location (Kumpula, Rovaniemi)\n",
    "- Including comments that explain what most lines in the code do\n",
    "- Answering a couple questions at the end of the problem."
   ]
  },
  {
   "cell_type": "markdown",
   "metadata": {
    "deletable": false,
    "nbgrader": {
     "cell_type": "markdown",
     "checksum": "ff62ce9d296a1db67758cf613013863c",
     "grade": false,
     "grade_id": "cell-33c2d0518738c711",
     "locked": true,
     "schema_version": 3,
     "solution": false,
     "task": false
    }
   },
   "source": [
    "### Part 1\n",
    "First, you need to load the data from Problem 2.\n",
    "\n",
    "- Read in the csv files generated in Problem 2 to the variables `kumpula` and `rovaniemi`"
   ]
  },
  {
   "cell_type": "code",
   "execution_count": null,
   "metadata": {
    "deletable": false,
    "nbgrader": {
     "cell_type": "code",
     "checksum": "1723c7d823f3a1f8433646f506eedd16",
     "grade": false,
     "grade_id": "read_data",
     "locked": false,
     "schema_version": 3,
     "solution": true
    }
   },
   "outputs": [],
   "source": [
    "kumpula = None\n",
    "rovaniemi = None\n",
    "\n",
    "# REPLACE THE ERROR BELOW WITH YOUR OWN CODE\n",
    "raise NotImplementedError()"
   ]
  },
  {
   "cell_type": "markdown",
   "metadata": {},
   "source": [
    "### Part 2\n",
    "\n",
    "Next you can find some median temperature values for the period the data covers.\n",
    "\n",
    "- What was the median Celsius temperature during the observed period in:\n",
    "    - Helsinki Kumpula? (store the answer in a variable `kumpula_median`)\n",
    "    - Rovaniemi? (store the answer in a variable `rovaniemi_median`)"
   ]
  },
  {
   "cell_type": "code",
   "execution_count": null,
   "metadata": {
    "deletable": false,
    "nbgrader": {
     "cell_type": "code",
     "checksum": "2c45192b5e5293cdbf30d4176b09bcf2",
     "grade": false,
     "grade_id": "median",
     "locked": false,
     "schema_version": 3,
     "solution": true
    }
   },
   "outputs": [],
   "source": [
    "kumpula_median = None\n",
    "rovaniemi_median = None\n",
    "\n",
    "# REPLACE THE ERROR BELOW WITH YOUR OWN CODE\n",
    "raise NotImplementedError()"
   ]
  },
  {
   "cell_type": "code",
   "execution_count": null,
   "metadata": {
    "deletable": false,
    "editable": false,
    "nbgrader": {
     "cell_type": "code",
     "checksum": "f09698e35a34838c2b97221c7dba9226",
     "grade": true,
     "grade_id": "problem_3_median_test",
     "locked": true,
     "points": 1,
     "schema_version": 3,
     "solution": false
    }
   },
   "outputs": [],
   "source": [
    "# Prints the median temperatures\n",
    "print(\"Kumpula median: \", kumpula_median)\n",
    "print(\"Rovaniemi median: \", rovaniemi_median)\n"
   ]
  },
  {
   "cell_type": "markdown",
   "metadata": {
    "deletable": false,
    "nbgrader": {
     "cell_type": "markdown",
     "checksum": "72c55344ad098bb58a9f6c3647d37677",
     "grade": false,
     "grade_id": "cell-6eda08b036b421d9",
     "locked": true,
     "schema_version": 3,
     "solution": false,
     "task": false
    }
   },
   "source": [
    "### Part 3\n",
    "\n",
    "The median temperatures above consider data from the entire summer (May-Aug), hence the differences might not be so clear. Let's now find out the mean temperatures from May and June 2017 in Kumpula and Rovaniemi.\n",
    "\n",
    "- From the `kumpula` and `rovaniemi` DataFrames, select the rows where values of the `YR--MODAHRMN` column are from May 2017\n",
    "    - Assign these selected rows into the variables `kumpula_may` and `rovaniemi_may` (you can check the [hints](https://geo-python.github.io/site/lessons/L5/exercise-5.html) for help!)\n",
    "- Repeat the procedure for the month of June and assign those values into variables to `kumpula_june` and `rovaniemi_june`"
   ]
  },
  {
   "cell_type": "code",
   "execution_count": null,
   "metadata": {
    "deletable": false,
    "nbgrader": {
     "cell_type": "code",
     "checksum": "bb09c4bf4e07e674182a5cbf62c9d5be",
     "grade": false,
     "grade_id": "may",
     "locked": false,
     "schema_version": 3,
     "solution": true
    }
   },
   "outputs": [],
   "source": [
    "# Select the subset of the Kumpula and Rovaniemi data for the 5th and 6th month\n",
    "kumpula_may = None\n",
    "rovaniemi_may = None\n",
    "\n",
    "kumpula_june = None\n",
    "rovaniemi_june = None\n",
    "\n",
    "# REPLACE THE ERROR BELOW WITH YOUR OWN CODE\n",
    "raise NotImplementedError()"
   ]
  },
  {
   "cell_type": "code",
   "execution_count": null,
   "metadata": {
    "deletable": false,
    "editable": false,
    "nbgrader": {
     "cell_type": "code",
     "checksum": "b7f400a629298411f3a377acc000739d",
     "grade": true,
     "grade_id": "problem_2_May_and_June_test1",
     "locked": true,
     "points": 0.5,
     "schema_version": 3,
     "solution": false
    }
   },
   "outputs": [],
   "source": [
    "# Prints some of the selected temperature data\n",
    "print(\"Kumpula temperatures in May\\n\", kumpula_may.head())\n",
    "print(\"Rovaniemi temperatures in June\\n: \", rovaniemi_june.head())\n"
   ]
  },
  {
   "cell_type": "code",
   "execution_count": null,
   "metadata": {
    "deletable": false,
    "editable": false,
    "nbgrader": {
     "cell_type": "code",
     "checksum": "24b61f90191790d229482270bca32edf",
     "grade": true,
     "grade_id": "problem_3_May_and_June_test2",
     "locked": true,
     "points": 0.5,
     "schema_version": 3,
     "solution": false
    }
   },
   "outputs": [],
   "source": [
    "# Check that the shape of kumpula_june is correct\n",
    "print(kumpula_june.shape)"
   ]
  },
  {
   "cell_type": "code",
   "execution_count": null,
   "metadata": {
    "deletable": false,
    "editable": false,
    "nbgrader": {
     "cell_type": "code",
     "checksum": "ba5ff9ea42a21bf18dfca50f1357bbd8",
     "grade": true,
     "grade_id": "problem_3_May_and_June_test3",
     "locked": true,
     "points": 0.5,
     "schema_version": 3,
     "solution": false
    }
   },
   "outputs": [],
   "source": [
    "# Check that the shape of rovaniemi_may is correct\n",
    "print(rovaniemi_may.shape)"
   ]
  },
  {
   "cell_type": "code",
   "execution_count": null,
   "metadata": {
    "deletable": false,
    "editable": false,
    "nbgrader": {
     "cell_type": "code",
     "checksum": "a460e603257d94c07558e23a54d64c1d",
     "grade": true,
     "grade_id": "problem_3_May_and_June_test4",
     "locked": true,
     "points": 0.5,
     "schema_version": 3,
     "solution": false
    }
   },
   "outputs": [],
   "source": [
    "# Check that the shape of rovaniemi_june is correct\n",
    "print(rovaniemi_june.shape)"
   ]
  },
  {
   "cell_type": "markdown",
   "metadata": {
    "deletable": false,
    "nbgrader": {
     "cell_type": "markdown",
     "checksum": "1cf68fffc5eafa68e70f9369a26c21a5",
     "grade": false,
     "grade_id": "cell-5d735e872f16ccd5",
     "locked": true,
     "schema_version": 3,
     "solution": false,
     "task": false
    }
   },
   "source": [
    "### Part 4\n",
    "\n",
    "Now you can make your temperature data from both locations and months easier to compare by printing out a few useful values.\n",
    "\n",
    "- Use the `print()` function to show the mean, min and max Celsius temperatures for both places in May and June using the new subset dataframes (`kumpula_may`, `rovaniemi_may`, `kumpula_june`, and `rovaniemi_june`)."
   ]
  },
  {
   "cell_type": "code",
   "execution_count": null,
   "metadata": {
    "deletable": false,
    "nbgrader": {
     "cell_type": "code",
     "checksum": "fca67f9e5db701779c77dcb609a85ddf",
     "grade": true,
     "grade_id": "May_and_June_stats",
     "locked": false,
     "points": 1,
     "schema_version": 3,
     "solution": true
    }
   },
   "outputs": [],
   "source": [
    "# REPLACE THE ERROR BELOW WITH YOUR OWN CODE\n",
    "raise NotImplementedError()"
   ]
  },
  {
   "cell_type": "markdown",
   "metadata": {
    "deletable": false,
    "nbgrader": {
     "cell_type": "markdown",
     "checksum": "42427a2907c6dad46640571ae4bafa8a",
     "grade": false,
     "grade_id": "comments",
     "locked": true,
     "schema_version": 3,
     "solution": false
    }
   },
   "source": [
    "### Problem 3 summary\n",
    "\n",
    "In the [Exercise 6 summary notebook](Exercise-6-summary.ipynb) you can find a few additional points to consider and two final questions for Problem 3. Please answer those question in [that notebook](Exercise-6-summary.ipynb)."
   ]
  },
  {
   "cell_type": "markdown",
   "metadata": {
    "collapsed": true,
    "deletable": false,
    "nbgrader": {
     "cell_type": "markdown",
     "checksum": "0e5f52b74f4ffaea57ca77ace2732647",
     "grade": false,
     "grade_id": "text",
     "locked": true,
     "schema_version": 3,
     "solution": false
    }
   },
   "source": [
    "### On to Problem 4\n",
    "\n",
    "Now you can continue to the *optional* [Problem 4: Data analysis](Exercise-6-problem-4.ipynb)"
   ]
  }
 ],
 "metadata": {
  "anaconda-cloud": {},
  "celltoolbar": "Edit Metadata",
  "kernelspec": {
   "display_name": "Python 3",
   "language": "python",
   "name": "python3"
  },
  "language_info": {
   "codemirror_mode": {
    "name": "ipython",
    "version": 3
   },
   "file_extension": ".py",
   "mimetype": "text/x-python",
   "name": "python",
   "nbconvert_exporter": "python",
   "pygments_lexer": "ipython3",
   "version": "3.8.8"
  }
 },
 "nbformat": 4,
 "nbformat_minor": 2
}
