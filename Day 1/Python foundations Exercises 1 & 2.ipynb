{
 "cells": [
  {
   "cell_type": "markdown",
   "id": "6df15696",
   "metadata": {},
   "source": [
    "## Exercise 1A\n",
    "The aim of this exercise is to make sure that everyone is comfortable with the following:\n",
    "- Open Google colaboratory;\n",
    "- Link it to google drive;\n",
    "- Upload a csvfile from computer to google colab."
   ]
  },
  {
   "cell_type": "markdown",
   "id": "a170cb94",
   "metadata": {},
   "source": [
    "## Exercise 1B\n",
    "The aim of this exercise is to make sure that everyone is comfortable with the following:\n",
    "- Create a virtual environment;\n",
    "- Install Python;\n",
    "- [Install Jupyter notebook](https://jupyter.org/install);\n",
    "- Open jupyter notebook;\n",
    "- Upload a csvfile to Jupyter notebook."
   ]
  },
  {
   "cell_type": "markdown",
   "id": "ecb971c5",
   "metadata": {},
   "source": [
    "## Exercise 2: Cooking up some Python\n",
    "\n",
    "In the `Python foundations II` lesson we have learned a few basic things in Python. Now you get your chance to practice the skills.\n",
    "\n",
    "\n",
    "## Problem 0 - Creating your own Jupyter notebook\n",
    "\n",
    "Open Jupyter notebook and create a new python3 notebook.\n",
    "\n",
    "## Problem 1 - Defining some variables\n",
    "\n",
    "In the top cell of the new notebook:\n",
    "\n",
    "1. Create a variable called `ice_cream_rating` and use it to store an integer value (whole number) between 0 and 10 that reflects your general opinion about how much you enjoy eating ice cream.\n",
    "\n",
    "2. Create another variable called `sleeping_rating` and use it to store another integer between 0 and 10 that reflects your opinion about how much you enjoy sleeping.\n",
    "\n",
    "3. Run the cell by pressing **`Shift-Enter`**.\n",
    "\n",
    "## Problem 2 - Reading in variable values\n",
    "\n",
    "In the new cell that appears:\n",
    "\n",
    "1. Use the `input()` function to prompt the user to enter their first name and store it in a variable called `first_name`.\n",
    "\n",
    "2. Use the `input()` function again to prompt the user to enter their last name and store it in a variable called `last_name`.\n",
    "\n",
    "3. (*Optional*) Define a third variable called `my_name` that will combine the user's first and last names into a single character string with a space between the names.\n",
    "\n",
    "4. Run the cell and enter the requested information at the prompts.\n",
    "\n",
    "## Problem 3 - A bit of math\n",
    "\n",
    "In order to assess happiness it is necessary to combine the ice cream and sleeping ratings. To do this:\n",
    "\n",
    "1. Calculate the average of your `ice_cream_rating` and `sleeping_rating` variables and store the resulting value in a variable called `happiness_rating`.\n",
    "\n",
    "2. Run the cell by pressing **`Shift-Enter`**.\n",
    "\n",
    "## Problem 4 - Checking data types\n",
    "\n",
    "The next step is to investigate the kinds of data we're working with. In another Python cell:\n",
    "\n",
    "1. Use a built-in Python function to check the data types of the `ice_cream_rating`, `first_name`, and `happiness_rating` variables. In order to see the data types for more than one variable in a single Python cell, you will need to print out these values using another built-in Python function.\n",
    "\n",
    "2. Run the cell by pressing **Shift-Enter**.\n",
    "\n",
    "3. Did all of the data types make sense? Were there any data types that were different than you expected? In the new Python cell that appeared after running the code above, enter your responses to the questions above.\n",
    "\n",
    "4. For the cell containing your answers to the questions above, change the kind of cell from **Code** to **Markdown**.\n",
    "\n",
    "5. Run the Markdown cell by pressing **Shift-Enter**.\n",
    "\n",
    "## Problem 5 - Displaying text on the screen\n",
    "\n",
    "Finally, you can use your Python skills to generate output on the screen similar to that below. Use one command to generate each line of output.\n",
    "\n",
    "```\n",
    "My name is Dave and I give eating ice cream a score of 9 out of 10!\n",
    "I am Dave Whipp and my sleeping enjoyment rating is 8 / 10!\n",
    "Based on the factors above, my happiness rating is 8.5 out of 10, or 85.0 %!\n",
    "```\n",
    "\n",
    "Note that your code should replace “Dave” with the contents of your `first_name` variable, “9” with your value stored in the variable `ice_cream_rating`, etc. For your equivalent text with the full name (e.g., \"Dave Whipp\"), you can either use the values from the variables `first_name` and `last_name`, or the value in variable `my_name`."
   ]
  },
  {
   "cell_type": "code",
   "execution_count": null,
   "id": "48873be7",
   "metadata": {},
   "outputs": [],
   "source": []
  }
 ],
 "metadata": {
  "kernelspec": {
   "display_name": "Python 3",
   "language": "python",
   "name": "python3"
  },
  "language_info": {
   "codemirror_mode": {
    "name": "ipython",
    "version": 3
   },
   "file_extension": ".py",
   "mimetype": "text/x-python",
   "name": "python",
   "nbconvert_exporter": "python",
   "pygments_lexer": "ipython3",
   "version": "3.8.8"
  }
 },
 "nbformat": 4,
 "nbformat_minor": 5
}
