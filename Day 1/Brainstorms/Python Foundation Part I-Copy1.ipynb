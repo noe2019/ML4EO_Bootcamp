{
 "cells": [
  {
   "cell_type": "markdown",
   "id": "9ea6a202",
   "metadata": {},
   "source": [
    "## Sources\n",
    "This lesson is inspired by [Geopython 2019](https://geo-python.github.io/site/) & [Geopython 2021](https://geo-python-site.readthedocs.io/en/latest/notebooks/)"
   ]
  },
  {
   "cell_type": "markdown",
   "id": "57aa256e",
   "metadata": {},
   "source": [
    "## 1. Open Python\n",
    "\n",
    "This section discusses how to have the python interface runing and ready for some analysis on your computer.\n",
    "Two options are available, namely:\n",
    "- Google collaboratory\n",
    "- Jupyter notebook."
   ]
  },
  {
   "cell_type": "markdown",
   "id": "dd90deba",
   "metadata": {},
   "source": [
    "### 1.1. [Google Collaboratory](https://colab.research.google.com/?utm_source=scs-index#scrollTo=gJr_9dXGpJ05)\n",
    "- Create a gmail account\n",
    "- Goto My Drive -> New -> More -> Google collaboratory \n",
    "![Goto My Drive -> New -> More -> Google collaboratory](colab.png)\n",
    "- Link google collaboratory with your Google Drive"
   ]
  },
  {
   "cell_type": "markdown",
   "id": "8ed167fc",
   "metadata": {},
   "source": [
    "#### Advantages and Disadvantages of Google Colaboratory\n",
    "- Google colaboratory requires minimum installation and configuration;\n",
    "- Google colaboratory is faster in execution. You can use GPU and TPU;\n",
    "- The share option of Google colaboratory makes Easy to share your work with colleagues;\n",
    "- You cannot use data stored on your computer in Google collaboratory;\n",
    "- Google colaboratory automatically gets disconnected from the cloud after certain time."
   ]
  },
  {
   "cell_type": "markdown",
   "id": "dbd4c7ae",
   "metadata": {},
   "source": [
    "## Installing Python via Miniconda\n",
    "\n",
    "Even though it is possible to install Python from the [Python homepage](https://www.python.org/), **we recommend using [Miniconda](https://docs.conda.io/en/latest/miniconda.html)** to install Python. Miniconda comes with Python and a small number of essential packages. Additional packages can be installed using the package management systems [mamba](https://mamba.readthedocs.io/en/latest/index.html) or [conda](https://docs.conda.io/en/latest/). Both offer similar functionality, but we suggest using mamba because it is **significantly faster for installing the libraries needed for using Python for GIS.**\n",
    "\n",
    "Miniconda is a light-weight version of [Anaconda](https://www.anaconda.com/) which is an open source distribution of the Python and R programming languages for large-scale data processing, predictive analytics, and scientific computing, that aims to simplify package management and deployment. In short, it makes life much easier when installing new tools for use in Python. The full anaconda installation comes with all packages needed in the Geo-Python course (and much more!), but Miniconda allows us to save some disk space and avoid package conflicts"
   ]
  },
  {
   "cell_type": "markdown",
   "id": "bae0e0c0",
   "metadata": {},
   "source": [
    "## Installation steps\n",
    "- Downlaod the installer for your OS;\n",
    "- double clicking the installer and install it into a directory you want;\n",
    "- Install for all users & use default settings;\n",
    "- Run command conda --version in the terminal to check that the installation is performed properly."
   ]
  },
  {
   "cell_type": "markdown",
   "id": "50faa7c1",
   "metadata": {},
   "source": [
    "## Installing the Geo-Python packages\n",
    "- Installing mamba;\n",
    "- Downloading the Python environment files;\n",
    "- Installing the packages."
   ]
  },
  {
   "cell_type": "code",
   "execution_count": null,
   "id": "9e8c6009",
   "metadata": {},
   "outputs": [],
   "source": [
    "# Installing mamba\n",
    "# conda install mamba -n base -c conda-forge"
   ]
  },
  {
   "cell_type": "code",
   "execution_count": null,
   "id": "ffc86af0",
   "metadata": {},
   "outputs": [],
   "source": [
    "# Downloading the Python environment files\n",
    "# Two options:\n",
    "# Clone Geo-Python environment files\n",
    "# git clone https://github.com/geo-python/python-environments/"
   ]
  },
  {
   "cell_type": "markdown",
   "id": "19499ca8",
   "metadata": {},
   "source": [
    "### Click on the link to access the github page and download the zipfile\n",
    "- [Github repo](https://github.com/geo-python/python-environments/)\n",
    "![titre](python-environment.png)"
   ]
  },
  {
   "cell_type": "markdown",
   "id": "4923c256",
   "metadata": {},
   "source": [
    "## Installing the packages"
   ]
  },
  {
   "cell_type": "code",
   "execution_count": null,
   "id": "31be504b",
   "metadata": {},
   "outputs": [],
   "source": [
    "# Change to directory containing environment files\n",
    "cd python-environments\n",
    "\n",
    "# Create the environment using mamba\n",
    "mamba env create -f geo-python-student.yml\n",
    "\n",
    "# Activate the new environment and update Jupyter\n",
    "# NOTE: conda is used to activate an environment!\n",
    "conda activate geo-python-student\n",
    "sh postBuild"
   ]
  },
  {
   "cell_type": "markdown",
   "id": "f2937ef2",
   "metadata": {},
   "source": [
    "## Running JupyterLab"
   ]
  },
  {
   "cell_type": "code",
   "execution_count": null,
   "id": "82583fcf",
   "metadata": {},
   "outputs": [],
   "source": [
    "# Load Jupyter Lab\n",
    "# jupyter lab"
   ]
  },
  {
   "cell_type": "markdown",
   "id": "81a50fe4",
   "metadata": {},
   "source": [
    "## Getting the lesson notebooks\n",
    "Two options are available:\n",
    "- Download the zipfile from [here](https://github.com/geo-python/notebooks)\n",
    "- Clone the repository with command line"
   ]
  },
  {
   "cell_type": "code",
   "execution_count": 1,
   "id": "ff70c8b8",
   "metadata": {},
   "outputs": [],
   "source": [
    "# clone repository\n",
    "# git clone https://github.com/geo-python/notebooks.git"
   ]
  },
  {
   "cell_type": "markdown",
   "id": "54bd7695",
   "metadata": {},
   "source": [
    "### 1.2. Jupyter notebook\n",
    "- Installing Jupyter on Windows OS;\n",
    "- Installing Jupyter on Mac OS."
   ]
  },
  {
   "cell_type": "markdown",
   "id": "de429c0a",
   "metadata": {},
   "source": [
    "#### 1.2.1. Installing Jupyter on Windows\n",
    "\n",
    "- Install Python;\n",
    "- Install Jupyter. "
   ]
  },
  {
   "cell_type": "markdown",
   "id": "f9e37c48",
   "metadata": {},
   "source": [
    "#### 1.2.2. Installing Jupyter on Mac OS\n",
    "- Install Python;\n",
    "- Install Jupyter."
   ]
  },
  {
   "cell_type": "markdown",
   "id": "2e20a7d7",
   "metadata": {},
   "source": [
    "## Installing packages using Conda\n",
    "\n",
    "- [Conda](https://docs.conda.io/projects/conda/en/latest/index.html)\n",
    "- [Alternative way to install packages if typical doesn’t work]()\n",
    "- "
   ]
  },
  {
   "cell_type": "markdown",
   "id": "29edd4ac",
   "metadata": {},
   "source": [
    "## Installing Jupyter notebook\n",
    "- \n",
    "- \n",
    "- "
   ]
  },
  {
   "cell_type": "markdown",
   "id": "6e2a79a1",
   "metadata": {},
   "source": [
    "## Opening & Saving a Jupyter notebook\n",
    "- In your computer & google drive\n",
    "- In Github\n",
    "- Version control if saved in Github"
   ]
  },
  {
   "cell_type": "markdown",
   "id": "6bc72960",
   "metadata": {},
   "source": [
    "## [Github & Version control](https://geo-python.github.io/site/lessons/L2/intro-to-GitHub.html)\n",
    "- [Meet Git](https://geo-python.github.io/site/lessons/L2/git-basics.html)\n",
    "- [Using Classroom for Github](https://geo-python.github.io/site/lessons/L2/GitHub-classroom.html)\n",
    "- Creating a github account\n",
    "- Version control"
   ]
  },
  {
   "cell_type": "code",
   "execution_count": null,
   "id": "7e667fb8",
   "metadata": {},
   "outputs": [],
   "source": []
  }
 ],
 "metadata": {
  "kernelspec": {
   "display_name": "Python 3",
   "language": "python",
   "name": "python3"
  },
  "language_info": {
   "codemirror_mode": {
    "name": "ipython",
    "version": 3
   },
   "file_extension": ".py",
   "mimetype": "text/x-python",
   "name": "python",
   "nbconvert_exporter": "python",
   "pygments_lexer": "ipython3",
   "version": "3.8.8"
  }
 },
 "nbformat": 4,
 "nbformat_minor": 5
}
