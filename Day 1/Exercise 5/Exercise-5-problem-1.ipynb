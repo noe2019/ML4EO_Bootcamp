{
 "cells": [
  {
   "cell_type": "markdown",
   "metadata": {
    "deletable": false,
    "nbgrader": {
     "cell_type": "markdown",
     "checksum": "e22dfa40479e4c21717192bfb965ad11",
     "grade": false,
     "grade_id": "cell-2ed044cb8a3a375f",
     "locked": true,
     "schema_version": 3,
     "solution": false
    }
   },
   "source": [
    "## Problem 1 - Simple temperature calculator (6 points)\n",
    "\n",
    "In the first problem your aim is to create a function that converts the input temperature from degrees Fahrenheit to degrees Celsius. Follow closely the instructions and use **exactly** the same variable, function, and parameter names as stated in the instructions - otherwise the automatic tests will fail.\n",
    "\n",
    "Include the following elements in your solution:\n",
    "\n",
    "  - Create a function called `fahr_to_celsius` \n",
    "\n",
    "  - The function should have one input parameter called `temp_fahrenheit`\n",
    "\n",
    "  - Inside the function, create a variable called `converted_temp` to which you should assign the conversion result (i.e., the input Fahrenheit temperature converted to Celsius)\n",
    "\n",
    "  - Return the converted value from the function back to the user\n",
    "  \n",
    "  - Comment your code and add a docstring that explains how to use your `fahr_to_celsius` function (i.e., you should write the purpose of the function, parameters, and returned values)  \n",
    "  \n",
    "Here is the conversion formula from Fahrenheit to Celsius:\n",
    "\n",
    "![](img/Fahrenheit_to_Celsius_formula.PNG)\n",
    "\n",
    "  \n",
    "If everything in your script is working properly the following test case should work:\n",
    "\n",
    "  ```python\n",
    "  >>> print(\"32 degrees Fahrenheit in Celsius is:\", fahr_to_celsius(32))\n",
    "  32 degrees Fahrenheit in Celsius is: 0.0\n",
    "  ```"
   ]
  },
  {
   "cell_type": "code",
   "execution_count": null,
   "metadata": {
    "deletable": false,
    "nbgrader": {
     "cell_type": "code",
     "checksum": "3363ce2d6c32be09401c8be9927444e4",
     "grade": false,
     "grade_id": "fahr_to_celsius",
     "locked": false,
     "schema_version": 3,
     "solution": true
    }
   },
   "outputs": [],
   "source": [
    "# REPLACE THE ERROR BELOW WITH YOUR OWN CODE\n",
    "raise NotImplementedError()"
   ]
  },
  {
   "cell_type": "markdown",
   "metadata": {
    "deletable": false,
    "editable": false,
    "nbgrader": {
     "cell_type": "markdown",
     "checksum": "f271b0e6d9e1331689c74bd5aa53c5e4",
     "grade": false,
     "grade_id": "cell-b6841605e2c1a46e",
     "locked": true,
     "schema_version": 3,
     "solution": false,
     "task": false
    }
   },
   "source": [
    "**Use** your newly created function to print answers to the following questions:"
   ]
  },
  {
   "cell_type": "code",
   "execution_count": null,
   "metadata": {},
   "outputs": [],
   "source": [
    "# 1. What is 48° Fahrenheit in Celsius? \n",
    "\n",
    "# 2. What about 71° Fahrenheit in Celsius?"
   ]
  },
  {
   "cell_type": "markdown",
   "metadata": {
    "deletable": false,
    "editable": false,
    "nbgrader": {
     "cell_type": "markdown",
     "checksum": "3a14953357711b5c74641da7ebb0d995",
     "grade": false,
     "grade_id": "cell-e931ae7f1d35850e",
     "locked": true,
     "schema_version": 3,
     "solution": false
    }
   },
   "source": [
    "### Problem 1 tests\n",
    "\n",
    "Run the code cells below to check your answer. Note that you are not able to modify the test cells. Your solution is on the right track if you don't see any errors when running these code cells. If you receive an error, you need to change something in the code cells above."
   ]
  },
  {
   "cell_type": "code",
   "execution_count": null,
   "metadata": {
    "deletable": false,
    "editable": false,
    "nbgrader": {
     "cell_type": "code",
     "checksum": "e6bebc449969949d176c5332ccb8151b",
     "grade": true,
     "grade_id": "problem_1_fahr_to_celsius_test1",
     "locked": true,
     "points": 2,
     "schema_version": 3,
     "solution": false
    }
   },
   "outputs": [],
   "source": [
    "from nose.tools import ok_, assert_equal\n",
    "import inspect\n",
    "\n",
    "# Check that function exists\n",
    "ok_(inspect.isfunction(fahr_to_celsius))"
   ]
  },
  {
   "cell_type": "code",
   "execution_count": null,
   "metadata": {
    "deletable": false,
    "editable": false,
    "nbgrader": {
     "cell_type": "code",
     "checksum": "1e4db497ace666be25b36ea8cbf1fd84",
     "grade": true,
     "grade_id": "problem_1_fahr_to_celsius_test2",
     "locked": true,
     "points": 1,
     "schema_version": 3,
     "solution": false
    }
   },
   "outputs": [],
   "source": [
    "# Check that the function has a single parameter and the parameter name is correct\n",
    "params = list(inspect.signature(fahr_to_celsius).parameters.keys())\n",
    "ok_(len(params)==1)\n",
    "ok_(params[0]=='temp_fahrenheit')"
   ]
  },
  {
   "cell_type": "code",
   "execution_count": null,
   "metadata": {
    "deletable": false,
    "editable": false,
    "nbgrader": {
     "cell_type": "code",
     "checksum": "4ebebd08988d7648549603091ad7795d",
     "grade": true,
     "grade_id": "problem_1_fahr_to_celsius_test3",
     "locked": true,
     "points": 1,
     "schema_version": 3,
     "solution": false
    }
   },
   "outputs": [],
   "source": [
    "# Check that the function produces correct answers for:\n",
    "# 1. What is 48° Fahrenheit in Celsius? \n",
    "assert_equal(round(fahr_to_celsius(48), 2), 8.89)"
   ]
  },
  {
   "cell_type": "code",
   "execution_count": null,
   "metadata": {
    "deletable": false,
    "editable": false,
    "nbgrader": {
     "cell_type": "code",
     "checksum": "579cb64d294988957aa1726fd777d293",
     "grade": true,
     "grade_id": "problem_1_fahr_to_celsius_test4",
     "locked": true,
     "points": 1,
     "schema_version": 3,
     "solution": false
    }
   },
   "outputs": [],
   "source": [
    "# 2. What about 71° Fahrenheit in Celsius?\n",
    "assert_equal(round(fahr_to_celsius(71), 2), 21.67)"
   ]
  },
  {
   "cell_type": "markdown",
   "metadata": {
    "deletable": false,
    "nbgrader": {
     "cell_type": "markdown",
     "checksum": "4d3e25ca8552db2d0e44d2733025012e",
     "grade": false,
     "grade_id": "problem1_questions",
     "locked": true,
     "schema_version": 3,
     "solution": false
    }
   },
   "source": [
    "### Check that your code is readable \n",
    "\n",
    "- Make sure you used the given variable names\n",
    "- Check that you have added necessary comments to your code\n",
    "- Check that your function has a docstring that describes what it does\n",
    "\n",
    "\n",
    "### Questions\n",
    "\n",
    "We would like you to think about and answer the following questions based on the materials and ideas that you learned during the lecture:\n",
    "\n",
    "  1. Is the concept of function clear to you? If not, what do you not understand?\n",
    "  2. What are some of the benefits of using functions?\n",
    "  \n",
    "Write your answers below (**activate the cell by double clicking**):"
   ]
  },
  {
   "cell_type": "markdown",
   "metadata": {
    "deletable": false,
    "nbgrader": {
     "cell_type": "markdown",
     "checksum": "99851ca449ef1b5d83561eb0c64b0ad2",
     "grade": true,
     "grade_id": "problem_1_answers",
     "locked": false,
     "points": 1,
     "schema_version": 3,
     "solution": true
    }
   },
   "source": [
    "YOUR ANSWER HERE"
   ]
  },
  {
   "cell_type": "markdown",
   "metadata": {
    "deletable": false,
    "editable": false,
    "nbgrader": {
     "cell_type": "markdown",
     "checksum": "63fba1d962a91f14cf4854d27e8b2f01",
     "grade": false,
     "grade_id": "cell-91ada5e742fd8669",
     "locked": true,
     "schema_version": 3,
     "solution": false
    }
   },
   "source": [
    "#### Done!\n",
    "\n",
    "That's it! Now you are ready to continue with [Problem 2](Exercise-4-problem-2.ipynb)."
   ]
  }
 ],
 "metadata": {
  "celltoolbar": "Edit Metadata",
  "kernelspec": {
   "display_name": "Python 3",
   "language": "python",
   "name": "python3"
  },
  "language_info": {
   "codemirror_mode": {
    "name": "ipython",
    "version": 3
   },
   "file_extension": ".py",
   "mimetype": "text/x-python",
   "name": "python",
   "nbconvert_exporter": "python",
   "pygments_lexer": "ipython3",
   "version": "3.8.8"
  }
 },
 "nbformat": 4,
 "nbformat_minor": 2
}
