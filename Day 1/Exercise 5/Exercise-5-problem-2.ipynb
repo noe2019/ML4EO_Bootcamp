{
 "cells": [
  {
   "cell_type": "markdown",
   "metadata": {
    "deletable": false,
    "nbgrader": {
     "cell_type": "markdown",
     "checksum": "753b65412e7c4b6e5afe453c2af83b69",
     "grade": false,
     "grade_id": "cell-876e2442239d92c8",
     "locked": true,
     "schema_version": 3,
     "solution": false
    }
   },
   "source": [
    "## Problem 2 - Temperature classifier\n",
    "In [Exercise-4 Problem 2](http://localhost:8888/notebooks/Day%201/Exercise%204/Exercise-4-problem-2.ipynb#) we practiced how to classify temperatures into four different classes (*i.e. cold, slippery, comfortable, warm*). Let's continue working with the same idea. \n",
    "\n",
    "Here, you should create a function called `temp_classifier` that accepts a temperature value in Celsius that will be reclassified into integer numbers 0-3 based on following criteria:\n",
    "\n",
    " | Return value | Classification criteria                  |\n",
    " |---|-----------------------------------------------------|\n",
    " | 0 | temperatures below -2 degrees (Celsius)             |\n",
    " | 1 | temperatures equal or warmer than -2, but less than +2 degrees (Celsius)  |\n",
    " | 2 | temperatures equal or warmer than +2, but less than +15 degrees (Celsius)  |\n",
    " | 3 | temperatures equal or warmer than +15 degrees (Celsius)            |\n",
    "\n",
    "\n",
    "This problem includes the following steps: \n",
    "\n",
    "  - create a new function called `temp_classifier` \n",
    "  - `temp_classifier` should have one parameter called `temp_celsius` \n",
    "  - your function should reclassify the input temperature based on the criteria on the above table and return the reclassified value as an integer number (i.e. number 0, 1, 2, or 3) \n",
    "  - comment your code and add a docstring that explains how to use your `temp_classifier` function (i.e. you should write the purpose of the function, parameters, and return value(s))\n",
    "  \n",
    "    "
   ]
  },
  {
   "cell_type": "code",
   "execution_count": null,
   "metadata": {
    "deletable": false,
    "nbgrader": {
     "cell_type": "code",
     "checksum": "e8127435200fa9b95484e2a9f23c8b4a",
     "grade": false,
     "grade_id": "temp_classifier",
     "locked": false,
     "schema_version": 3,
     "solution": true
    }
   },
   "outputs": [],
   "source": [
    "# REPLACE THE ERROR BELOW WITH YOUR OWN CODE\n",
    "raise NotImplementedError()"
   ]
  },
  {
   "cell_type": "markdown",
   "metadata": {
    "deletable": false,
    "editable": false,
    "nbgrader": {
     "cell_type": "markdown",
     "checksum": "9b350dcf47c0ce0f059b3754dcbfdbe2",
     "grade": false,
     "grade_id": "cell-f4a8e418905fb50e",
     "locked": true,
     "schema_version": 3,
     "solution": false
    }
   },
   "source": [
    "**Use** your newly created function to print the answers to the following questions:"
   ]
  },
  {
   "cell_type": "code",
   "execution_count": null,
   "metadata": {},
   "outputs": [],
   "source": [
    "# 1. What is the class value for 16.5 degrees (Celsius)?\n",
    "\n",
    "# 2. What is the class value for +2 degrees (Celsius)?"
   ]
  },
  {
   "cell_type": "markdown",
   "metadata": {
    "deletable": false,
    "editable": false,
    "nbgrader": {
     "cell_type": "markdown",
     "checksum": "f3281f2f3ad29f5fa085ef5b5a274753",
     "grade": false,
     "grade_id": "cell-460623686e88033b",
     "locked": true,
     "schema_version": 3,
     "solution": false,
     "task": false
    }
   },
   "source": [
    "### Problem 2 tests\n",
    "\n",
    "Run the code cells below to check your answer. Note that you are not able to modify the test cells. Your solution is on the right track if you don't see any errors when running these code cells."
   ]
  },
  {
   "cell_type": "code",
   "execution_count": null,
   "metadata": {
    "deletable": false,
    "editable": false,
    "nbgrader": {
     "cell_type": "code",
     "checksum": "f2a2ed7d63a47825df3f603fddad5758",
     "grade": true,
     "grade_id": "problem_2_temp_classifier_test1",
     "locked": true,
     "points": 2,
     "schema_version": 3,
     "solution": false
    }
   },
   "outputs": [],
   "source": [
    "from nose.tools import ok_, assert_equal\n",
    "import inspect\n",
    "\n",
    "# Check that function exists\n",
    "ok_(inspect.isfunction(temp_classifier))"
   ]
  },
  {
   "cell_type": "code",
   "execution_count": null,
   "metadata": {
    "deletable": false,
    "editable": false,
    "nbgrader": {
     "cell_type": "code",
     "checksum": "485461638fdb78a43d36e92bd2e091fe",
     "grade": true,
     "grade_id": "problem_2_temp_classifier_test2",
     "locked": true,
     "points": 1,
     "schema_version": 3,
     "solution": false
    }
   },
   "outputs": [],
   "source": [
    "# Check that the function has a single parameter and the pamameter name is correct\n",
    "params = list(inspect.signature(temp_classifier).parameters.keys())\n",
    "ok_(len(params)==1)\n",
    "ok_(params[0]=='temp_celsius')"
   ]
  },
  {
   "cell_type": "code",
   "execution_count": null,
   "metadata": {
    "deletable": false,
    "editable": false,
    "nbgrader": {
     "cell_type": "code",
     "checksum": "5893cdcfa212d32f9098c415c817c871",
     "grade": true,
     "grade_id": "problem_2_temp_classifier_test3",
     "locked": true,
     "points": 0.5,
     "schema_version": 3,
     "solution": false
    }
   },
   "outputs": [],
   "source": [
    "# Check that the function produces correct answers for:\n",
    "# 1. What is the class value for 16.5 degrees (Celsius)?\n",
    "assert_equal(temp_classifier(16.5), 3)"
   ]
  },
  {
   "cell_type": "code",
   "execution_count": null,
   "metadata": {
    "deletable": false,
    "editable": false,
    "nbgrader": {
     "cell_type": "code",
     "checksum": "ff8e755beb31714be2986681b48a6b03",
     "grade": true,
     "grade_id": "problem_2_temp_classifier_test4",
     "locked": true,
     "points": 0.5,
     "schema_version": 3,
     "solution": false
    }
   },
   "outputs": [],
   "source": [
    "# 2. What is the class value for +2 degrees (Celsius)?\n",
    "assert_equal(temp_classifier(2), 2)"
   ]
  },
  {
   "cell_type": "code",
   "execution_count": null,
   "metadata": {
    "deletable": false,
    "editable": false,
    "nbgrader": {
     "cell_type": "code",
     "checksum": "6746a7cdd6bd038eedc7a788501a895c",
     "grade": true,
     "grade_id": "problem_2_temp_classifier_test5",
     "locked": true,
     "points": 0.5,
     "schema_version": 3,
     "solution": false
    }
   },
   "outputs": [],
   "source": [
    "# 3. What is the class value for +1 degrees (Celsius)?\n",
    "assert_equal(temp_classifier(1), 1)"
   ]
  },
  {
   "cell_type": "code",
   "execution_count": null,
   "metadata": {
    "deletable": false,
    "editable": false,
    "nbgrader": {
     "cell_type": "code",
     "checksum": "2a02e6a5dd2f06c703b33ab290555cef",
     "grade": true,
     "grade_id": "problem_2_temp_classifier_test6",
     "locked": true,
     "points": 0.5,
     "schema_version": 3,
     "solution": false
    }
   },
   "outputs": [],
   "source": [
    "# 4. What is the class value for -5 degrees (Celsius)?\n",
    "assert_equal(temp_classifier(-5), 0)"
   ]
  },
  {
   "cell_type": "markdown",
   "metadata": {
    "deletable": false,
    "editable": false,
    "nbgrader": {
     "cell_type": "markdown",
     "checksum": "8dd6dec1cdda428f16bbbbaa6fc30f1c",
     "grade": false,
     "grade_id": "cell-b27291a41da8074d",
     "locked": true,
     "schema_version": 3,
     "solution": false,
     "task": false
    }
   },
   "source": [
    "Did you check that:\n",
    " - all the variable names are correct?\n",
    " - your code has enough comments?\n",
    " - your function has an informative dosctring?"
   ]
  },
  {
   "cell_type": "markdown",
   "metadata": {
    "deletable": false,
    "nbgrader": {
     "cell_type": "markdown",
     "checksum": "8d7d2415e5c969177bfc24303dc4b0e9",
     "grade": true,
     "grade_id": "problem_2_manual_check",
     "locked": false,
     "points": 1,
     "schema_version": 3,
     "solution": true,
     "task": false
    }
   },
   "source": [
    "YOUR ANSWER HERE"
   ]
  },
  {
   "cell_type": "markdown",
   "metadata": {
    "deletable": false,
    "nbgrader": {
     "cell_type": "markdown",
     "checksum": "ce902498612244bb33e804499eee0168",
     "grade": false,
     "grade_id": "cell-31016daaf1c494e1",
     "locked": true,
     "schema_version": 3,
     "solution": false
    }
   },
   "source": [
    "#### Done!\n",
    "\n",
    "That's it! Now you are ready to continue with [Problem 3](Exercise-5-problem-3.ipynb)."
   ]
  }
 ],
 "metadata": {
  "celltoolbar": "Edit Metadata",
  "kernelspec": {
   "display_name": "Python 3",
   "language": "python",
   "name": "python3"
  },
  "language_info": {
   "codemirror_mode": {
    "name": "ipython",
    "version": 3
   },
   "file_extension": ".py",
   "mimetype": "text/x-python",
   "name": "python",
   "nbconvert_exporter": "python",
   "pygments_lexer": "ipython3",
   "version": "3.8.8"
  }
 },
 "nbformat": 4,
 "nbformat_minor": 2
}
