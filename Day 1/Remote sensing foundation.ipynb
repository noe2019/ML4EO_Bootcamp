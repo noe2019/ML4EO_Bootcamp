{
 "cells": [
  {
   "cell_type": "markdown",
   "id": "a91e88d0",
   "metadata": {},
   "source": [
    "## Sources\n",
    "This notebook which is very basic about remote sensing was inspired from the source below:\n",
    "### [Spatial Thoughts](https://www.youtube.com/watch?v=xAyNu9HbK8s)\n",
    "### [Anju Pakhale](https://www.youtube.com/watch?v=rSUMJP9Oz_M)"
   ]
  },
  {
   "cell_type": "markdown",
   "id": "b6a9f678",
   "metadata": {},
   "source": [
    "## Definition\n",
    "Remote sensing is the observation of an object from distance without physical contact.\n",
    "Information is obtained through analysis of data collected by special instruments who are called as sensors that are not in physical contact with the object."
   ]
  },
  {
   "cell_type": "markdown",
   "id": "8a08116a",
   "metadata": {},
   "source": [
    "## Components of remote sensing\n",
    "- Energy source (the sun or an artificial source);\n",
    "- Career (electromagnetic waves);\n",
    "- Target or area under study;\n",
    "- Sensor (placed in the satellite);\n",
    "- Reception centre, which is the receiving centre on the earth;\n",
    "- Data analysis an application.\n",
    "![title](Brainstorms/es2.png)\n",
    "![title](Brainstorms/ss.png)\n"
   ]
  },
  {
   "cell_type": "markdown",
   "id": "b8bdaebb",
   "metadata": {},
   "source": [
    "## Spectral signatures\n",
    "![title](Brainstorms/ems1.png)\n",
    "Most used electromagnetic spectrums in remote sensing include:\n",
    "- Microwave radiation;\n",
    "- Infrared radiations;\n",
    "- Visible radiations.\n",
    "![title](Brainstorms/mwl1.png)"
   ]
  },
  {
   "cell_type": "markdown",
   "id": "1dde5a80",
   "metadata": {},
   "source": [
    "## Types of remote sensing\n",
    "![title](Brainstorms/tors1.png)\n",
    "![title](Brainstorms/prs1.png)\n",
    "![title](Brainstorms/ers1.png)\n",
    "![title](Brainstorms/ars1.png)"
   ]
  },
  {
   "cell_type": "markdown",
   "id": "c0df0efe",
   "metadata": {},
   "source": [
    "The most famous and open access sensors are:\n",
    "- Landsat8;\n",
    "- Sentinel2.\n",
    "We will make use of them in our way forward."
   ]
  },
  {
   "cell_type": "markdown",
   "id": "2a398385",
   "metadata": {},
   "source": [
    "## Landsat8\n",
    "- B1\n",
    "- B6 Good for build-up area detection (SWIR1);\n",
    "- B9 Help to detect clouds (Cirus);\n",
    "- B10 For temperature measure."
   ]
  },
  {
   "cell_type": "markdown",
   "id": "a433f0ac",
   "metadata": {},
   "source": [
    "## Sentinel2\n",
    "- Sentinel is active remote sensing;\n",
    "- Mainly detect microwave radiations;\n",
    "Sentinel1 very useful for flood detection"
   ]
  },
  {
   "cell_type": "markdown",
   "id": "5a23176f",
   "metadata": {},
   "source": [
    "## Sentinel 5p \n",
    "- captures UV\n",
    "-Capture IR\n",
    "Good for studying pollution and air quality."
   ]
  },
  {
   "cell_type": "markdown",
   "id": "137405a0",
   "metadata": {},
   "source": [
    "## Processing levels\n",
    "- Level(L0) is raw data as measured at the sensor. Not useful for application purposes;\n",
    "- Level1(L1) is L0 with radiometric and geometric corrections, is also called the Top-Of-Atmosphere products;\n",
    "- Level2(L2) is \n",
    "![title](Brainstorms/pl.png)"
   ]
  },
  {
   "cell_type": "markdown",
   "id": "3f3893b2",
   "metadata": {},
   "source": [
    "## Image resolutions\n",
    "![title](Brainstorms/TR1.png)"
   ]
  },
  {
   "cell_type": "markdown",
   "id": "be604331",
   "metadata": {},
   "source": [
    "## Spatial resolution\n",
    "![t](Brainstorms/a.png)\n",
    "![t](Brainstorms/b.png)\n",
    "![t](Brainstorms/c.png)\n",
    "![t](Brainstorms/d.png)\n",
    "![title](Brainstorms/e1.png)"
   ]
  },
  {
   "cell_type": "markdown",
   "id": "57e45cde",
   "metadata": {},
   "source": [
    "## Time resolution\n",
    "![t](Brainstorms/TR2.png)"
   ]
  },
  {
   "cell_type": "markdown",
   "id": "73b7e6bd",
   "metadata": {},
   "source": [
    "## Visual Interpretation: Image composite\n",
    "- RGB;\n",
    "- Composite image to display healthy vegetation;\n",
    "- Display urban areas;\n",
    "- Display agriculture\n",
    "![i](Brainstorms/rgb.png)\n",
    "![i](Brainstorms/FCIR.png)\n",
    "![i](Brainstorms/FCU.png)\n",
    "![i](Brainstorms/Agr.png)"
   ]
  },
  {
   "cell_type": "markdown",
   "id": "1263e65d",
   "metadata": {},
   "source": [
    "## Spectral indexes and band ratios\n",
    "Helps you extract the above information.\n",
    "![t](Brainstorms/NDVI.png)\n",
    "![t](Brainstorms/NDBI.png)\n",
    "![t](Brainstorms/NDWI.png)"
   ]
  }
 ],
 "metadata": {
  "kernelspec": {
   "display_name": "Python 3",
   "language": "python",
   "name": "python3"
  },
  "language_info": {
   "codemirror_mode": {
    "name": "ipython",
    "version": 3
   },
   "file_extension": ".py",
   "mimetype": "text/x-python",
   "name": "python",
   "nbconvert_exporter": "python",
   "pygments_lexer": "ipython3",
   "version": "3.8.8"
  }
 },
 "nbformat": 4,
 "nbformat_minor": 5
}
