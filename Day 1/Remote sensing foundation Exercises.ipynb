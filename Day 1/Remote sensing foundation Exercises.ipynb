{
 "cells": [
  {
   "cell_type": "markdown",
   "id": "047807c0",
   "metadata": {},
   "source": [
    "## Exercises on Remote sensing\n",
    "The aim is to rehearse the concepts that were discussed in the course remote sensing foundations.\n",
    "\n",
    "1. What is remote sensing?\n",
    "2. Enumerate and explain the components of remote sensing?\n",
    "3. What are the diffent electromagnetic waves reflected by the energy source and what are their characteristics?\n",
    "4. What are the most common electromagnetic waves used in Remaote sensing?\n",
    "5. Explain the different types of remote sensing;\n",
    "6. What are the most famous open access sensors?\n",
    "7. Explain the different types of resolution?\n",
    "8. What are the temporal resolution of modis, landsat8 and sentinel2?\n",
    "9. Enumerate, specify their electromagnetic waves and explain the utility of four image composite;\n",
    "10. Why are spectral indexes and band ratios more useful to extract information from images?\n",
    "11. Which level of processing is appropriate if you wanted to get Sentinel-2 Surface Reflectance data?\n",
    "12. How many bands in landsat8, sentinel2? Describe each of them."
   ]
  },
  {
   "cell_type": "markdown",
   "id": "c8326c19",
   "metadata": {},
   "source": [
    "## [Quiz from spatialthoughts](https://docs.google.com/forms/d/e/1FAIpQLSdfQJhfAskYQu6okpSojPBWZOgnSnKhLhDQ6IV9vmi0arstgQ/viewform)"
   ]
  }
 ],
 "metadata": {
  "kernelspec": {
   "display_name": "Python 3",
   "language": "python",
   "name": "python3"
  },
  "language_info": {
   "codemirror_mode": {
    "name": "ipython",
    "version": 3
   },
   "file_extension": ".py",
   "mimetype": "text/x-python",
   "name": "python",
   "nbconvert_exporter": "python",
   "pygments_lexer": "ipython3",
   "version": "3.8.8"
  }
 },
 "nbformat": 4,
 "nbformat_minor": 5
}
